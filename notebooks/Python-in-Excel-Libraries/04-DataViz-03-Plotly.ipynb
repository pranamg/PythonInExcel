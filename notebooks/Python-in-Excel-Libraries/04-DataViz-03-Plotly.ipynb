{
 "cells": [
  {
   "cell_type": "markdown",
   "id": "2d8a555c",
   "metadata": {},
   "source": [
    "# Leveraging Plotly in Python in Excel\n",
    "\n",
    "Plotly is an interactive, open-source data visualization library that brings rich, web-based charts to Python in Excel. While Python in Excel natively supports libraries like Matplotlib and Seaborn, you can also import and use Plotly for advanced, interactive visualizations directly in your spreadsheets. Below are key considerations, setup steps, and practical examples.\n",
    "\n",
    "## 1. Availability and Limitations\n",
    "\n",
    "Plotly is included in the Anaconda distribution powering Python in Excel, so you can import it without additional installation. However, due to current platform constraints, only static images are returned; full interactivity (hover, zoom) within the Excel grid is not yet supported.\n",
    "\n",
    "## 2. Importing Plotly\n",
    "\n",
    "Place import statements on the first worksheet to ensure availability throughout your workbook:"
   ]
  },
  {
   "cell_type": "code",
   "execution_count": null,
   "id": "247d95f2",
   "metadata": {},
   "outputs": [],
   "source": [
    "=PY(\n",
    "import plotly.graph_objects as go\n",
    "import plotly.express as px\n",
    ")"
   ]
  },
  {
   "cell_type": "markdown",
   "id": "b03d4d2b",
   "metadata": {},
   "source": [
    "This makes both the low-level graph_objects API and the high-level express API accessible.\n",
    "\n",
    "## 3. Basic Workflow\n",
    "\n",
    "1. **Reference Excel Data**\n",
    "Use `xl()` to pull ranges or table columns into pandas structures for Plotly:\n",
    "    - Single column: `xl(\"Table1[Sales]\")`\n",
    "    - Range with headers: `xl(\"A1:B100\", headers=True)`\n",
    "2. **Create a Figure**\n",
    "    - Plotly Express (concise syntax):"
   ]
  },
  {
   "cell_type": "code",
   "execution_count": null,
   "id": "abb5c2f1",
   "metadata": {},
   "outputs": [],
   "source": [
    "fig = px.bar(\n",
    "  xl(\"SalesData[#All]\", headers=True),\n",
    "  x=\"Category\", y=\"Revenue\",\n",
    "  title=\"Revenue by Category\"\n",
    ")"
   ]
  },
  {
   "cell_type": "markdown",
   "id": "729ad87a",
   "metadata": {},
   "source": [
    "- Graph Objects (flexible control):"
   ]
  },
  {
   "cell_type": "code",
   "execution_count": null,
   "id": "8afd67b6",
   "metadata": {},
   "outputs": [],
   "source": [
    "fig = go.Figure(\n",
    "  data=[go.Scatter(\n",
    "    x=xl(\"TimeSeries[Date]\"),\n",
    "    y=xl(\"TimeSeries[Value]\"),\n",
    "    mode=\"lines+markers\"\n",
    "  )],\n",
    "  layout=go.Layout(title=\"Time Series Trend\")\n",
    ")"
   ]
  },
  {
   "cell_type": "markdown",
   "id": "72c9361c",
   "metadata": {},
   "source": [
    "3. **Display the Chart**\n",
    "Return the figure object in the `=PY()` formula. Excel renders a static image of the Plotly chart in the cell:"
   ]
  },
  {
   "cell_type": "code",
   "execution_count": null,
   "id": "d37ddfb6",
   "metadata": {},
   "outputs": [],
   "source": [
    "=PY(fig)"
   ]
  },
  {
   "cell_type": "markdown",
   "id": "87b81644",
   "metadata": {},
   "source": [
    "## 4. Practical Examples\n",
    "\n",
    "### 4.1 Bar Chart with Plotly Express"
   ]
  },
  {
   "cell_type": "code",
   "execution_count": null,
   "id": "fb00a6b2",
   "metadata": {},
   "outputs": [],
   "source": [
    "=PY(\n",
    "df = xl(\"SalesData[#All]\", headers=True)\n",
    "fig = px.bar(df, x=\"Region\", y=\"Sales\", color=\"Region\",\n",
    "             title=\"Sales by Region\")\n",
    "fig.update_layout(template=\"plotly_white\")\n",
    "fig\n",
    ")"
   ]
  },
  {
   "cell_type": "markdown",
   "id": "70a5a4ff",
   "metadata": {},
   "source": [
    "### 4.2 Interactive-Style Line Plot"
   ]
  },
  {
   "cell_type": "code",
   "execution_count": null,
   "id": "b02879c6",
   "metadata": {},
   "outputs": [],
   "source": [
    "=PY(\n",
    "dates = xl(\"Dates[Date]\")\n",
    "values = xl(\"Values[Amount]\")\n",
    "fig = go.Figure()\n",
    "fig.add_trace(go.Scatter(x=dates, y=values,\n",
    "                         mode=\"lines+markers\",\n",
    "                         line=dict(color=\"royalblue\")))\n",
    "fig.update_layout(title=\"Daily Amount Trend\",\n",
    "                  xaxis_title=\"Date\", yaxis_title=\"Amount\")\n",
    "fig\n",
    ")"
   ]
  },
  {
   "cell_type": "markdown",
   "id": "6cdbf44a",
   "metadata": {},
   "source": [
    "### 4.3 Pie Chart for Composition"
   ]
  },
  {
   "cell_type": "code",
   "execution_count": null,
   "id": "cae57dac",
   "metadata": {},
   "outputs": [],
   "source": [
    "=PY(\n",
    "df = xl(\"CategoryData[#All]\", headers=True)\n",
    "fig = px.pie(df, names=\"Category\", values=\"Count\",\n",
    "             title=\"Category Distribution\")\n",
    "fig.update_traces(textposition=\"inside\", textinfo=\"percent+label\")\n",
    "fig\n",
    ")"
   ]
  },
  {
   "cell_type": "markdown",
   "id": "2758aaa4",
   "metadata": {},
   "source": [
    "## 5. Customization and Styling\n",
    "\n",
    "- **Themes and Templates**: Use `fig.update_layout(template=\"plotly_dark\")` to switch themes.\n",
    "- **Annotations**: Add `fig.add_annotation()` for custom text or shapes.\n",
    "- **Static Export**: While interactive HTML export isn’t supported, you can configure Plotly’s `kaleido` for static image generation locally—though not available in the cloud runtime.\n",
    "\n",
    "## 6. Best Practices\n",
    "\n",
    "- **Import Once**: Consolidate imports on the first sheet to avoid redundancy.\n",
    "- **Data Preparation**: Clean and transform data with pandas inside `=PY()` before plotting.\n",
    "- **Performance**: For large datasets, sample or aggregate data to maintain responsiveness.\n",
    "\n",
    "By importing Plotly in Python in Excel, you can elevate your spreadsheets with publication-quality static visualizations generated by a powerful, declarative API—unlocking new insights while staying within the familiar Excel interface."
   ]
  }
 ],
 "metadata": {},
 "nbformat": 4,
 "nbformat_minor": 5
}
