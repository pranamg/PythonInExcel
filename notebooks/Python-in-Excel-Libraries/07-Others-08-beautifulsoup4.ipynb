{
 "cells": [
  {
   "cell_type": "markdown",
   "id": "df01c594",
   "metadata": {},
   "source": [
    "# Leveraging BeautifulSoup4 in Python in Excel\n",
    "\n",
    "BeautifulSoup4 (bs4) is a Python library for parsing HTML and XML documents, enabling web scraping and data extraction. With Python in Excel, you can use BeautifulSoup4 to process web content and extract structured data directly into your spreadsheet.\n",
    "\n",
    "## 1. Setup and Import\n",
    "\n",
    "To use BeautifulSoup4 in Python in Excel, import it on the first worksheet:"
   ]
  },
  {
   "cell_type": "code",
   "execution_count": null,
   "id": "a4bfc359",
   "metadata": {},
   "outputs": [],
   "source": [
    "=PY(\n",
    "from bs4 import BeautifulSoup\n",
    ")"
   ]
  },
  {
   "cell_type": "markdown",
   "id": "a9c212c4",
   "metadata": {},
   "source": [
    "## 2. Parsing HTML Content\n",
    "\n",
    "You can parse HTML content loaded from Excel cells or external sources:"
   ]
  },
  {
   "cell_type": "code",
   "execution_count": null,
   "id": "ca107226",
   "metadata": {},
   "outputs": [],
   "source": [
    "=PY(\n",
    "html = xl(\"A2\")\n",
    "soup = BeautifulSoup(html, 'html.parser')\n",
    "titles = [tag.text for tag in soup.find_all('h1')]\n",
    "titles\n",
    ")"
   ]
  },
  {
   "cell_type": "markdown",
   "id": "e10a656a",
   "metadata": {},
   "source": [
    "## 3. Extracting Data from Web Pages\n",
    "\n",
    "BeautifulSoup4 can be used with requests or urllib to fetch and parse web pages:"
   ]
  },
  {
   "cell_type": "code",
   "execution_count": null,
   "id": "5cf4e798",
   "metadata": {},
   "outputs": [],
   "source": [
    "=PY(\n",
    "import requests\n",
    "url = xl(\"A2\")\n",
    "response = requests.get(url)\n",
    "soup = BeautifulSoup(response.text, 'html.parser')\n",
    "links = [a['href'] for a in soup.find_all('a', href=True)]\n",
    "links\n",
    ")"
   ]
  },
  {
   "cell_type": "markdown",
   "id": "8d2738f7",
   "metadata": {},
   "source": [
    "## 4. Best Practices\n",
    "\n",
    "- Place all imports on the first worksheet.\n",
    "- Use `xl()` to load HTML or URLs from Excel cells.\n",
    "- For large documents, extract only the required elements to optimize performance.\n",
    "\n",
    "By integrating BeautifulSoup4 with Python in Excel, you can automate web data extraction and analysis within your spreadsheets.\n",
    "\n",
    "<div style=\"text-align: center\">⁂</div>"
   ]
  }
 ],
 "metadata": {},
 "nbformat": 4,
 "nbformat_minor": 5
}
