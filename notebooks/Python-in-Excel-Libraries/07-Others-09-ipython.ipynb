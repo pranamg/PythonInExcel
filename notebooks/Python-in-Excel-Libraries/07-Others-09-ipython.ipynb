{
 "cells": [
  {
   "cell_type": "markdown",
   "id": "7dcd4f88",
   "metadata": {},
   "source": [
    "# Leveraging IPython in Python in Excel\n",
    "\n",
    "IPython is an enhanced interactive Python shell that provides advanced features for interactive computing, such as rich introspection, shell syntax, tab completion, and magic commands. While Python in Excel does not expose the full IPython shell, many IPython utilities and display functions can be used within Excel’s Python environment for improved interactivity and output formatting.\n",
    "\n",
    "## 1. Setup and Import\n",
    "\n",
    "To use IPython features in Python in Excel, import the display utilities on the first worksheet:"
   ]
  },
  {
   "cell_type": "code",
   "execution_count": null,
   "id": "cfb692c7",
   "metadata": {},
   "outputs": [],
   "source": [
    "=PY(\n",
    "from IPython.display import display, HTML, Markdown\n",
    ")"
   ]
  },
  {
   "cell_type": "markdown",
   "id": "1739595b",
   "metadata": {},
   "source": [
    "## 2. Rich Output in Excel\n",
    "\n",
    "You can use IPython’s display functions to render HTML, Markdown, or formatted objects in Excel cells:"
   ]
  },
  {
   "cell_type": "code",
   "execution_count": null,
   "id": "3a3fc159",
   "metadata": {},
   "outputs": [],
   "source": [
    "=PY(\n",
    "display(Markdown(\"**Bold text in Excel**\"))\n",
    "display(HTML(\"<b>HTML content in Excel</b>\"))\n",
    ")"
   ]
  },
  {
   "cell_type": "markdown",
   "id": "13c9dd11",
   "metadata": {},
   "source": [
    "## 3. Displaying DataFrames\n",
    "\n",
    "IPython’s display function can be used to show DataFrames with enhanced formatting:"
   ]
  },
  {
   "cell_type": "code",
   "execution_count": null,
   "id": "9d8177b6",
   "metadata": {},
   "outputs": [],
   "source": [
    "=PY(\n",
    "import pandas as pd\n",
    "df = xl(\"Data[#All]\", headers=True)\n",
    "display(df)\n",
    ")"
   ]
  },
  {
   "cell_type": "markdown",
   "id": "d3d8b752",
   "metadata": {},
   "source": [
    "## 4. Best Practices\n",
    "\n",
    "- Place all imports on the first worksheet.\n",
    "- Use display utilities for enhanced output formatting.\n",
    "- For large outputs, consider summarizing or paginating data.\n",
    "\n",
    "By leveraging IPython’s display features in Python in Excel, you can create more interactive and visually appealing outputs in your spreadsheets.\n",
    "\n",
    "<div style=\"text-align: center\">⁂</div>"
   ]
  }
 ],
 "metadata": {},
 "nbformat": 4,
 "nbformat_minor": 5
}
