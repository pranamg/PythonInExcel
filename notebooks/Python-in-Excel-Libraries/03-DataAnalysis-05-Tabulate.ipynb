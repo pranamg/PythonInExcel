{
 "cells": [
  {
   "cell_type": "markdown",
   "id": "493e508c",
   "metadata": {},
   "source": [
    "# Leveraging Tabulate in Python in Excel\n",
    "\n",
    "Tabulate is a Python library for formatting tabular data as plain-text tables, HTML, LaTeX, and more. With Python in Excel, you can use Tabulate to create readable, well-formatted tables for reports, documentation, or display directly within your spreadsheets.\n",
    "\n",
    "## 1. Setup and Imports\n",
    "\n",
    "To use Tabulate, reserve the first worksheet for import statements:"
   ]
  },
  {
   "cell_type": "code",
   "execution_count": null,
   "id": "7505a1ca",
   "metadata": {},
   "outputs": [],
   "source": [
    "=PY(\n",
    "from tabulate import tabulate\n",
    ")"
   ]
  },
  {
   "cell_type": "markdown",
   "id": "f19a460c",
   "metadata": {},
   "source": [
    "This makes the `tabulate` function available for all subsequent Python cells.\n",
    "\n",
    "## 2. Formatting DataFrames and Lists\n",
    "\n",
    "- **Format a pandas DataFrame:**"
   ]
  },
  {
   "cell_type": "code",
   "execution_count": null,
   "id": "62e2a194",
   "metadata": {},
   "outputs": [],
   "source": [
    "=PY(\n",
    "import pandas as pd\n",
    "df = pd.DataFrame({'A': [1, 2], 'B': [3, 4]})\n",
    "tab = tabulate(df, headers='keys', tablefmt='github')\n",
    "tab\n",
    ")"
   ]
  },
  {
   "cell_type": "markdown",
   "id": "97ec8df3",
   "metadata": {},
   "source": [
    "- **Format a list of lists:**"
   ]
  },
  {
   "cell_type": "code",
   "execution_count": null,
   "id": "7f89e91e",
   "metadata": {},
   "outputs": [],
   "source": [
    "=PY(\n",
    "data = [[\"Alice\", 24], [\"Bob\", 19]]\n",
    "tab = tabulate(data, headers=[\"Name\", \"Age\"], tablefmt='grid')\n",
    "tab\n",
    ")"
   ]
  },
  {
   "cell_type": "markdown",
   "id": "978896d1",
   "metadata": {},
   "source": [
    "## 3. Output Formats\n",
    "\n",
    "- **Plain text:** `tablefmt='plain'`\n",
    "- **Grid:** `tablefmt='grid'`\n",
    "- **GitHub Markdown:** `tablefmt='github'`\n",
    "- **HTML:** `tablefmt='html'`\n",
    "- **LaTeX:** `tablefmt='latex'`\n",
    "\n",
    "## 4. Best Practices\n",
    "\n",
    "- **Imports Once**: Place all import statements on the first worksheet.\n",
    "- **Data Preparation**: Clean and structure data before formatting.\n",
    "- **Output Management**: Return formatted strings for display in Excel or export.\n",
    "- **Performance**: For large tables, sample or summarize data to maintain readability.\n",
    "\n",
    "By leveraging Tabulate in Python in Excel, you can create attractive, readable tables for reports and documentation, enhancing the presentation of your data within spreadsheets."
   ]
  }
 ],
 "metadata": {},
 "nbformat": 4,
 "nbformat_minor": 5
}
