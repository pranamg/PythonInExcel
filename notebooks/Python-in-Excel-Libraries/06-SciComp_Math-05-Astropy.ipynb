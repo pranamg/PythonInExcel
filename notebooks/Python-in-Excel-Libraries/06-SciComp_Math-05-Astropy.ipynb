{
 "cells": [
  {
   "cell_type": "markdown",
   "id": "b1eec877",
   "metadata": {},
   "source": [
    "# Leveraging Astropy in Python in Excel\n",
    "\n",
    "Astropy is a comprehensive Python library for astronomy and astrophysics, providing tools for celestial coordinate transformations, time conversions, unit handling, and more. With Python in Excel, you can use Astropy to perform scientific calculations and data analysis for astronomical datasets directly within your spreadsheets.\n",
    "\n",
    "## 1. Setup and Imports\n",
    "\n",
    "To use Astropy, reserve the first worksheet for import statements:"
   ]
  },
  {
   "cell_type": "code",
   "execution_count": null,
   "id": "3964ede2",
   "metadata": {},
   "outputs": [],
   "source": [
    "=PY(\n",
    "import astropy.units as u\n",
    "from astropy.coordinates import SkyCoord\n",
    "from astropy.time import Time\n",
    ")"
   ]
  },
  {
   "cell_type": "markdown",
   "id": "9c4c1a07",
   "metadata": {},
   "source": [
    "This makes the main Astropy modules available for all subsequent Python cells.\n",
    "\n",
    "## 2. Coordinate Transformations\n",
    "\n",
    "- **Convert between coordinate systems:**"
   ]
  },
  {
   "cell_type": "code",
   "execution_count": null,
   "id": "9621662d",
   "metadata": {},
   "outputs": [],
   "source": [
    "=PY(\n",
    "coord = SkyCoord(ra=10.684*u.degree, dec=41.269*u.degree, frame='icrs')\n",
    "galactic = coord.galactic\n",
    "(galactic.l.deg, galactic.b.deg)\n",
    ")"
   ]
  },
  {
   "cell_type": "markdown",
   "id": "cf8bcd4e",
   "metadata": {},
   "source": [
    "## 3. Time Conversions\n",
    "\n",
    "- **Convert between time formats:**"
   ]
  },
  {
   "cell_type": "code",
   "execution_count": null,
   "id": "b96d1b63",
   "metadata": {},
   "outputs": [],
   "source": [
    "=PY(\n",
    "t = Time('2025-06-22T12:00:00', format='isot', scale='utc')\n",
    "jd = t.jd\n",
    "jd\n",
    ")"
   ]
  },
  {
   "cell_type": "markdown",
   "id": "18fa4bc2",
   "metadata": {},
   "source": [
    "## 4. Unit Conversions\n",
    "\n",
    "- **Convert between units:**"
   ]
  },
  {
   "cell_type": "code",
   "execution_count": null,
   "id": "3fe2d37a",
   "metadata": {},
   "outputs": [],
   "source": [
    "=PY(\n",
    "from astropy import units as u\n",
    "length = 10 * u.meter\n",
    "length_in_km = length.to(u.kilometer)\n",
    "length_in_km\n",
    ")"
   ]
  },
  {
   "cell_type": "markdown",
   "id": "1b7d3203",
   "metadata": {},
   "source": [
    "## 5. Reading and Writing FITS Files\n",
    "\n",
    "- **Read a FITS file:**"
   ]
  },
  {
   "cell_type": "code",
   "execution_count": null,
   "id": "af94e7f1",
   "metadata": {},
   "outputs": [],
   "source": [
    "=PY(\n",
    "from astropy.io import fits\n",
    "hdul = fits.open('example.fits')\n",
    "data = hdul[0].data\n",
    "data\n",
    ")"
   ]
  },
  {
   "cell_type": "markdown",
   "id": "e01f9f58",
   "metadata": {},
   "source": [
    "## 6. Best Practices\n",
    "\n",
    "- **Imports Once**: Place all import statements on the first worksheet.\n",
    "- **Data Preparation**: Clean and structure astronomical data before analysis.\n",
    "- **Output Management**: Return arrays, tables, or scalar values for review in Excel.\n",
    "- **Performance**: For large datasets, sample or preprocess data to maintain responsiveness.\n",
    "\n",
    "By leveraging Astropy in Python in Excel, you can perform advanced astronomical calculations and data analysis directly in your spreadsheets, making scientific workflows accessible to all Excel users."
   ]
  }
 ],
 "metadata": {},
 "nbformat": 4,
 "nbformat_minor": 5
}
