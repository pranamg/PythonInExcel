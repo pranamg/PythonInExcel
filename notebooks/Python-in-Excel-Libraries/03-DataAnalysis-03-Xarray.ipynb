{
 "cells": [
  {
   "cell_type": "markdown",
   "id": "766b2609",
   "metadata": {},
   "source": [
    "# Leveraging Xarray in Python in Excel\n",
    "\n",
    "Xarray is a powerful Python library for working with labeled, N-dimensional arrays and datasets, making it ideal for complex analytics such as time-series, geospatial, and scientific data. Within Python in Excel, you can harness Xarray’s expressive data model directly in spreadsheet cells to perform advanced data manipulation and analysis without leaving Excel’s familiar interface.\n",
    "\n",
    "## 1. Getting Started\n",
    "\n",
    "### 1.1 Importing Xarray\n",
    "\n",
    "Reserve the first worksheet in your workbook for imports to ensure libraries load before any calculations. In a Python cell, enter:"
   ]
  },
  {
   "cell_type": "code",
   "execution_count": null,
   "id": "1c8904ef",
   "metadata": {},
   "outputs": [],
   "source": [
    "=PY(\n",
    "import xarray as xr\n",
    ")"
   ]
  },
  {
   "cell_type": "markdown",
   "id": "7bfdd725",
   "metadata": {},
   "source": [
    "This makes the `xr` alias available throughout the workbook.\n",
    "\n",
    "### 1.2 Referencing Excel Data\n",
    "\n",
    "Use the `xl()` function to load Excel ranges or tables into a pandas DataFrame, then convert to an Xarray object:"
   ]
  },
  {
   "cell_type": "code",
   "execution_count": null,
   "id": "9b14eb98",
   "metadata": {},
   "outputs": [],
   "source": [
    "=PY(\n",
    "import pandas as pd\n",
    "df = xl(\"MyTable[#All]\", headers=True)\n",
    "ds = xr.Dataset.from_dataframe(df)\n",
    "ds\n",
    ")"
   ]
  },
  {
   "cell_type": "markdown",
   "id": "4f5c8af1",
   "metadata": {},
   "source": [
    "Alternatively, for simple 2D arrays, convert directly to a DataArray:"
   ]
  },
  {
   "cell_type": "code",
   "execution_count": null,
   "id": "bfc43704",
   "metadata": {},
   "outputs": [],
   "source": [
    "=PY(\n",
    "arr = xr.DataArray(xl(\"A1:C10\", headers=True),\n",
    "                   dims=[\"row\",\"col\"])\n",
    "arr\n",
    ")"
   ]
  },
  {
   "cell_type": "markdown",
   "id": "d4562326",
   "metadata": {},
   "source": [
    "This bridges Excel data with Xarray’s labeled arrays for further analysis.\n",
    "\n",
    "## 2. Core Xarray Concepts\n",
    "\n",
    "### 2.1 DataArray and Dataset\n",
    "\n",
    "- **DataArray**: N-dimensional array with labeled dimensions, coordinates, and attributes.\n",
    "- **Dataset**: Collection of multiple DataArrays sharing dimensions.\n",
    "\n",
    "Example:"
   ]
  },
  {
   "cell_type": "code",
   "execution_count": null,
   "id": "1c69d1ab",
   "metadata": {},
   "outputs": [],
   "source": [
    "=PY(\n",
    "da = xr.DataArray(\n",
    "    xl(\"TempData[#All]\", headers=True),\n",
    "    dims=[\"time\",\"location\"],\n",
    "    coords={\"time\": pd.to_datetime(xl(\"TimeRange[A2:A25]\", headers=False))}\n",
    ")\n",
    "ds = xr.Dataset({\"temperature\": da})\n",
    "ds\n",
    ")"
   ]
  },
  {
   "cell_type": "markdown",
   "id": "eae902c0",
   "metadata": {},
   "source": [
    "This creates a time-indexed temperature dataset for multiple locations.\n",
    "\n",
    "### 2.2 Indexing & Selection\n",
    "\n",
    "Access elements using dimension names:"
   ]
  },
  {
   "cell_type": "code",
   "execution_count": null,
   "id": "d0597fc3",
   "metadata": {},
   "outputs": [],
   "source": [
    "=PY(\n",
    "subset = ds.temperature.sel(location=\"SiteA\", method=\"nearest\")\n",
    "subset.mean(dim=\"time\")\n",
    ")"
   ]
  },
  {
   "cell_type": "markdown",
   "id": "90e87cd4",
   "metadata": {},
   "source": [
    "This selects data for “SiteA” and computes its time average.\n",
    "\n",
    "## 3. Common Workflows\n",
    "\n",
    "### 3.1 Statistical Summaries\n",
    "\n",
    "Leverage Xarray’s built-in aggregation:"
   ]
  },
  {
   "cell_type": "code",
   "execution_count": null,
   "id": "370b6bf3",
   "metadata": {},
   "outputs": [],
   "source": [
    "=PY(\n",
    "monthly = ds.resample(time=\"1M\").mean()\n",
    "monthly.temperature\n",
    ")"
   ]
  },
  {
   "cell_type": "markdown",
   "id": "804440c1",
   "metadata": {},
   "source": [
    "This computes monthly mean temperatures from daily data.\n",
    "\n",
    "### 3.2 Arithmetic & Alignment\n",
    "\n",
    "Xarray auto-aligns data on shared coordinates:"
   ]
  },
  {
   "cell_type": "code",
   "execution_count": null,
   "id": "c64cd386",
   "metadata": {},
   "outputs": [],
   "source": [
    "=PY(\n",
    "ds2 = xr.Dataset.from_dataframe(xl(\"OtherData[#All]\", headers=True))\n",
    "combined = ds + ds2\n",
    "combined\n",
    ")"
   ]
  },
  {
   "cell_type": "markdown",
   "id": "6bf7942f",
   "metadata": {},
   "source": [
    "This merges datasets by matching dimensions and coordinates.\n",
    "\n",
    "### 3.3 Handling Missing Data\n",
    "\n",
    "Use interpolation or filling methods:"
   ]
  },
  {
   "cell_type": "code",
   "execution_count": null,
   "id": "69633914",
   "metadata": {},
   "outputs": [],
   "source": [
    "=PY(\n",
    "filled = ds.temperature.interpolate_na(dim=\"time\", method=\"linear\")\n",
    "filled\n",
    ")"
   ]
  },
  {
   "cell_type": "markdown",
   "id": "c6803c24",
   "metadata": {},
   "source": [
    "This linearly interpolates missing time-series values.\n",
    "\n",
    "## 4. Advanced Applications\n",
    "\n",
    "### 4.1 Multi-Dimensional Analysis\n",
    "\n",
    "With more than two dimensions, perform operations across axes:"
   ]
  },
  {
   "cell_type": "code",
   "execution_count": null,
   "id": "64783098",
   "metadata": {},
   "outputs": [],
   "source": [
    "=PY(\n",
    "# Example: computing climatology\n",
    "climatology = ds.temperature.groupby(\"time.month\").mean(\"time\")\n",
    "climatology\n",
    ")"
   ]
  },
  {
   "cell_type": "markdown",
   "id": "ce4b7b52",
   "metadata": {},
   "source": [
    "This calculates average temperature for each calendar month across years.\n",
    "\n",
    "### 4.2 Interoperability with Dask\n",
    "\n",
    "For large datasets, enable parallel computing:"
   ]
  },
  {
   "cell_type": "code",
   "execution_count": null,
   "id": "6fc69af7",
   "metadata": {},
   "outputs": [],
   "source": [
    "=PY(\n",
    "import dask.array as da\n",
    "ds_chunked = ds.chunk({\"time\": 365})\n",
    "ds_dask = ds_chunked.map_blocks(lambda x: x.mean(dim=\"time\"))\n",
    "ds_dask.temperature.compute()\n",
    ")"
   ]
  },
  {
   "cell_type": "markdown",
   "id": "3f11241f",
   "metadata": {},
   "source": [
    "This processes data in chunks for scalable performance.\n",
    "\n",
    "## 5. Output & Visualization\n",
    "\n",
    "### 5.1 Returning Results to Excel\n",
    "\n",
    "By default, Xarray objects appear as Python objects. To spill results into cells, right-click the Python cell and choose **Output as → Excel Values**, or return DataFrames:"
   ]
  },
  {
   "cell_type": "code",
   "execution_count": null,
   "id": "d3d0c199",
   "metadata": {},
   "outputs": [],
   "source": [
    "=PY(\n",
    "df = ds.to_dataframe()\n",
    "df.head()\n",
    ")"
   ]
  },
  {
   "cell_type": "markdown",
   "id": "3e716ed5",
   "metadata": {},
   "source": [
    "This spills the first rows of the dataset into the grid for further Excel processing.\n",
    "\n",
    "### 5.2 Charting with Python in Excel\n",
    "\n",
    "Combine Xarray with plotting libraries:"
   ]
  },
  {
   "cell_type": "code",
   "execution_count": null,
   "id": "70add7bc",
   "metadata": {},
   "outputs": [],
   "source": [
    "=PY(\n",
    "import matplotlib.pyplot as plt\n",
    "ds.temperature.sel(location=\"SiteA\").plot()\n",
    "plt.title(\"SiteA Temperature Time Series\")\n",
    ")"
   ]
  },
  {
   "cell_type": "markdown",
   "id": "a149b764",
   "metadata": {},
   "source": [
    "This generates a time-series plot directly in Excel using Matplotlib.\n",
    "\n",
    "## 6. Best Practices\n",
    "\n",
    "- **Import Once**: Place all imports (e.g., `import xarray as xr`) on the first worksheet to load dependencies before calculations.\n",
    "- **Data Preparation**: Use Pandas to clean or reshape data before converting to Xarray for analysis.\n",
    "- **Dimension Naming**: Choose clear dimension names (e.g., `time`, `lat`, `lon`) to simplify indexing and grouping.\n",
    "- **Chunking**: For large arrays, leverage Dask integration (`.chunk()`) to maintain responsiveness.\n",
    "- **Stepwise Development**: Break complex operations into multiple cells following row-major execution order for clarity and debugging.\n",
    "\n",
    "By integrating Xarray within Python in Excel, analysts can perform powerful, labeled multi-dimensional data analyses—such as climatology, time-series aggregation, and geospatial processing—directly within the spreadsheet environment, seamlessly combining Python’s data model with Excel’s interface."
   ]
  }
 ],
 "metadata": {},
 "nbformat": 4,
 "nbformat_minor": 5
}
