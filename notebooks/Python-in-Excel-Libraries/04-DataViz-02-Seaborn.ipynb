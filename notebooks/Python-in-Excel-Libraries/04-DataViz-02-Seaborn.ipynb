{
 "cells": [
  {
   "cell_type": "markdown",
   "id": "3f1e8f61",
   "metadata": {},
   "source": [
    "# Leveraging Seaborn in Python in Excel\n",
    "\n",
    "Seaborn is included by default in Python in Excel via the Anaconda distribution, imported as `sns`. Its high-level interface simplifies creation of statistically informed, aesthetically pleasing visualizations directly within Excel cells. Below is an organized guide to using Seaborn for data visualization in Python in Excel.\n",
    "\n",
    "## 1. Setup and Imports\n",
    "\n",
    "1. Reserve the first worksheet in your workbook for imports and settings.\n",
    "2. Enter import statements in a Python cell (`=PY(`…`)`) so that they load before any dependent formulas:"
   ]
  },
  {
   "cell_type": "code",
   "execution_count": null,
   "id": "69a9ca6c",
   "metadata": {},
   "outputs": [],
   "source": [
    "=PY(\n",
    "import seaborn as sns\n",
    ")"
   ]
  },
  {
   "cell_type": "markdown",
   "id": "77fe7eef",
   "metadata": {},
   "source": [
    "Python in Excel persists imports across the workbook.\n",
    "\n",
    "## 2. Referencing Excel Data\n",
    "\n",
    "- Use `xl()` to pull data into pandas structures:\n",
    "    - Entire table: `xl(\"Table1[#All]\", headers=True)`\n",
    "    - Single column: `xl(\"Table1[ColumnName]\")`\n",
    "    - Range with headers: `xl(\"A1:C100\", headers=True)`\n",
    "\n",
    "## 3. Axis-Level Plots\n",
    "\n",
    "Axis-level functions create single, focused plots.\n",
    "\n",
    "### 3.1 Scatter Plot"
   ]
  },
  {
   "cell_type": "code",
   "execution_count": null,
   "id": "1cc2b4f1",
   "metadata": {},
   "outputs": [],
   "source": [
    "=PY(\n",
    "sns.scatterplot(\n",
    "    x=xl(\"MyData[FeatureX]\"),\n",
    "    y=xl(\"MyData[FeatureY]\"),\n",
    "    hue=xl(\"MyData[Category]\")\n",
    ")\n",
    ")"
   ]
  },
  {
   "cell_type": "markdown",
   "id": "510598df",
   "metadata": {},
   "source": [
    "### 3.2 Bar Plot"
   ]
  },
  {
   "cell_type": "code",
   "execution_count": null,
   "id": "c6db9c0c",
   "metadata": {},
   "outputs": [],
   "source": [
    "=PY(\n",
    "sns.barplot(\n",
    "    x=xl(\"Sales[Region]\"),\n",
    "    y=xl(\"Sales[Revenue]\")\n",
    ")\n",
    ")"
   ]
  },
  {
   "cell_type": "markdown",
   "id": "dec4262e",
   "metadata": {},
   "source": [
    "### 3.3 Histogram"
   ]
  },
  {
   "cell_type": "code",
   "execution_count": null,
   "id": "2be20dab",
   "metadata": {},
   "outputs": [],
   "source": [
    "=PY(\n",
    "sns.histplot(\n",
    "    data=xl(\"Data[Value]\"),\n",
    "    bins=20,\n",
    "    kde=True\n",
    ")\n",
    ")"
   ]
  },
  {
   "cell_type": "markdown",
   "id": "300a180b",
   "metadata": {},
   "source": [
    "## 4. Figure-Level Plots\n",
    "\n",
    "### 4.1 Pair Plot"
   ]
  },
  {
   "cell_type": "code",
   "execution_count": null,
   "id": "999bed33",
   "metadata": {},
   "outputs": [],
   "source": [
    "=PY(\n",
    "pairplot = sns.pairplot(\n",
    "    xl(\"Table1[#All]\", headers=True)\n",
    ")\n",
    ")"
   ]
  },
  {
   "cell_type": "markdown",
   "id": "003fa0e6",
   "metadata": {},
   "source": [
    "### 4.2 Cat Plot (Categorical Facets)"
   ]
  },
  {
   "cell_type": "code",
   "execution_count": null,
   "id": "cb2c3396",
   "metadata": {},
   "outputs": [],
   "source": [
    "=PY(\n",
    "sns.catplot(\n",
    "    data=xl(\"Survey[#All]\", headers=True),\n",
    "    x=\"Group\", y=\"Score\", col=\"Category\",\n",
    "    kind=\"box\"\n",
    ")\n",
    ")"
   ]
  },
  {
   "cell_type": "markdown",
   "id": "c7848ea6",
   "metadata": {},
   "source": [
    "## 5. Styling and Themes\n",
    "\n",
    "Adjust global aesthetics before plotting:"
   ]
  },
  {
   "cell_type": "code",
   "execution_count": null,
   "id": "81780587",
   "metadata": {},
   "outputs": [],
   "source": [
    "=PY(\n",
    "sns.set_theme(style=\"whitegrid\", palette=\"pastel\")\n",
    ")"
   ]
  },
  {
   "cell_type": "markdown",
   "id": "870941b1",
   "metadata": {},
   "source": [
    "## 6. Customization\n",
    "\n",
    "- **Titles & Labels**: Call Matplotlib methods after Seaborn call:"
   ]
  },
  {
   "cell_type": "code",
   "execution_count": null,
   "id": "407d58f5",
   "metadata": {},
   "outputs": [],
   "source": [
    "=PY(\n",
    "ax = sns.barplot(...)\n",
    "ax.set_title(\"Revenue by Region\")\n",
    "ax.set_xlabel(\"Region\")\n",
    ")"
   ]
  },
  {
   "cell_type": "markdown",
   "id": "5ffe719f",
   "metadata": {},
   "source": [
    "- **Figure Size**: Use Matplotlib’s `plt.gcf().set_size_inches(width, height)` within the same cell.\n",
    "\n",
    "## 7. Extracting and Displaying Plots\n",
    "\n",
    "After committing a Python formula, Excel shows an image icon. To view or resize:\n",
    "- **Display over cells**: Right-click the icon → **Display Plot over Cells**.\n",
    "- **Embed in cell**: Select **Excel Value** in the Python output menu.\n",
    "\n",
    "## 8. Best Practices\n",
    "\n",
    "- **Row-Major Order**: Enter dependent formulas in subsequent rows.\n",
    "- **Performance**: For large datasets, filter or sample in Python before plotting.\n",
    "- **Reuse Imports**: Consolidate imports on the first sheet to avoid redundancy.\n",
    "\n",
    "By following these steps, you can harness Seaborn’s powerful visualization capabilities directly within Excel, enabling sophisticated exploration and presentation of data without leaving the spreadsheet environment."
   ]
  }
 ],
 "metadata": {},
 "nbformat": 4,
 "nbformat_minor": 5
}
