{
 "cells": [
  {
   "cell_type": "markdown",
   "id": "b209d2ca",
   "metadata": {},
   "source": [
    "# Leveraging PyTables in Python in Excel\n",
    "\n",
    "PyTables is a Python library built on top of the HDF5 format and NumPy that efficiently handles large hierarchical datasets in a tabular or array-based structure. When used within Excel’s Python integration, PyTables enables creation, storage, and querying of high-performance HDF5 files directly from spreadsheet cells.\n",
    "\n",
    "## 1. Setup and Imports\n",
    "\n",
    "To use PyTables in Excel, place your imports on the first worksheet so they load before any formulas:"
   ]
  },
  {
   "cell_type": "code",
   "execution_count": null,
   "id": "365e344c",
   "metadata": {},
   "outputs": [],
   "source": [
    "=PY(\n",
    "import tables as tb\n",
    "import pandas as pd\n",
    ")"
   ]
  },
  {
   "cell_type": "markdown",
   "id": "ccfdea19",
   "metadata": {},
   "source": [
    "This ensures the `tables` namespace and pandas are available across all Python cells in the workbook [^34_1].\n",
    "\n",
    "## 2. Creating and Opening HDF5 Files\n",
    "\n",
    "### 2.1 Opening an HDF5 File\n",
    "\n",
    "Use `tb.open_file()` to open or create a file:"
   ]
  },
  {
   "cell_type": "code",
   "execution_count": null,
   "id": "585f08eb",
   "metadata": {},
   "outputs": [],
   "source": [
    "=PY(\n",
    "h5file = tb.open_file(\"data.h5\", mode=\"a\")\n",
    ")"
   ]
  },
  {
   "cell_type": "markdown",
   "id": "caa9f767",
   "metadata": {},
   "source": [
    "- `mode=\"a\"` opens for read/write, creating it if absent [^34_1].\n",
    "\n",
    "\n",
    "### 2.2 Creating Groups and Tables\n",
    "\n",
    "Groups are like folders; tables store records:"
   ]
  },
  {
   "cell_type": "code",
   "execution_count": null,
   "id": "d98d95d8",
   "metadata": {},
   "outputs": [],
   "source": [
    "=PY(\n",
    "group = h5file.create_group(\"/\", \"experiments\", \"Experiment Data\")\n",
    "table = h5file.create_table(\n",
    "    group, \"results\",\n",
    "    {'id': tb.Int32Col(), 'value': tb.Float64Col()},\n",
    "    \"Results Table\"\n",
    ")\n",
    ")"
   ]
  },
  {
   "cell_type": "markdown",
   "id": "2280a7a6",
   "metadata": {},
   "source": [
    "This defines a table `results` with integer `id` and float `value` columns under `/experiments` [^34_1].\n",
    "\n",
    "## 3. Inserting and Querying Data\n",
    "\n",
    "### 3.1 Inserting Rows\n",
    "\n",
    "Use the table’s `row` attribute:"
   ]
  },
  {
   "cell_type": "code",
   "execution_count": null,
   "id": "d7f77e20",
   "metadata": {},
   "outputs": [],
   "source": [
    "=PY(\n",
    "row = table.row\n",
    "for i, val in enumerate([0.1, 0.2, 0.3]):\n",
    "    row['id'] = i\n",
    "    row['value'] = val\n",
    "    row.append()\n",
    "table.flush()\n",
    ")"
   ]
  },
  {
   "cell_type": "markdown",
   "id": "9515e0e5",
   "metadata": {},
   "source": [
    "`append()` stages each row; `flush()` writes to disk [^34_1].\n",
    "\n",
    "### 3.2 Reading Tables into DataFrames\n",
    "\n",
    "Convert a PyTables table to pandas for further analysis:"
   ]
  },
  {
   "cell_type": "code",
   "execution_count": null,
   "id": "a45c1adc",
   "metadata": {},
   "outputs": [],
   "source": [
    "=PY(\n",
    "df = table.read_dataframe()\n",
    "df\n",
    ")"
   ]
  },
  {
   "cell_type": "markdown",
   "id": "28b8d1a1",
   "metadata": {},
   "source": [
    "This spills a DataFrame into Excel cells for native formulas and charts [^34_1].\n",
    "\n",
    "### 3.3 Querying with Conditions\n",
    "\n",
    "Use PyTables’ selection syntax:"
   ]
  },
  {
   "cell_type": "code",
   "execution_count": null,
   "id": "b0d6cd3a",
   "metadata": {},
   "outputs": [],
   "source": [
    "=PY(\n",
    "subset = table.read_where('value > 0.15')\n",
    "pd.DataFrame(subset)\n",
    ")"
   ]
  },
  {
   "cell_type": "markdown",
   "id": "bdfa5ba4",
   "metadata": {},
   "source": [
    "This fetches rows satisfying the condition and returns a DataFrame [^34_1].\n",
    "\n",
    "## 4. Performance and Compression\n",
    "\n",
    "PyTables supports chunking and compression to optimize storage and access speed:"
   ]
  },
  {
   "cell_type": "code",
   "execution_count": null,
   "id": "eb2b8101",
   "metadata": {},
   "outputs": [],
   "source": [
    "=PY(\n",
    "filter = tb.Filters(complevel=5, complib='blosc')\n",
    "table2 = h5file.create_table(\n",
    "    '/', 'compressed', \n",
    "    {'x': tb.Float64Col()}, \n",
    "    filters=filter\n",
    ")\n",
    ")"
   ]
  },
  {
   "cell_type": "markdown",
   "id": "ae61bdae",
   "metadata": {},
   "source": [
    "This creates a compressed table using the Blosc library at compression level 5 [^34_1].\n",
    "\n",
    "## 5. Best Practices\n",
    "\n",
    "- **Imports on First Sheet**: Load `tables` and `pandas` once to avoid redundancy.\n",
    "- **Close Files**: Always call `h5file.close()` in a final cell to prevent file locks.\n",
    "- **Use DataFrames**: Read tables into pandas for Excel spill and built-in analytics.\n",
    "- **Chunking**: Apply chunk sizes and compression filters for large datasets.\n",
    "\n",
    "By integrating PyTables into Python in Excel, you can manage and analyze large, hierarchical datasets directly within your spreadsheets—combining HDF5’s speed with Excel’s accessibility.\n",
    "\n",
    "<div style=\"text-align: center\">⁂</div>\n",
    "\n",
    "[^34_1]: https://pytutorial.com/install-and-set-up-pytables-in-python/\n",
    "[^34_2]: https://anaconda.org/conda-forge/pytables\n",
    "[^34_3]: https://www.pytables.org/usersguide/installation.html\n",
    "[^34_4]: https://www.anaconda.com/download\n",
    "[^34_5]: https://www.anaconda.com/docs/getting-started/anaconda/main\n",
    "[^34_6]: https://stackoverflow.com/questions/28882538/how-to-install-pytables-2-3-1-with-anaconda-missing-hdf5-library\n",
    "[^34_7]: https://www.pyxll.com/docs/userguide/tables.html\n",
    "[^34_8]: https://python.plainenglish.io/write-data-to-excel-with-python-5-examples-019a5970f851?gi=40639607e0f7\n",
    "[^34_9]: https://www.slideshare.net/slideshow/hdf5-isforlovers/18930612\n",
    "[^34_10]: https://www.pytables.org"
   ]
  }
 ],
 "metadata": {},
 "nbformat": 4,
 "nbformat_minor": 5
}
