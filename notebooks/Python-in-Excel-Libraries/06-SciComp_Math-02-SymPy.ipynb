{
 "cells": [
  {
   "cell_type": "markdown",
   "id": "aaf35ff9",
   "metadata": {},
   "source": [
    "# Leveraging SymPy in Python in Excel\n",
    "\n",
    "SymPy is a Python library for symbolic mathematics, enabling algebraic manipulation, calculus, equation solving, and more. With Python in Excel, you can use SymPy to perform symbolic computations, simplify expressions, and solve equations directly within your spreadsheets.\n",
    "\n",
    "## 1. Setup and Imports\n",
    "\n",
    "To use SymPy, reserve the first worksheet for import statements:"
   ]
  },
  {
   "cell_type": "code",
   "execution_count": null,
   "id": "044fb6f2",
   "metadata": {},
   "outputs": [],
   "source": [
    "=PY(\n",
    "import sympy as sp\n",
    ")"
   ]
  },
  {
   "cell_type": "markdown",
   "id": "16a1edda",
   "metadata": {},
   "source": [
    "This makes the SymPy library available for all subsequent Python cells.\n",
    "\n",
    "## 2. Symbolic Expressions\n",
    "\n",
    "- **Define symbols and expressions:**"
   ]
  },
  {
   "cell_type": "code",
   "execution_count": null,
   "id": "690f16ae",
   "metadata": {},
   "outputs": [],
   "source": [
    "=PY(\n",
    "x, y = sp.symbols('x y')\n",
    "expr = x**2 + 2*x*y + y**2\n",
    "expr\n",
    ")"
   ]
  },
  {
   "cell_type": "markdown",
   "id": "cfed27b5",
   "metadata": {},
   "source": [
    "- **Simplify expressions:**"
   ]
  },
  {
   "cell_type": "code",
   "execution_count": null,
   "id": "de1e08f8",
   "metadata": {},
   "outputs": [],
   "source": [
    "=PY(\n",
    "simplified = sp.simplify(expr)\n",
    "simplified\n",
    ")"
   ]
  },
  {
   "cell_type": "markdown",
   "id": "ec6dcfa9",
   "metadata": {},
   "source": [
    "## 3. Solving Equations\n",
    "\n",
    "- **Solve algebraic equations:**"
   ]
  },
  {
   "cell_type": "code",
   "execution_count": null,
   "id": "a9172878",
   "metadata": {},
   "outputs": [],
   "source": [
    "=PY(\n",
    "solution = sp.solve(x**2 - 4, x)\n",
    "solution\n",
    ")"
   ]
  },
  {
   "cell_type": "markdown",
   "id": "9be2f74a",
   "metadata": {},
   "source": [
    "- **Solve systems of equations:**"
   ]
  },
  {
   "cell_type": "code",
   "execution_count": null,
   "id": "fdd13519",
   "metadata": {},
   "outputs": [],
   "source": [
    "=PY(\n",
    "sol = sp.solve([x + y - 3, x - y - 1], (x, y))\n",
    "sol\n",
    ")"
   ]
  },
  {
   "cell_type": "markdown",
   "id": "f848d793",
   "metadata": {},
   "source": [
    "## 4. Calculus\n",
    "\n",
    "- **Differentiate:**"
   ]
  },
  {
   "cell_type": "code",
   "execution_count": null,
   "id": "e4ff953f",
   "metadata": {},
   "outputs": [],
   "source": [
    "=PY(\n",
    "deriv = sp.diff(expr, x)\n",
    "deriv\n",
    ")"
   ]
  },
  {
   "cell_type": "markdown",
   "id": "1a185f28",
   "metadata": {},
   "source": [
    "- **Integrate:**"
   ]
  },
  {
   "cell_type": "code",
   "execution_count": null,
   "id": "4fd307bc",
   "metadata": {},
   "outputs": [],
   "source": [
    "=PY(\n",
    "integ = sp.integrate(expr, x)\n",
    "integ\n",
    ")"
   ]
  },
  {
   "cell_type": "markdown",
   "id": "4fabb112",
   "metadata": {},
   "source": [
    "## 5. Pretty Printing\n",
    "\n",
    "- **Display expressions nicely:**"
   ]
  },
  {
   "cell_type": "code",
   "execution_count": null,
   "id": "fe929733",
   "metadata": {},
   "outputs": [],
   "source": [
    "=PY(\n",
    "sp.pretty(expr)\n",
    ")"
   ]
  },
  {
   "cell_type": "markdown",
   "id": "8b766557",
   "metadata": {},
   "source": [
    "## 6. Best Practices\n",
    "\n",
    "- **Imports Once**: Place all import statements on the first worksheet.\n",
    "- **Symbol Management**: Define all symbols before use.\n",
    "- **Output Management**: Return symbolic results or use `sp.pretty()` for formatted display in Excel.\n",
    "- **Performance**: For complex expressions, break calculations into multiple cells for clarity.\n",
    "\n",
    "By leveraging SymPy in Python in Excel, you can perform symbolic mathematics and algebraic manipulations directly in your spreadsheets, making advanced math accessible to all Excel users."
   ]
  }
 ],
 "metadata": {},
 "nbformat": 4,
 "nbformat_minor": 5
}
