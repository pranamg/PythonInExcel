{
 "cells": [
  {
   "cell_type": "markdown",
   "id": "08e89a20",
   "metadata": {},
   "source": [
    "# Leveraging Scikit-Learn in Python in Excel\n",
    "\n",
    "Scikit-learn is a cornerstone library for machine learning in Python, and with Python in Excel you can build, evaluate, and deploy models directly within your spreadsheets. Below is a structured guide covering setup, core workflows, and best practices.\n",
    "\n",
    "## 1. Setup and Imports\n",
    "\n",
    "To ensure Scikit-learn is available throughout your workbook, reserve the first worksheet for import statements:"
   ]
  },
  {
   "cell_type": "code",
   "execution_count": null,
   "id": "e149d7d2",
   "metadata": {},
   "outputs": [],
   "source": [
    "=PY(\n",
    "from sklearn.model_selection import train_test_split\n",
    "from sklearn.preprocessing import StandardScaler\n",
    "from sklearn.linear_model import LogisticRegression\n",
    "from sklearn.ensemble import RandomForestClassifier\n",
    "from sklearn.metrics import classification_report, mean_squared_error\n",
    ")"
   ]
  },
  {
   "cell_type": "markdown",
   "id": "ed5963ec",
   "metadata": {},
   "source": [
    "This imports key modules—data splitting, scaling, algorithms, and evaluation metrics—into your Python in Excel environment.\n",
    "\n",
    "## 2. Loading Data\n",
    "\n",
    "You can load built-in Scikit-learn datasets as pandas DataFrames and display them (“spill”) in Excel:"
   ]
  },
  {
   "cell_type": "code",
   "execution_count": null,
   "id": "bf8338ae",
   "metadata": {},
   "outputs": [],
   "source": [
    "=PY(\n",
    "from sklearn.datasets import load_iris\n",
    "iris = load_iris(as_frame=True)\n",
    "X, y = iris.data, iris.target\n",
    "X  # spills feature table into Excel\n",
    ")"
   ]
  },
  {
   "cell_type": "markdown",
   "id": "9d256806",
   "metadata": {},
   "source": [
    "The `as_frame=True` parameter returns pandas DataFrames, making it easy to view and manipulate data directly in your worksheet.\n",
    "\n",
    "## 3. Preprocessing\n",
    "\n",
    "### 3.1 Train/Test Split\n",
    "\n",
    "Divide data into training and testing sets:"
   ]
  },
  {
   "cell_type": "code",
   "execution_count": null,
   "id": "b5772a6a",
   "metadata": {},
   "outputs": [],
   "source": [
    "=PY(\n",
    "X_train, X_test, y_train, y_test = train_test_split(\n",
    "    X, y, test_size=0.3, random_state=42\n",
    ")\n",
    ")"
   ]
  },
  {
   "cell_type": "markdown",
   "id": "a5850416",
   "metadata": {},
   "source": [
    "This creates four DataFrames/Series for model training and evaluation.\n",
    "\n",
    "### 3.2 Feature Scaling\n",
    "\n",
    "Standardize features for algorithms that are sensitive to scale:"
   ]
  },
  {
   "cell_type": "code",
   "execution_count": null,
   "id": "4b0bc605",
   "metadata": {},
   "outputs": [],
   "source": [
    "=PY(\n",
    "scaler = StandardScaler()\n",
    "X_train_scaled = scaler.fit_transform(X_train)\n",
    "X_test_scaled = scaler.transform(X_test)\n",
    ")"
   ]
  },
  {
   "cell_type": "markdown",
   "id": "8848df0c",
   "metadata": {},
   "source": [
    "Scaled arrays can then be used with models requiring normalized inputs.\n",
    "\n",
    "## 4. Model Training and Evaluation\n",
    "\n",
    "### 4.1 Logistic Regression"
   ]
  },
  {
   "cell_type": "code",
   "execution_count": null,
   "id": "551321c2",
   "metadata": {},
   "outputs": [],
   "source": [
    "=PY(\n",
    "model = LogisticRegression()\n",
    "model.fit(X_train_scaled, y_train)\n",
    "pred = model.predict(X_test_scaled)\n",
    "report = classification_report(y_test, pred, output_dict=True)\n",
    "import pandas as pd; pd.DataFrame(report).transpose()\n",
    ")"
   ]
  },
  {
   "cell_type": "markdown",
   "id": "3f1a3a86",
   "metadata": {},
   "source": [
    "This trains a classifier, makes predictions, and returns a transposed report as a table in Excel showing precision, recall, and F1-score.\n",
    "\n",
    "### 4.2 Random Forest"
   ]
  },
  {
   "cell_type": "code",
   "execution_count": null,
   "id": "e87cbfe1",
   "metadata": {},
   "outputs": [],
   "source": [
    "=PY(\n",
    "rf = RandomForestClassifier(n_estimators=100, random_state=42)\n",
    "rf.fit(X_train, y_train)\n",
    "y_pred = rf.predict(X_test)\n",
    "pd.DataFrame({\n",
    "    'Actual': y_test,\n",
    "    'Predicted': y_pred\n",
    "})\n",
    ")"
   ]
  },
  {
   "cell_type": "markdown",
   "id": "301c4616",
   "metadata": {},
   "source": [
    "You can spill both actual and predicted labels side by side for comparison in your sheet.\n",
    "\n",
    "## 5. Regression Example\n",
    "\n",
    "For numeric targets you can use metrics like mean squared error:"
   ]
  },
  {
   "cell_type": "code",
   "execution_count": null,
   "id": "7d6460f0",
   "metadata": {},
   "outputs": [],
   "source": [
    "=PY(\n",
    "from sklearn.datasets import load_diabetes\n",
    "data = load_diabetes(as_frame=True)\n",
    "X_d, y_d = data.data, data.target\n",
    "X_tr, X_te, y_tr, y_te = train_test_split(X_d, y_d, test_size=0.2, random_state=0)\n",
    "from sklearn.linear_model import Ridge\n",
    "ridge = Ridge(alpha=1.0)\n",
    "ridge.fit(X_tr, y_tr)\n",
    "mse = mean_squared_error(y_te, ridge.predict(X_te))\n",
    "mse\n",
    ")"
   ]
  },
  {
   "cell_type": "markdown",
   "id": "7d19623d",
   "metadata": {},
   "source": [
    "This computes MSE and spills the numeric result into Excel for quick insight.\n",
    "\n",
    "## 6. Hyperparameter Tuning\n",
    "\n",
    "Use grid search directly in Excel to optimize parameters:"
   ]
  },
  {
   "cell_type": "code",
   "execution_count": null,
   "id": "9e052715",
   "metadata": {},
   "outputs": [],
   "source": [
    "=PY(\n",
    "from sklearn.model_selection import GridSearchCV\n",
    "param_grid = {'n_estimators': [50,100], 'max_depth': [None, 10]}\n",
    "grid = GridSearchCV(RandomForestClassifier(), param_grid, cv=3)\n",
    "grid.fit(X_train, y_train)\n",
    "grid.best_params_\n",
    ")"
   ]
  },
  {
   "cell_type": "markdown",
   "id": "164e0df9",
   "metadata": {},
   "source": [
    "This returns the best parameter combination for your model based on cross-validation.\n",
    "\n",
    "## 7. Best Practices\n",
    "\n",
    "- **Imports Once**: Place all import statements on the first worksheet to persist across the workbook.\n",
    "- **Data Display**: Use `as_frame=True` when loading data to spill DataFrames for inspection.\n",
    "- **Cell Organization**: Break workflows into sequential cells (preprocessing, training, evaluation) to follow Excel’s row-major execution order.\n",
    "- **Performance**: For large datasets, sample or aggregate data before model training to keep response times low.\n",
    "- **Output Management**: Return evaluation metrics as dictionaries or DataFrames for easy integration with native Excel features like charts and conditional formatting.\n",
    "\n",
    "By embedding Scikit-learn workflows within Excel, you seamlessly integrate advanced modeling into familiar spreadsheets, eliminating context switching and accelerating analytic productivity."
   ]
  }
 ],
 "metadata": {},
 "nbformat": 4,
 "nbformat_minor": 5
}
