{
 "cells": [
  {
   "cell_type": "markdown",
   "id": "7e99e331",
   "metadata": {},
   "source": [
    "# Leveraging Altair in Python in Excel\n",
    "\n",
    "Altair is a declarative visualization library for Python built on the Vega-Lite grammar. Within Python in Excel, Altair enables you to craft interactive, web-ready charts directly in your spreadsheet cells. Below is a guide to get you started.\n",
    "\n",
    "## 1. Availability and Setup\n",
    "\n",
    "To use Altair in Python in Excel, ensure your Excel environment supports Python formulas and that Altair is included in the Anaconda distribution powering Python in Excel. Then:\n",
    "\n",
    "1. **Import Altair**\n",
    "Reserve the first worksheet for import statements. In a Python cell, type:"
   ]
  },
  {
   "cell_type": "code",
   "execution_count": null,
   "id": "97148356",
   "metadata": {},
   "outputs": [],
   "source": [
    "=PY(\n",
    "import altair as alt\n",
    ")"
   ]
  },
  {
   "cell_type": "markdown",
   "id": "f58b2d5a",
   "metadata": {},
   "source": [
    "This makes `alt` available for all subsequent Python formulas in the workbook.\n",
    "2. **Reference Excel Data**\n",
    "Use the `xl()` function to load ranges or tables into a pandas DataFrame:\n",
    "    - Entire table with headers: `xl(\"MyTable[#All]\", headers=True)`\n",
    "    - Range: `xl(\"A1:C100\", headers=True)`\n",
    "    - Single column: `xl(\"SalesData[Revenue]\")`.\n",
    "\n",
    "## 2. Basic Chart Construction\n",
    "\n",
    "Altair charts follow a layered pipeline: define data, map aesthetics, and add mark types.\n",
    "\n",
    "- **Scatter Plot**"
   ]
  },
  {
   "cell_type": "code",
   "execution_count": null,
   "id": "be2239de",
   "metadata": {},
   "outputs": [],
   "source": [
    "=PY(\n",
    "data = xl(\"Table1[#All]\", headers=True)\n",
    "chart = alt.Chart(data).mark_circle(size=60).encode(\n",
    "  x='VariableX:Q',\n",
    "  y='VariableY:Q',\n",
    "  color='Category:N'\n",
    ")\n",
    "chart\n",
    ")"
   ]
  },
  {
   "cell_type": "markdown",
   "id": "f0315f80",
   "metadata": {},
   "source": [
    "- **Bar Chart**"
   ]
  },
  {
   "cell_type": "code",
   "execution_count": null,
   "id": "e695924b",
   "metadata": {},
   "outputs": [],
   "source": [
    "=PY(\n",
    "df = xl(\"Sales[#All]\", headers=True)\n",
    "alt.Chart(df).mark_bar().encode(\n",
    "  x='Region:N',\n",
    "  y='sum(Revenue):Q'\n",
    ")\n",
    ")"
   ]
  },
  {
   "cell_type": "markdown",
   "id": "e3c28dcb",
   "metadata": {},
   "source": [
    "## 3. Adding Interactivity\n",
    "\n",
    "Altair’s built-in interactivity transforms static charts into dashboards:\n",
    "\n",
    "- **Interactive Selection**"
   ]
  },
  {
   "cell_type": "code",
   "execution_count": null,
   "id": "35d00bfd",
   "metadata": {},
   "outputs": [],
   "source": [
    "=PY(\n",
    "data = xl(\"Data[#All]\", headers=True)\n",
    "selection = alt.selection_multi(fields=['Category'])\n",
    "alt.Chart(data).mark_point().encode(\n",
    "  x='X:Q', y='Y:Q',\n",
    "  color=alt.condition(selection, 'Category:N', alt.value('lightgray'))\n",
    ").add_selection(selection)\n",
    ")"
   ]
  },
  {
   "cell_type": "markdown",
   "id": "27580922",
   "metadata": {},
   "source": [
    "- **Tooltips**"
   ]
  },
  {
   "cell_type": "code",
   "execution_count": null,
   "id": "aa5d32db",
   "metadata": {},
   "outputs": [],
   "source": [
    "=PY(\n",
    "alt.Chart(data).mark_circle().encode(\n",
    "  x='X:Q', y='Y:Q',\n",
    "  tooltip=['Category:N','Value:Q']\n",
    ")\n",
    ")"
   ]
  },
  {
   "cell_type": "markdown",
   "id": "b7b861d0",
   "metadata": {},
   "source": [
    "## 4. Layered and Faceted Views\n",
    "\n",
    "- **Layering**\n",
    "Combine multiple marks in one chart:"
   ]
  },
  {
   "cell_type": "code",
   "execution_count": null,
   "id": "51037bdc",
   "metadata": {},
   "outputs": [],
   "source": [
    "=PY(\n",
    "base = alt.Chart(data).encode(x='X:Q')\n",
    "points = base.mark_point(color='steelblue').encode(y='Y1:Q')\n",
    "line   = base.mark_line(color='darkorange').encode(y='Y2:Q')\n",
    "alt.layer(points, line)\n",
    ")"
   ]
  },
  {
   "cell_type": "markdown",
   "id": "3029845e",
   "metadata": {},
   "source": [
    "- **Faceting**\n",
    "Create small multiples:"
   ]
  },
  {
   "cell_type": "code",
   "execution_count": null,
   "id": "d1bb679c",
   "metadata": {},
   "outputs": [],
   "source": [
    "=PY(\n",
    "alt.Chart(data).mark_bar().encode(\n",
    "  x='Category:N', y='Value:Q'\n",
    ").facet(\n",
    "  column='Group:N'\n",
    ")\n",
    ")"
   ]
  },
  {
   "cell_type": "markdown",
   "id": "9bf90a55",
   "metadata": {},
   "source": [
    "## 5. Styling and Themes\n",
    "\n",
    "- **Themes**\n",
    "Apply built-in themes to adjust overall aesthetics:"
   ]
  },
  {
   "cell_type": "code",
   "execution_count": null,
   "id": "9777ed15",
   "metadata": {},
   "outputs": [],
   "source": [
    "=PY(\n",
    "alt.themes.enable('dark')\n",
    ")"
   ]
  },
  {
   "cell_type": "markdown",
   "id": "e4dbfa6c",
   "metadata": {},
   "source": [
    "- **Customizing Marks**\n",
    "Pass style arguments to `mark_*()` methods:"
   ]
  },
  {
   "cell_type": "code",
   "execution_count": null,
   "id": "01ebdf86",
   "metadata": {},
   "outputs": [],
   "source": [
    "=PY(\n",
    "alt.Chart(data).mark_circle(size=100, opacity=0.7, color='teal')\n",
    ")"
   ]
  },
  {
   "cell_type": "markdown",
   "id": "c9df258a",
   "metadata": {},
   "source": [
    "## 6. Best Practices\n",
    "\n",
    "- **Import Once**: Place imports on the first worksheet to avoid redundancy.\n",
    "- **Data Preparation**: Clean and aggregate data via pandas operations within Python cells before plotting.\n",
    "- **Performance**: For large datasets, filter or sample in Python to keep charts responsive.\n",
    "- **Execution Order**: Python in Excel follows row-major order—ensure prerequisite cells precede dependent charts.\n",
    "\n",
    "By following these steps, you can harness Altair’s grammar-of-graphics approach to build expressive, interactive visualizations directly in Excel, combining Python’s declarative APIs with Excel’s accessibility and collaboration features."
   ]
  }
 ],
 "metadata": {},
 "nbformat": 4,
 "nbformat_minor": 5
}
