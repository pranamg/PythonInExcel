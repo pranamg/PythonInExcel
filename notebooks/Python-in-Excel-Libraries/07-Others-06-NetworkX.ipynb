{
 "cells": [
  {
   "cell_type": "markdown",
   "id": "f4c8dbd9",
   "metadata": {},
   "source": [
    "# Leveraging NetworkX in Python in Excel\n",
    "\n",
    "NetworkX is a powerful Python library for the creation, manipulation, and study of complex networks (graphs). With Python in Excel, you can use NetworkX to analyze relationships, model networks, and visualize graph structures directly within your spreadsheet environment.\n",
    "\n",
    "## 1. Setup and Import\n",
    "\n",
    "To use NetworkX in Python in Excel, import it on the first worksheet so it is available workbook-wide:"
   ]
  },
  {
   "cell_type": "code",
   "execution_count": null,
   "id": "e59c9d74",
   "metadata": {},
   "outputs": [],
   "source": [
    "=PY(\n",
    "import networkx as nx\n",
    ")"
   ]
  },
  {
   "cell_type": "markdown",
   "id": "8517e8e9",
   "metadata": {},
   "source": [
    "This import persists across all Python formulas in the workbook.\n",
    "\n",
    "## 2. Creating Graphs from Excel Data\n",
    "\n",
    "You can create graphs from edge lists or adjacency matrices loaded from Excel tables or ranges:\n",
    "\n",
    "- **Edge List**: `xl(\"Edges[#All]\", headers=True)`\n",
    "- **Adjacency Matrix**: `xl(\"AdjMatrix[#All]\", headers=True)`\n",
    "\n",
    "Example (edge list):"
   ]
  },
  {
   "cell_type": "code",
   "execution_count": null,
   "id": "c1bc9a21",
   "metadata": {},
   "outputs": [],
   "source": [
    "=PY(\n",
    "edges = xl(\"Edges[#All]\", headers=True)\n",
    "G = nx.from_pandas_edgelist(edges, source='Source', target='Target')\n",
    "G\n",
    ")"
   ]
  },
  {
   "cell_type": "markdown",
   "id": "e16d93b2",
   "metadata": {},
   "source": [
    "## 3. Analyzing Graph Properties\n",
    "\n",
    "NetworkX provides functions for common graph metrics:"
   ]
  },
  {
   "cell_type": "code",
   "execution_count": null,
   "id": "b9a769fb",
   "metadata": {},
   "outputs": [],
   "source": [
    "=PY(\n",
    "nodes = G.number_of_nodes()\n",
    "edges = G.number_of_edges()\n",
    "degree_centrality = nx.degree_centrality(G)\n",
    "clustering = nx.clustering(G)\n",
    "{\"Nodes\": nodes, \"Edges\": edges, \"DegreeCentrality\": degree_centrality, \"Clustering\": clustering}\n",
    ")"
   ]
  },
  {
   "cell_type": "markdown",
   "id": "6ac5683d",
   "metadata": {},
   "source": [
    "## 4. Visualizing Graphs\n",
    "\n",
    "You can use Matplotlib to visualize graphs in Excel:"
   ]
  },
  {
   "cell_type": "code",
   "execution_count": null,
   "id": "86fcc20c",
   "metadata": {},
   "outputs": [],
   "source": [
    "=PY(\n",
    "import matplotlib.pyplot as plt\n",
    "nx.draw(G, with_labels=True, node_color='skyblue', edge_color='gray')\n",
    "plt.title(\"Network Graph\")\n",
    ")"
   ]
  },
  {
   "cell_type": "markdown",
   "id": "373a8767",
   "metadata": {},
   "source": [
    "## 5. Best Practices\n",
    "\n",
    "- Place all imports on the first worksheet.\n",
    "- Use `xl()` to load edge lists or adjacency matrices.\n",
    "- For large graphs, sample or filter data before visualization.\n",
    "- Use Excel’s “Display Plot over Cells” to position network diagrams in the grid.\n",
    "\n",
    "By integrating NetworkX with Python in Excel, you can perform advanced network analysis and visualization directly in your spreadsheets.\n",
    "\n",
    "<div style=\"text-align: center\">⁂</div>"
   ]
  }
 ],
 "metadata": {},
 "nbformat": 4,
 "nbformat_minor": 5
}
