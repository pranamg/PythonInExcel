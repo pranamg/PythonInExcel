{
 "cells": [
  {
   "cell_type": "markdown",
   "id": "59e9a132",
   "metadata": {},
   "source": [
    "# Leveraging Statsmodels in Python in Excel\n",
    "\n",
    "Statsmodels is a powerful library for statistical modeling and hypothesis testing, available by default in Python in Excel. It enables users to perform advanced statistical analyses—such as regression, time series analysis, and ANOVA—directly within Excel cells, combining Python’s analytical power with Excel’s accessibility.\n",
    "\n",
    "## 1. Setup and Imports\n",
    "\n",
    "To use Statsmodels, reserve the first worksheet for import statements:"
   ]
  },
  {
   "cell_type": "code",
   "execution_count": null,
   "id": "8c8b7fbc",
   "metadata": {},
   "outputs": [],
   "source": [
    "=PY(\n",
    "import statsmodels.api as sm\n",
    "import statsmodels.formula.api as smf\n",
    ")"
   ]
  },
  {
   "cell_type": "markdown",
   "id": "fbae582c",
   "metadata": {},
   "source": [
    "This makes both the main API and formula interface available throughout your workbook.\n",
    "\n",
    "## 2. Referencing Excel Data\n",
    "\n",
    "Use the `xl()` function to load data into pandas DataFrames:\n",
    "\n",
    "- Entire table: `xl(\"Table1[#All]\", headers=True)`\n",
    "- Range: `xl(\"A1:D100\", headers=True)`\n",
    "\n",
    "## 3. Regression Analysis\n",
    "\n",
    "### 3.1 Ordinary Least Squares (OLS)"
   ]
  },
  {
   "cell_type": "code",
   "execution_count": null,
   "id": "dc44b87e",
   "metadata": {},
   "outputs": [],
   "source": [
    "=PY(\n",
    "df = xl(\"Data[#All]\", headers=True)\n",
    "model = smf.ols('y ~ x1 + x2', data=df).fit()\n",
    "model.summary2().tables[1]  # Coefficient table\n",
    ")"
   ]
  },
  {
   "cell_type": "markdown",
   "id": "68deb6f2",
   "metadata": {},
   "source": [
    "### 3.2 Logistic Regression"
   ]
  },
  {
   "cell_type": "code",
   "execution_count": null,
   "id": "a722b605",
   "metadata": {},
   "outputs": [],
   "source": [
    "=PY(\n",
    "df = xl(\"Data[#All]\", headers=True)\n",
    "logit = smf.logit('target ~ feature1 + feature2', data=df).fit()\n",
    "logit.summary2().tables[1]\n",
    ")"
   ]
  },
  {
   "cell_type": "markdown",
   "id": "481887ec",
   "metadata": {},
   "source": [
    "## 4. Time Series Analysis\n",
    "\n",
    "### 4.1 ARIMA Modeling"
   ]
  },
  {
   "cell_type": "code",
   "execution_count": null,
   "id": "85945bad",
   "metadata": {},
   "outputs": [],
   "source": [
    "=PY(\n",
    "series = xl(\"TimeSeries[Value]\")\n",
    "model = sm.tsa.ARIMA(series, order=(1,1,1)).fit()\n",
    "model.summary()\n",
    ")"
   ]
  },
  {
   "cell_type": "markdown",
   "id": "9e51696c",
   "metadata": {},
   "source": [
    "### 4.2 Seasonal Decomposition"
   ]
  },
  {
   "cell_type": "code",
   "execution_count": null,
   "id": "e32443b3",
   "metadata": {},
   "outputs": [],
   "source": [
    "=PY(\n",
    "series = xl(\"TimeSeries[Value]\")\n",
    "decomp = sm.tsa.seasonal_decompose(series, period=12)\n",
    "decomp.trend\n",
    ")"
   ]
  },
  {
   "cell_type": "markdown",
   "id": "ce1b75ac",
   "metadata": {},
   "source": [
    "## 5. Hypothesis Testing\n",
    "\n",
    "### 5.1 t-Test"
   ]
  },
  {
   "cell_type": "code",
   "execution_count": null,
   "id": "1da31c65",
   "metadata": {},
   "outputs": [],
   "source": [
    "=PY(\n",
    "from scipy import stats\n",
    "x1 = xl(\"Group1[Value]\")\n",
    "x2 = xl(\"Group2[Value]\")\n",
    "t_stat, p_val = stats.ttest_ind(x1, x2)\n",
    "(t_stat, p_val)\n",
    ")"
   ]
  },
  {
   "cell_type": "markdown",
   "id": "4a08515b",
   "metadata": {},
   "source": [
    "### 5.2 ANOVA"
   ]
  },
  {
   "cell_type": "code",
   "execution_count": null,
   "id": "3b1e06fb",
   "metadata": {},
   "outputs": [],
   "source": [
    "=PY(\n",
    "df = xl(\"Data[#All]\", headers=True)\n",
    "model = smf.ols('value ~ C(group)', data=df).fit()\n",
    "from statsmodels.stats.anova import anova_lm\n",
    "anova_lm(model)\n",
    ")"
   ]
  },
  {
   "cell_type": "markdown",
   "id": "5d9f8d11",
   "metadata": {},
   "source": [
    "## 6. Best Practices\n",
    "\n",
    "- **Imports Once**: Place all import statements on the first worksheet.\n",
    "- **Data Preparation**: Clean and structure data with pandas before modeling.\n",
    "- **Output Management**: Return summary tables or DataFrames for easy review in Excel.\n",
    "- **Stepwise Analysis**: Break complex analyses into multiple cells for clarity and troubleshooting.\n",
    "\n",
    "By leveraging Statsmodels in Python in Excel, you can perform robust statistical analyses and hypothesis tests directly in your spreadsheets, making advanced analytics accessible to all Excel users."
   ]
  }
 ],
 "metadata": {},
 "nbformat": 4,
 "nbformat_minor": 5
}
