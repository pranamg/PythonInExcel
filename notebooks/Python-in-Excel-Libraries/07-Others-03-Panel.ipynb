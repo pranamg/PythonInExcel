{
 "cells": [
  {
   "cell_type": "markdown",
   "id": "a97e2fa1",
   "metadata": {},
   "source": [
    "# Leveraging Panel in Python in Excel\n",
    "\n",
    "Panel is a high-level Python library for creating interactive dashboards and data apps. With Python in Excel, you can use Panel to build interactive widgets, visualizations, and layouts that respond to user input—all embedded directly in your spreadsheets.\n",
    "\n",
    "## 1. Setup and Imports\n",
    "\n",
    "To use Panel, reserve the first worksheet for import statements:"
   ]
  },
  {
   "cell_type": "code",
   "execution_count": null,
   "id": "00fc6e42",
   "metadata": {},
   "outputs": [],
   "source": [
    "=PY(\n",
    "import panel as pn\n",
    "pn.extension()\n",
    ")"
   ]
  },
  {
   "cell_type": "markdown",
   "id": "90e3440a",
   "metadata": {},
   "source": [
    "This loads Panel and enables its interactive features for all subsequent Python cells.\n",
    "\n",
    "## 2. Creating Widgets\n",
    "\n",
    "- **Slider widget:**"
   ]
  },
  {
   "cell_type": "code",
   "execution_count": null,
   "id": "8cee837e",
   "metadata": {},
   "outputs": [],
   "source": [
    "=PY(\n",
    "slider = pn.widgets.IntSlider(name='Value', start=0, end=10, value=5)\n",
    "slider\n",
    ")"
   ]
  },
  {
   "cell_type": "markdown",
   "id": "0d3e1ada",
   "metadata": {},
   "source": [
    "- **Text input widget:**"
   ]
  },
  {
   "cell_type": "code",
   "execution_count": null,
   "id": "194c1459",
   "metadata": {},
   "outputs": [],
   "source": [
    "=PY(\n",
    "text = pn.widgets.TextInput(name='Enter text')\n",
    "text\n",
    ")"
   ]
  },
  {
   "cell_type": "markdown",
   "id": "8495a813",
   "metadata": {},
   "source": [
    "## 3. Building Interactive Layouts\n",
    "\n",
    "- **Combine widgets and plots:**"
   ]
  },
  {
   "cell_type": "code",
   "execution_count": null,
   "id": "f0d4c0d1",
   "metadata": {},
   "outputs": [],
   "source": [
    "=PY(\n",
    "import matplotlib.pyplot as plt\n",
    "import numpy as np\n",
    "slider = pn.widgets.IntSlider(name='Multiplier', start=1, end=10, value=2)\n",
    "@pn.depends(slider)\n",
    "def plot(mult):\n",
    "    x = np.linspace(0, 10, 100)\n",
    "    y = mult * np.sin(x)\n",
    "    fig, ax = plt.subplots()\n",
    "    ax.plot(x, y)\n",
    "    return fig\n",
    "panel = pn.Column(slider, plot)\n",
    "panel\n",
    ")"
   ]
  },
  {
   "cell_type": "markdown",
   "id": "5081844a",
   "metadata": {},
   "source": [
    "## 4. Displaying DataFrames and Tables\n",
    "\n",
    "- **Show a DataFrame as a table:**"
   ]
  },
  {
   "cell_type": "code",
   "execution_count": null,
   "id": "8a1f72dd",
   "metadata": {},
   "outputs": [],
   "source": [
    "=PY(\n",
    "import pandas as pd\n",
    "df = pd.DataFrame({'A': range(5), 'B': range(5, 10)})\n",
    "pn.widgets.DataFrame(df)\n",
    ")"
   ]
  },
  {
   "cell_type": "markdown",
   "id": "553ee27b",
   "metadata": {},
   "source": [
    "## 5. Best Practices\n",
    "\n",
    "- **Imports Once**: Place all import statements on the first worksheet.\n",
    "- **Use `pn.extension()`**: Always call this once to enable Panel features.\n",
    "- **Performance**: For complex dashboards, break layouts into multiple cells for clarity.\n",
    "- **Output Management**: Return Panel objects or widgets for interactive display in Excel.\n",
    "\n",
    "By leveraging Panel in Python in Excel, you can build interactive dashboards and data apps, making your spreadsheets more dynamic and user-friendly."
   ]
  }
 ],
 "metadata": {},
 "nbformat": 4,
 "nbformat_minor": 5
}
