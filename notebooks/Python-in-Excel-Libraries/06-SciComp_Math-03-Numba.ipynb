{
 "cells": [
  {
   "cell_type": "markdown",
   "id": "2f33f1dd",
   "metadata": {},
   "source": [
    "# Leveraging Numba in Python in Excel\n",
    "\n",
    "Numba is a just-in-time (JIT) compiler that accelerates numerical Python code by translating it to fast machine code at runtime. With Python in Excel, you can use Numba to speed up custom functions and loops, making heavy computations much faster directly within your spreadsheets.\n",
    "\n",
    "## 1. Setup and Imports\n",
    "\n",
    "To use Numba, reserve the first worksheet for import statements:"
   ]
  },
  {
   "cell_type": "code",
   "execution_count": null,
   "id": "7096761b",
   "metadata": {},
   "outputs": [],
   "source": [
    "=PY(\n",
    "import numba\n",
    "from numba import jit, njit\n",
    ")"
   ]
  },
  {
   "cell_type": "markdown",
   "id": "ebaa091a",
   "metadata": {},
   "source": [
    "This makes the Numba decorators available for all subsequent Python cells.\n",
    "\n",
    "## 2. Accelerating Functions\n",
    "\n",
    "- **JIT-compile a function:**"
   ]
  },
  {
   "cell_type": "code",
   "execution_count": null,
   "id": "09509fd2",
   "metadata": {},
   "outputs": [],
   "source": [
    "=PY(\n",
    "@jit(nopython=True)\n",
    "def fast_sum(arr):\n",
    "    total = 0\n",
    "    for x in arr:\n",
    "        total += x\n",
    "    return total\n",
    "\n",
    "result = fast_sum(xl(\"A1:A100\"))\n",
    "result\n",
    ")"
   ]
  },
  {
   "cell_type": "markdown",
   "id": "c64904e8",
   "metadata": {},
   "source": [
    "- **Use `njit` for even simpler syntax:**"
   ]
  },
  {
   "cell_type": "code",
   "execution_count": null,
   "id": "3aab680d",
   "metadata": {},
   "outputs": [],
   "source": [
    "=PY(\n",
    "@njit\n",
    "def fast_square(arr):\n",
    "    return [x*x for x in arr]\n",
    "\n",
    "fast_square(xl(\"A1:A10\"))\n",
    ")"
   ]
  },
  {
   "cell_type": "markdown",
   "id": "17bfcf78",
   "metadata": {},
   "source": [
    "## 3. Vectorized Loops and Array Operations\n",
    "\n",
    "Numba excels at accelerating explicit loops and custom math:"
   ]
  },
  {
   "cell_type": "code",
   "execution_count": null,
   "id": "ba083639",
   "metadata": {},
   "outputs": [],
   "source": [
    "=PY(\n",
    "@njit\n",
    "def moving_average(arr, window):\n",
    "    result = []\n",
    "    for i in range(len(arr) - window + 1):\n",
    "        result.append(sum(arr[i:i+window]) / window)\n",
    "    return result\n",
    "\n",
    "moving_average(xl(\"A1:A100\"), 5)\n",
    ")"
   ]
  },
  {
   "cell_type": "markdown",
   "id": "6d60c7c5",
   "metadata": {},
   "source": [
    "## 4. Best Practices\n",
    "\n",
    "- **Imports Once**: Place all import statements on the first worksheet.\n",
    "- **Use `nopython=True`**: For maximum speed, use `@jit(nopython=True)` or `@njit`.\n",
    "- **Data Types**: Numba works best with NumPy arrays and native Python types.\n",
    "- **Debugging**: Test your function without Numba first, then add the decorator for speed.\n",
    "\n",
    "By leveraging Numba in Python in Excel, you can dramatically accelerate custom computations, making even large-scale analytics fast and efficient within your spreadsheets."
   ]
  }
 ],
 "metadata": {},
 "nbformat": 4,
 "nbformat_minor": 5
}
