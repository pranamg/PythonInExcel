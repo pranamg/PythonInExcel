{
 "cells": [
  {
   "cell_type": "markdown",
   "id": "8789c5e5",
   "metadata": {},
   "source": [
    "# Leveraging Gensim in Python in Excel\n",
    "\n",
    "Gensim is a robust Python library for topic modeling, document similarity, and natural language processing (NLP). With Python in Excel, you can use Gensim to perform advanced text analytics—such as building word embeddings, topic models, and similarity queries—directly within your spreadsheets.\n",
    "\n",
    "## 1. Setup and Imports\n",
    "\n",
    "To use Gensim, reserve the first worksheet for import statements:"
   ]
  },
  {
   "cell_type": "code",
   "execution_count": null,
   "id": "08b2008c",
   "metadata": {},
   "outputs": [],
   "source": [
    "=PY(\n",
    "import gensim\n",
    "from gensim import corpora, models, similarities\n",
    ")"
   ]
  },
  {
   "cell_type": "markdown",
   "id": "ff423d7b",
   "metadata": {},
   "source": [
    "This makes the core Gensim modules available for all subsequent Python cells.\n",
    "\n",
    "## 2. Preparing Text Data\n",
    "\n",
    "- **Tokenize and clean text:**"
   ]
  },
  {
   "cell_type": "code",
   "execution_count": null,
   "id": "0c0b7201",
   "metadata": {},
   "outputs": [],
   "source": [
    "=PY(\n",
    "documents = xl(\"TextData[#All]\", headers=True)\n",
    "tokenized = [doc.lower().split() for doc in documents]\n",
    "tokenized\n",
    ")"
   ]
  },
  {
   "cell_type": "markdown",
   "id": "90a8717b",
   "metadata": {},
   "source": [
    "- **Create a dictionary and corpus:**"
   ]
  },
  {
   "cell_type": "code",
   "execution_count": null,
   "id": "d0e6f677",
   "metadata": {},
   "outputs": [],
   "source": [
    "=PY(\n",
    "dictionary = corpora.Dictionary(tokenized)\n",
    "corpus = [dictionary.doc2bow(text) for text in tokenized]\n",
    ")"
   ]
  },
  {
   "cell_type": "markdown",
   "id": "859f51e9",
   "metadata": {},
   "source": [
    "## 3. Topic Modeling with LDA"
   ]
  },
  {
   "cell_type": "code",
   "execution_count": null,
   "id": "137d3fc2",
   "metadata": {},
   "outputs": [],
   "source": [
    "=PY(\n",
    "lda = models.LdaModel(corpus, num_topics=3, id2word=dictionary, passes=10)\n",
    "topics = lda.print_topics(num_words=5)\n",
    "topics\n",
    ")"
   ]
  },
  {
   "cell_type": "markdown",
   "id": "4e2f367f",
   "metadata": {},
   "source": [
    "## 4. Document Similarity\n",
    "\n",
    "- **Build similarity index:**"
   ]
  },
  {
   "cell_type": "code",
   "execution_count": null,
   "id": "6a3a3116",
   "metadata": {},
   "outputs": [],
   "source": [
    "=PY(\n",
    "index = similarities.MatrixSimilarity(lda[corpus])\n",
    "sims = index[lda[corpus[0]]]\n",
    "sims\n",
    ")"
   ]
  },
  {
   "cell_type": "markdown",
   "id": "135be848",
   "metadata": {},
   "source": [
    "## 5. Word Embeddings\n",
    "\n",
    "- **Train Word2Vec model:**"
   ]
  },
  {
   "cell_type": "code",
   "execution_count": null,
   "id": "d6535946",
   "metadata": {},
   "outputs": [],
   "source": [
    "=PY(\n",
    "from gensim.models import Word2Vec\n",
    "model = Word2Vec(tokenized, vector_size=100, window=5, min_count=1, workers=2)\n",
    "model.wv.most_similar('python')\n",
    ")"
   ]
  },
  {
   "cell_type": "markdown",
   "id": "f0cd2004",
   "metadata": {},
   "source": [
    "## 6. Best Practices\n",
    "\n",
    "- **Imports Once**: Place all import statements on the first worksheet.\n",
    "- **Data Preparation**: Clean and tokenize text before modeling.\n",
    "- **Output Management**: Return lists or DataFrames for easy review in Excel.\n",
    "- **Performance**: For large corpora, sample or preprocess data to maintain responsiveness.\n",
    "\n",
    "By leveraging Gensim in Python in Excel, you can perform advanced NLP and topic modeling tasks directly in your spreadsheets, making sophisticated text analytics accessible to all Excel users."
   ]
  }
 ],
 "metadata": {},
 "nbformat": 4,
 "nbformat_minor": 5
}
