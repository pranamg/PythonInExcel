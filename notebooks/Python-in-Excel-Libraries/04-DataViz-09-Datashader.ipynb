{
 "cells": [
  {
   "cell_type": "markdown",
   "id": "08270cbc",
   "metadata": {},
   "source": [
    "# Leveraging Datashader in Python in Excel\n",
    "\n",
    "Datashader is a powerful library for rasterizing large datasets into meaningful images through a three-step pipeline of projection, aggregation, and transformation. Within Python in Excel, you can harness Datashader’s scalability to visualize millions of points directly in your spreadsheet without overwhelming cell-based charts.\n",
    "\n",
    "## 1. Setup and Imports\n",
    "\n",
    "To ensure Datashader and its dependencies are available across your workbook, place the following import cell on the first worksheet:"
   ]
  },
  {
   "cell_type": "code",
   "execution_count": null,
   "id": "2ed9f1b7",
   "metadata": {},
   "outputs": [],
   "source": [
    "=PY(\n",
    "import datashader as ds\n",
    "import pandas as pd\n",
    "import colorcet              # for colormaps\n",
    "from datashader import transfer_functions as tf\n",
    ")"
   ]
  },
  {
   "cell_type": "markdown",
   "id": "9cd3f82d",
   "metadata": {},
   "source": [
    "This makes the core Datashader API (`Canvas`, `tf.shade`) and color palettes accessible throughout your Python cells.\n",
    "\n",
    "## 2. Referencing Excel Data\n",
    "\n",
    "Use the `xl()` function to pull Excel ranges or tables into a pandas DataFrame:\n",
    "\n",
    "- Entire table with headers: `xl(\"MyTable[#All]\", headers=True)`\n",
    "- Specific columns: `xl(\"Sales[Longitude]\")`, `xl(\"Sales[Latitude]\")`\n",
    "\n",
    "For example:"
   ]
  },
  {
   "cell_type": "code",
   "execution_count": null,
   "id": "a4bed082",
   "metadata": {},
   "outputs": [],
   "source": [
    "=PY(\n",
    "df = xl(\"GeoData[#All]\", headers=True)\n",
    ")"
   ]
  },
  {
   "cell_type": "markdown",
   "id": "e9b1ed45",
   "metadata": {},
   "source": [
    "This DataFrame can then be passed directly to Datashader operations.\n",
    "\n",
    "## 3. Core Datashader Workflow\n",
    "\n",
    "Datashader’s pipeline consists of:\n",
    "\n",
    "1. **Canvas Creation**\n",
    "Define the raster dimensions and axis ranges:"
   ]
  },
  {
   "cell_type": "code",
   "execution_count": null,
   "id": "4a737fa7",
   "metadata": {},
   "outputs": [],
   "source": [
    "cvs = ds.Canvas(plot_width=800, plot_height=400,\n",
    "                x_range=(df['Longitude'].min(), df['Longitude'].max()),\n",
    "                y_range=(df['Latitude'].min(), df['Latitude'].max()))"
   ]
  },
  {
   "cell_type": "markdown",
   "id": "c1784866",
   "metadata": {},
   "source": [
    "2. **Aggregation**\n",
    "Map points onto the grid, counting occurrences or applying reductions:"
   ]
  },
  {
   "cell_type": "code",
   "execution_count": null,
   "id": "cf325df5",
   "metadata": {},
   "outputs": [],
   "source": [
    "agg = cvs.points(df, 'Longitude', 'Latitude')"
   ]
  },
  {
   "cell_type": "markdown",
   "id": "5944fa14",
   "metadata": {},
   "source": [
    "3. **Shading**\n",
    "Transform the aggregated array into an RGB image with a chosen colormap and scaling:"
   ]
  },
  {
   "cell_type": "code",
   "execution_count": null,
   "id": "17d61bfd",
   "metadata": {},
   "outputs": [],
   "source": [
    "img = tf.shade(agg, cmap=colorcet.fire, how='log')\n",
    "img"
   ]
  },
  {
   "cell_type": "markdown",
   "id": "5def0531",
   "metadata": {},
   "source": [
    "Returning `img` in a `=PY()` cell embeds the rasterized plot as an image in Excel.\n",
    "\n",
    "## 4. Practical Example: Plotting Geospatial Data"
   ]
  },
  {
   "cell_type": "code",
   "execution_count": null,
   "id": "0e5efd70",
   "metadata": {},
   "outputs": [],
   "source": [
    "=PY(\n",
    "df = xl(\"CityCoords[#All]\", headers=True)\n",
    "cvs = ds.Canvas(plot_width=600, plot_height=600,\n",
    "                x_range=(df.lon.min(), df.lon.max()),\n",
    "                y_range=(df.lat.min(), df.lat.max()))\n",
    "agg = cvs.points(df, 'lon', 'lat')\n",
    "img = tf.shade(agg, cmap=colorcet.fire, how='eq_hist')\n",
    "img\n",
    ")"
   ]
  },
  {
   "cell_type": "markdown",
   "id": "31a2cb4a",
   "metadata": {},
   "source": [
    "This example rasterizes city coordinates into a density map with histogram equalization for contrast enhancement.\n",
    "\n",
    "## 5. Integrating with HoloViews for Interactive Zooming\n",
    "\n",
    "For dynamic Excel charts, pair Datashader with HoloViews’ `rasterize` and `shade` operations:"
   ]
  },
  {
   "cell_type": "code",
   "execution_count": null,
   "id": "9a58c9ce",
   "metadata": {},
   "outputs": [],
   "source": [
    "=PY(\n",
    "import holoviews as hv\n",
    "from holoviews.operation.datashader import rasterize, shade\n",
    "\n",
    "df = xl(\"TemporalData[#All]\", headers=True)\n",
    "points = hv.Points(df, kdims=['time','value'])\n",
    "raster = rasterize(points)\n",
    "shaded = shade(raster, cmap='viridis')\n",
    "shaded\n",
    ")"
   ]
  },
  {
   "cell_type": "markdown",
   "id": "ee1a3eb3",
   "metadata": {},
   "source": [
    "This approach enables pan/zoom interactions while Datashader handles large-data rendering behind the scenes.\n",
    "\n",
    "## 6. Best Practices for Performance\n",
    "\n",
    "- **Limit Canvas Resolution**: Use reasonable `plot_width`/`plot_height` to balance detail and speed.\n",
    "- **Out-of-Core Processing**: For extremely large datasets, load data in chunks or use Dask DataFrames before rasterization.\n",
    "- **Color Mapping**: Experiment with `tf.shade` parameters (`how='log'`, `'eq_hist'`) to reveal structure in dense areas.\n",
    "\n",
    "By embedding Datashader pipelines within Python in Excel, analysts can visualize massive datasets—ranging from geospatial point clouds to time-series scatterplots—directly in the spreadsheet without external tools, combining scalability with Excel’s familiar interface."
   ]
  }
 ],
 "metadata": {},
 "nbformat": 4,
 "nbformat_minor": 5
}
