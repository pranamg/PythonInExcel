{
 "cells": [
  {
   "cell_type": "markdown",
   "id": "23bb088b",
   "metadata": {},
   "source": [
    "# Practical Examples of Python Formulas in Excel for Data Visualization\n",
    "\n",
    "Building on our previous discussions about Python in Excel, let me walk you through specific, practical examples of Python formulas you can use to create compelling data visualizations directly within your Excel worksheets. These examples will help you understand not just what's possible, but exactly how to implement these visualizations step by step.\n",
    "\n",
    "## Understanding the Basic Formula Structure\n",
    "\n",
    "Before diving into specific examples, it's important to understand that all Python visualizations in Excel start with the `=PY()` function[^3_1]. You can either type `=PY` and press Tab to enter Python mode, or access it through the Formulas tab by selecting Insert Python[^3_2]. The formula bar will show a green banner indicating you're in Python mode, and you complete formulas with Ctrl+Enter[^3_2].\n",
    "\n",
    "## Scatter Plot Visualizations\n",
    "\n",
    "### Basic Scatter Plot with Matplotlib\n",
    "\n",
    "One of the most fundamental visualizations you can create is a scatter plot to examine relationships between two variables[^3_1]. Here's the exact formula structure:"
   ]
  },
  {
   "cell_type": "code",
   "execution_count": null,
   "id": "8a117602",
   "metadata": {},
   "outputs": [],
   "source": [
    "=PY(plt.scatter(xl(\"Table1[sepal_length]\"), xl(\"Table1[sepal_width]\")))"
   ]
  },
  {
   "cell_type": "markdown",
   "id": "ee1a78ed",
   "metadata": {},
   "source": [
    "This formula uses the Matplotlib library (automatically imported as `plt`) to create a scatter plot[^3_1]. The `xl()` function is Python in Excel's custom function that references Excel data - in this case, specific columns from Table1[^3_1].\n",
    "\n",
    "### Enhanced Scatter Plot with Labels and Titles\n",
    "\n",
    "To make your scatter plot more professional and informative, you can add labels and titles in the same cell or subsequent cells[^3_1]:"
   ]
  },
  {
   "cell_type": "code",
   "execution_count": null,
   "id": "50c7e781",
   "metadata": {},
   "outputs": [],
   "source": [
    "=PY(\n",
    "plt.scatter(xl(\"Table1[sepal_length]\"), xl(\"Table1[sepal_width]\"))\n",
    "plt.xlabel('Sepal Length')\n",
    "plt.ylabel('Sepal Width') \n",
    "plt.title('Sepal Length and Width Analysis')\n",
    ")"
   ]
  },
  {
   "cell_type": "markdown",
   "id": "7ac14229",
   "metadata": {},
   "source": [
    "This multi-line approach allows you to build comprehensive visualizations with proper labeling[^3_1].\n",
    "\n",
    "## Advanced Statistical Visualizations with Seaborn\n",
    "\n",
    "### Pair Plot for Multi-Variable Analysis\n",
    "\n",
    "Seaborn excels at creating sophisticated statistical visualizations[^3_3]. A pair plot shows relationships between all variables in your dataset:"
   ]
  },
  {
   "cell_type": "code",
   "execution_count": null,
   "id": "a1e83cba",
   "metadata": {},
   "outputs": [],
   "source": [
    "=PY(pairplot = sns.pairplot(xl(\"Table1[#All]\", headers=True)))"
   ]
  },
  {
   "cell_type": "markdown",
   "id": "093a07bd",
   "metadata": {},
   "source": [
    "This formula creates a matrix of plots comparing each variable against every other variable in your dataset[^3_1]. The `[#All]` reference includes the entire table, while `headers=True` indicates your data includes column headers[^3_1].\n",
    "\n",
    "### Correlation Heatmap\n",
    "\n",
    "To visualize correlations between variables, you can create a heatmap[^3_4][^3_5]:"
   ]
  },
  {
   "cell_type": "code",
   "execution_count": null,
   "id": "3df3900d",
   "metadata": {},
   "outputs": [],
   "source": [
    "=PY(\n",
    "df = xl(\"A1:D100\", headers=True)\n",
    "correlation_matrix = df.corr()\n",
    "sns.heatmap(correlation_matrix, cmap='coolwarm', annot=True)\n",
    ")"
   ]
  },
  {
   "cell_type": "markdown",
   "id": "2034d14b",
   "metadata": {},
   "source": [
    "This creates a color-coded heatmap where different colors represent correlation strengths, making it easy to identify relationships in your data[^3_4].\n",
    "\n",
    "### Linear Regression Plot\n",
    "\n",
    "For trend analysis, you can create regression plots that show relationships with fitted trend lines[^3_6]:"
   ]
  },
  {
   "cell_type": "code",
   "execution_count": null,
   "id": "69b587eb",
   "metadata": {},
   "outputs": [],
   "source": [
    "=PY(sns.lmplot(x='carat', y='price', data=xl(\"DiamondData[#All]\", headers=True)))"
   ]
  },
  {
   "cell_type": "markdown",
   "id": "4ceef9d7",
   "metadata": {},
   "source": [
    "The `lmplot` function creates a scatter plot with a fitted regression line, helping you visualize linear relationships between variables[^3_6].\n",
    "\n",
    "## Bar Charts and Categorical Data\n",
    "\n",
    "### Basic Bar Chart with Matplotlib\n",
    "\n",
    "For categorical data visualization, bar charts are essential[^3_7][^3_8]:"
   ]
  },
  {
   "cell_type": "code",
   "execution_count": null,
   "id": "b08806d5",
   "metadata": {},
   "outputs": [],
   "source": [
    "=PY(\n",
    "categories = xl(\"B2:B6\")\n",
    "values = xl(\"C2:C6\") \n",
    "plt.bar(categories, values, color='skyblue')\n",
    "plt.xlabel('Categories')\n",
    "plt.ylabel('Values')\n",
    "plt.title('Sales by Category')\n",
    ")"
   ]
  },
  {
   "cell_type": "markdown",
   "id": "957414a5",
   "metadata": {},
   "source": [
    "This creates a vertical bar chart with custom colors and labels[^3_8].\n",
    "\n",
    "### Horizontal Bar Chart\n",
    "\n",
    "Sometimes horizontal orientation works better for readability[^3_8]:"
   ]
  },
  {
   "cell_type": "code",
   "execution_count": null,
   "id": "02c53261",
   "metadata": {},
   "outputs": [],
   "source": [
    "=PY(plt.barh(xl(\"B2:B6\"), xl(\"C2:C6\"), color='lightgreen'))"
   ]
  },
  {
   "cell_type": "markdown",
   "id": "bd4098ae",
   "metadata": {},
   "source": [
    "## Distribution Analysis\n",
    "\n",
    "### Histogram for Data Distribution\n",
    "\n",
    "To understand data distribution patterns, histograms are invaluable[^3_9]:"
   ]
  },
  {
   "cell_type": "code",
   "execution_count": null,
   "id": "d649abdb",
   "metadata": {},
   "outputs": [],
   "source": [
    "=PY(\n",
    "data = xl(\"A1:A100\")\n",
    "plt.hist(data, bins=20, color='blue', alpha=0.7)\n",
    "plt.xlabel('Values')\n",
    "plt.ylabel('Frequency')\n",
    "plt.title('Data Distribution')\n",
    ")"
   ]
  },
  {
   "cell_type": "markdown",
   "id": "054112d9",
   "metadata": {},
   "source": [
    "This creates a histogram with 20 bins and semi-transparent bars for better visualization[^3_9].\n",
    "\n",
    "### Violin Plots for Advanced Distribution Analysis\n",
    "\n",
    "Violin plots combine the benefits of box plots and density plots[^3_10]:"
   ]
  },
  {
   "cell_type": "code",
   "execution_count": null,
   "id": "149612e5",
   "metadata": {},
   "outputs": [],
   "source": [
    "=PY(\n",
    "data = xl(\"Table1[#All]\", headers=True)\n",
    "sns.violinplot(x='category', y='value', data=data)\n",
    "sns.stripplot(x='category', y='value', data=data, color='black', size=1, jitter=True)\n",
    ")"
   ]
  },
  {
   "cell_type": "markdown",
   "id": "48d280da",
   "metadata": {},
   "source": [
    "This creates violin plots with individual data points overlaid as \"sticks\" for enhanced insight[^3_10].\n",
    "\n",
    "## Time Series Visualizations\n",
    "\n",
    "### Line Charts for Temporal Data\n",
    "\n",
    "For data that changes over time, line charts are most appropriate[^3_11]:"
   ]
  },
  {
   "cell_type": "code",
   "execution_count": null,
   "id": "951a77b2",
   "metadata": {},
   "outputs": [],
   "source": [
    "=PY(\n",
    "dates = xl(\"A2:A50\")\n",
    "values = xl(\"B2:B50\")\n",
    "plt.plot(dates, values, marker='o', linestyle='-', color='purple')\n",
    "plt.xlabel('Date')\n",
    "plt.ylabel('Value')\n",
    "plt.title('Time Series Analysis')\n",
    "plt.grid(True)\n",
    ")"
   ]
  },
  {
   "cell_type": "markdown",
   "id": "54e1fc1b",
   "metadata": {},
   "source": [
    "This creates a line chart with markers and grid lines for better readability[^3_11].\n",
    "\n",
    "## Working with Excel Data References\n",
    "\n",
    "### Table References\n",
    "\n",
    "When working with Excel tables, you can reference specific parts[^3_1]:\n",
    "\n",
    "- Entire table: `xl(\"Table1[#All]\", headers=True)`\n",
    "- Specific column: `xl(\"Table1[ColumnName]\")`\n",
    "- Data only (no headers): `xl(\"Table1[#Data]\")`\n",
    "\n",
    "### Range References\n",
    "\n",
    "For traditional cell ranges[^3_3]:\n",
    "\n",
    "- Single range: `xl(\"A1:C10\", headers=True)`\n",
    "- Multiple ranges: You'll need separate `xl()` calls for each range\n",
    "\n",
    "## Customization and Styling\n",
    "\n",
    "### Color Schemes and Themes\n",
    "\n",
    "Seaborn offers various color palettes for professional-looking charts[^3_12]:"
   ]
  },
  {
   "cell_type": "code",
   "execution_count": null,
   "id": "8fcca3fa",
   "metadata": {},
   "outputs": [],
   "source": [
    "=PY(\n",
    "data = xl(\"SalesData[#All]\", headers=True)\n",
    "sns.set_palette(\"husl\")\n",
    "sns.barplot(x='month', y='sales', data=data)\n",
    ")"
   ]
  },
  {
   "cell_type": "markdown",
   "id": "00015391",
   "metadata": {},
   "source": [
    "### Multi-Language Support\n",
    "\n",
    "For non-English characters, you can specify font paths[^3_1]:"
   ]
  },
  {
   "cell_type": "code",
   "execution_count": null,
   "id": "3bf66fe9",
   "metadata": {},
   "outputs": [],
   "source": [
    "=PY(\n",
    "import matplotlib.pyplot as plt\n",
    "from matplotlib.font_manager import FontProperties\n",
    "font_path = excel.FontPath.CHINESE_SIMPLIFIED\n",
    "font_properties = FontProperties(fname=font_path)\n",
    "plt.rcParams['font.family'] = font_properties.get_name()\n",
    "# Your plotting code here\n",
    ")"
   ]
  },
  {
   "cell_type": "markdown",
   "id": "ae1ed805",
   "metadata": {},
   "source": [
    "## Best Practices for Implementation\n",
    "\n",
    "### Formula Organization\n",
    "\n",
    "When creating complex visualizations, break your code into logical sections within the same cell or across multiple cells[^3_1]. Remember that Python in Excel follows row-major calculation order, so place dependent formulas in cells that come after their prerequisites[^3_1].\n",
    "\n",
    "### Data Preparation\n",
    "\n",
    "Before creating visualizations, ensure your data is properly structured. Use pandas operations within your Python formulas to clean and prepare data:"
   ]
  },
  {
   "cell_type": "code",
   "execution_count": null,
   "id": "d3592b2d",
   "metadata": {},
   "outputs": [],
   "source": [
    "=PY(\n",
    "df = xl(\"RawData[#All]\", headers=True)\n",
    "df_clean = df.dropna()\n",
    "sns.scatterplot(x='x_column', y='y_column', data=df_clean)\n",
    ")"
   ]
  },
  {
   "cell_type": "markdown",
   "id": "3ee2dc82",
   "metadata": {},
   "source": [
    "### Output Management\n",
    "\n",
    "Python visualizations return as image objects by default[^3_1]. You can extract these to the Excel grid by right-clicking and selecting \"Display Plot over Cells\" or use Ctrl+Alt+Shift+C[^3_1]. For integration with other Excel features, you can convert outputs to Excel values using the Python output menu[^3_1].\n",
    "\n",
    "These practical examples demonstrate how Python in Excel transforms your analytical capabilities while maintaining the familiar Excel environment. Each formula type serves specific analytical needs, from basic trend analysis to sophisticated statistical modeling, making advanced data science techniques accessible to all Excel users."
   ]
  }
 ],
 "metadata": {},
 "nbformat": 4,
 "nbformat_minor": 5
}
