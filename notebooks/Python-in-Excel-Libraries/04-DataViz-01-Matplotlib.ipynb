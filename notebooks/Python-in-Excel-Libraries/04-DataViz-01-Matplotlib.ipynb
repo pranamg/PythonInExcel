{
 "cells": [
  {
   "cell_type": "markdown",
   "id": "30f807e4",
   "metadata": {},
   "source": [
    "# Leveraging Matplotlib in Python in Excel\n",
    "\n",
    "Python in Excel automatically provides the Matplotlib library as `plt`, enabling you to craft a wide variety of static visualizations directly within Excel cells. By combining `xl()` data references with Matplotlib’s plotting functions, you can generate, customize, and embed charts without leaving the spreadsheet environment.\n",
    "\n",
    "## 1. Getting Started\n",
    "\n",
    "To use Matplotlib in Excel, simply begin a cell with the `=PY(` formula and write Python code using Matplotlib’s `pyplot` interface. For example:"
   ]
  },
  {
   "cell_type": "code",
   "execution_count": null,
   "id": "6cf1cff3",
   "metadata": {},
   "outputs": [],
   "source": [
    "=PY(\n",
    "import matplotlib.pyplot as plt\n",
    ")"
   ]
  },
  {
   "cell_type": "markdown",
   "id": "11b98b58",
   "metadata": {},
   "source": [
    "You only need to import once—subsequent Python cells can reference `plt` directly.\n",
    "\n",
    "## 2. Referencing Excel Data\n",
    "\n",
    "Matplotlib plots require numeric arrays or sequences. Use the `xl()` function to pull cell ranges or table columns into Python:\n",
    "\n",
    "- Single range with headers: `xl(\"A1:B10\", headers=True)`\n",
    "- Table column: `xl(\"Table1[Sales]\")`\n",
    "- Entire table: `xl(\"Table1[#All]\", headers=True)`\n",
    "\n",
    "These return pandas DataFrames or Series suitable for plotting.\n",
    "\n",
    "## 3. Core Plot Types\n",
    "\n",
    "### 3.1 Scatter Plots\n",
    "\n",
    "Visualize relationships between variables:"
   ]
  },
  {
   "cell_type": "code",
   "execution_count": null,
   "id": "f9161de4",
   "metadata": {},
   "outputs": [],
   "source": [
    "=PY(\n",
    "plt.scatter(\n",
    "    xl(\"Table1[sepal_length]\"),\n",
    "    xl(\"Table1[sepal_width]\")\n",
    ")\n",
    "plt.xlabel(\"Sepal Length\")\n",
    "plt.ylabel(\"Sepal Width\")\n",
    "plt.title(\"Iris Scatter Plot\")\n",
    ")"
   ]
  },
  {
   "cell_type": "markdown",
   "id": "1edd6bcf",
   "metadata": {},
   "source": [
    "### 3.2 Line Charts\n",
    "\n",
    "Ideal for time-series or ordered data:"
   ]
  },
  {
   "cell_type": "code",
   "execution_count": null,
   "id": "3f9805bc",
   "metadata": {},
   "outputs": [],
   "source": [
    "=PY(\n",
    "dates = xl(\"A2:A50\")\n",
    "values = xl(\"B2:B50\")\n",
    "plt.plot(dates, values, marker=\"o\", linestyle=\"-\", color=\"purple\")\n",
    "plt.xlabel(\"Date\")\n",
    "plt.ylabel(\"Value\")\n",
    "plt.title(\"Time Series Trend\")\n",
    "plt.grid(True)\n",
    ")"
   ]
  },
  {
   "cell_type": "markdown",
   "id": "7f64c24d",
   "metadata": {},
   "source": [
    "### 3.3 Bar Charts\n",
    "\n",
    "For categorical comparisons:"
   ]
  },
  {
   "cell_type": "code",
   "execution_count": null,
   "id": "97a627e2",
   "metadata": {},
   "outputs": [],
   "source": [
    "=PY(\n",
    "categories = xl(\"B2:B6\")\n",
    "values     = xl(\"C2:C6\")\n",
    "plt.bar(categories, values, color=\"skyblue\")\n",
    "plt.xlabel(\"Category\")\n",
    "plt.ylabel(\"Value\")\n",
    "plt.title(\"Sales by Category\")\n",
    ")"
   ]
  },
  {
   "cell_type": "markdown",
   "id": "fa85835a",
   "metadata": {},
   "source": [
    "### 3.4 Histograms\n",
    "\n",
    "To view data distribution:"
   ]
  },
  {
   "cell_type": "code",
   "execution_count": null,
   "id": "6dca8119",
   "metadata": {},
   "outputs": [],
   "source": [
    "=PY(\n",
    "data = xl(\"A1:A100\")\n",
    "plt.hist(data, bins=20, color=\"steelblue\", alpha=0.7)\n",
    "plt.xlabel(\"Value\")\n",
    "plt.ylabel(\"Frequency\")\n",
    "plt.title(\"Data Distribution\")\n",
    ")"
   ]
  },
  {
   "cell_type": "markdown",
   "id": "76998f91",
   "metadata": {},
   "source": [
    "## 4. Customizations and Styling\n",
    "\n",
    "- **Colors and Themes**: Pass `color` or use Matplotlib colormaps (e.g., `cmap=\"coolwarm\"`).\n",
    "- **Legends**: Call `plt.legend()` after plotting multiple series.\n",
    "- **Annotations**: Use `plt.text()` or `ax.bar_label()` to add data labels.\n",
    "- **Figure Size**: Set with `plt.figure(figsize=(width, height))` if needed.\n",
    "\n",
    "## 5. Displaying and Extracting Plots\n",
    "\n",
    "After committing the `=PY()` formula, Excel returns an image object. To view and manipulate it:\n",
    "\n",
    "1. Click the image icon in the cell for a preview.\n",
    "2. Right-click and select **Display Plot over Cells** to extract and resize the chart within the grid.\n",
    "\n",
    "## 6. Best Practices\n",
    "\n",
    "- **Row-Major Order**: If splitting code across cells, ensure dependent cells follow the order of execution.\n",
    "- **Performance**: For large datasets, filter or sample data before plotting to maintain responsiveness.\n",
    "- **Reuse Imports**: Place import statements once on the first worksheet to avoid redundancy.\n",
    "- **Axis Formatting**: For dates, use Matplotlib’s `dates` module if necessary.\n",
    "\n",
    "---\n",
    "\n",
    "Leveraging Matplotlib within Python in Excel empowers analysts to create publication-quality static visualizations without leaving the spreadsheet interface, combining Excel’s familiarity with Python’s rich plotting capabilities."
   ]
  }
 ],
 "metadata": {},
 "nbformat": 4,
 "nbformat_minor": 5
}
