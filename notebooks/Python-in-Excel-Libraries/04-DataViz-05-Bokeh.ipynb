{
 "cells": [
  {
   "cell_type": "markdown",
   "id": "3f1e180c",
   "metadata": {},
   "source": [
    "# Leveraging Bokeh in Python in Excel\n",
    "\n",
    "Bokeh is a powerful Python library for creating interactive, web-ready visualizations. Within Python in Excel, you can harness Bokeh to build dynamic charts directly in your spreadsheet cells. Below is a practical guide to setting up and using Bokeh in Python in Excel.\n",
    "\n",
    "## 1. Availability and Setup\n",
    "\n",
    "Before you begin, ensure your Excel environment supports Python formulas and that Bokeh is included in the Anaconda distribution used by Python in Excel. No additional installation is required—simply import Bokeh within a Python cell to get started.\n",
    "\n",
    "1. In your Excel workbook, select a cell and enter `=PY(` to enable Python mode.\n",
    "2. On the first worksheet, import Bokeh modules in a Python cell:"
   ]
  },
  {
   "cell_type": "code",
   "execution_count": null,
   "id": "464affe2",
   "metadata": {},
   "outputs": [],
   "source": [
    "=PY(\n",
    "from bokeh.plotting import figure\n",
    "from bokeh.io import output_notebook, show\n",
    ")"
   ]
  },
  {
   "cell_type": "markdown",
   "id": "175e074e",
   "metadata": {},
   "source": [
    "This makes Bokeh’s `figure`, `show`, and related functions available throughout your workbook.\n",
    "\n",
    "## 2. Referencing Excel Data\n",
    "\n",
    "Use the `xl()` function to pull cell ranges or table columns into Python. Bokeh works with pandas DataFrames and ColumnDataSource objects:\n",
    "\n",
    "- Entire table with headers: `xl(\"Table1[#All]\", headers=True)`\n",
    "- Single column: `xl(\"Table1[Sales]\")`\n",
    "- Range with headers: `xl(\"A1:B100\", headers=True)`\n",
    "\n",
    "Convert a DataFrame into a Bokeh data source:"
   ]
  },
  {
   "cell_type": "code",
   "execution_count": null,
   "id": "41dd9b6c",
   "metadata": {},
   "outputs": [],
   "source": [
    "=PY(\n",
    "df = xl(\"SalesData[#All]\", headers=True)\n",
    "from bokeh.models import ColumnDataSource\n",
    "source = ColumnDataSource(df)\n",
    ")"
   ]
  },
  {
   "cell_type": "markdown",
   "id": "78be6215",
   "metadata": {},
   "source": [
    "This `source` can then be used in Bokeh glyph methods.\n",
    "\n",
    "## 3. Creating Core Plot Types\n",
    "\n",
    "### 3.1 Line Chart\n",
    "\n",
    "Ideal for time-series data:"
   ]
  },
  {
   "cell_type": "code",
   "execution_count": null,
   "id": "07d87313",
   "metadata": {},
   "outputs": [],
   "source": [
    "=PY(\n",
    "p = figure(x_axis_type=\"datetime\", title=\"Sales Over Time\")\n",
    "p.line(x=xl(\"Dates[Date]\"), y=xl(\"Values[Amount]\"), line_width=2, color=\"navy\")\n",
    "show(p)\n",
    ")"
   ]
  },
  {
   "cell_type": "markdown",
   "id": "971697e1",
   "metadata": {},
   "source": [
    "### 3.2 Scatter Plot\n",
    "\n",
    "Visualize relationships between numeric variables:"
   ]
  },
  {
   "cell_type": "code",
   "execution_count": null,
   "id": "1aa864b0",
   "metadata": {},
   "outputs": [],
   "source": [
    "=PY(\n",
    "p = figure(title=\"Height vs Weight\", tools=\"pan,wheel_zoom\")\n",
    "p.circle(x=xl(\"Data[Height]\"), y=xl(\"Data[Weight]\"), size=8, color=\"green\", alpha=0.6)\n",
    "show(p)\n",
    ")"
   ]
  },
  {
   "cell_type": "markdown",
   "id": "bd6f2170",
   "metadata": {},
   "source": [
    "### 3.3 Bar Chart\n",
    "\n",
    "For categorical comparisons:"
   ]
  },
  {
   "cell_type": "code",
   "execution_count": null,
   "id": "e80df874",
   "metadata": {},
   "outputs": [],
   "source": [
    "=PY(\n",
    "from bokeh.transform import factor_cmap\n",
    "categories = xl(\"Categories[Name]\")\n",
    "values     = xl(\"Categories[Value]\")\n",
    "p = figure(x_range=categories, title=\"Category Values\")\n",
    "p.vbar(x=categories, top=values, width=0.8,\n",
    "       color=factor_cmap('x', palette=[\"#718dbf\",\"#e84d60\"], factors=list(set(categories))))\n",
    "show(p)\n",
    ")"
   ]
  },
  {
   "cell_type": "markdown",
   "id": "9447555e",
   "metadata": {},
   "source": [
    "### 3.4 Histogram\n",
    "\n",
    "To view data distribution:"
   ]
  },
  {
   "cell_type": "code",
   "execution_count": null,
   "id": "64797925",
   "metadata": {},
   "outputs": [],
   "source": [
    "=PY(\n",
    "hist, edges = np.histogram(xl(\"Data[Value]\"), bins=20)\n",
    "p = figure(title=\"Value Distribution\")\n",
    "p.quad(top=hist, bottom=0, left=edges[:-1], right=edges[1:], fill_color=\"orange\", line_color=\"white\")\n",
    "show(p)\n",
    ")"
   ]
  },
  {
   "cell_type": "markdown",
   "id": "758c50f1",
   "metadata": {},
   "source": [
    "## 4. Interactivity and Layouts\n",
    "\n",
    "Bokeh supports interactive tools and layouts:\n",
    "\n",
    "- **Tools**: Enable pan, zoom, hover, box select, and reset by specifying `tools=\"hover,box_zoom,reset\"` in the `figure()` call.\n",
    "- **Hover Tool**:"
   ]
  },
  {
   "cell_type": "code",
   "execution_count": null,
   "id": "d094857f",
   "metadata": {},
   "outputs": [],
   "source": [
    "=PY(\n",
    "from bokeh.models import HoverTool\n",
    "p = figure(tools=\"hover\")\n",
    "hover = p.select_one(HoverTool)\n",
    "hover.tooltips = [(\"Category\", \"@x\"), (\"Value\", \"@top\")]\n",
    "p.vbar(x=categories, top=values)\n",
    "show(p)\n",
    ")"
   ]
  },
  {
   "cell_type": "markdown",
   "id": "87201858",
   "metadata": {},
   "source": [
    "- **Layouts**: Combine multiple plots with row/column layouts:"
   ]
  },
  {
   "cell_type": "code",
   "execution_count": null,
   "id": "c4f84ad1",
   "metadata": {},
   "outputs": [],
   "source": [
    "=PY(\n",
    "from bokeh.layouts import row\n",
    "row(p1, p2)\n",
    ")"
   ]
  },
  {
   "cell_type": "markdown",
   "id": "f0750e35",
   "metadata": {},
   "source": [
    "## 5. Best Practices\n",
    "\n",
    "- **Import Once**: Place Bokeh imports on the first sheet to persist across cells.\n",
    "- **Data Preparation**: Clean and aggregate data with pandas before plotting to improve performance.\n",
    "- **Performance**: Limit glyph counts or sample data for large datasets to maintain responsiveness.\n",
    "- **Display in Excel**: After entering a Python cell with a Bokeh chart, click the PY icon and choose **Display Plot over Cells** to resize and position the chart within the grid.\n",
    "\n",
    "By following these steps, you can leverage Bokeh’s interactive visualization capabilities directly within Excel, blending Python’s powerful plotting API with Excel’s familiar interface."
   ]
  }
 ],
 "metadata": {},
 "nbformat": 4,
 "nbformat_minor": 5
}
