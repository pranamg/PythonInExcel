{
 "cells": [
  {
   "cell_type": "markdown",
   "id": "a14f2170",
   "metadata": {},
   "source": [
    "# Leveraging SnowballStemmer in Python in Excel\n",
    "\n",
    "SnowballStemmer is a stemming algorithm from the NLTK library, used to reduce words to their root forms for text analysis. With Python in Excel, you can use SnowballStemmer to preprocess and normalize text data directly within your spreadsheets, improving the quality of NLP and text mining tasks.\n",
    "\n",
    "## 1. Setup and Imports\n",
    "\n",
    "To use SnowballStemmer, reserve the first worksheet for import statements:"
   ]
  },
  {
   "cell_type": "code",
   "execution_count": null,
   "id": "0cbd9011",
   "metadata": {},
   "outputs": [],
   "source": [
    "=PY(\n",
    "from nltk.stem import SnowballStemmer\n",
    ")"
   ]
  },
  {
   "cell_type": "markdown",
   "id": "47e791be",
   "metadata": {},
   "source": [
    "This makes the SnowballStemmer class available for all subsequent Python cells.\n",
    "\n",
    "## 2. Stemming Text Data\n",
    "\n",
    "- **Stem a list of words:**"
   ]
  },
  {
   "cell_type": "code",
   "execution_count": null,
   "id": "d8b8e049",
   "metadata": {},
   "outputs": [],
   "source": [
    "=PY(\n",
    "stemmer = SnowballStemmer('english')\n",
    "words = [\"running\", \"jumps\", \"easily\", \"fairly\"]\n",
    "stemmed = [stemmer.stem(word) for word in words]\n",
    "stemmed\n",
    ")"
   ]
  },
  {
   "cell_type": "markdown",
   "id": "378214da",
   "metadata": {},
   "source": [
    "- **Stem words from Excel data:**"
   ]
  },
  {
   "cell_type": "code",
   "execution_count": null,
   "id": "1310d6d8",
   "metadata": {},
   "outputs": [],
   "source": [
    "=PY(\n",
    "stemmer = SnowballStemmer('english')\n",
    "words = xl(\"A1:A10\")\n",
    "stemmed = [stemmer.stem(word) for word in words]\n",
    "stemmed\n",
    ")"
   ]
  },
  {
   "cell_type": "markdown",
   "id": "ad14967e",
   "metadata": {},
   "source": [
    "## 3. Multilingual Support\n",
    "\n",
    "- **Use other languages:**"
   ]
  },
  {
   "cell_type": "code",
   "execution_count": null,
   "id": "b0aa3279",
   "metadata": {},
   "outputs": [],
   "source": [
    "=PY(\n",
    "stemmer = SnowballStemmer('spanish')\n",
    "words = [\"corriendo\", \"saltos\", \"fácilmente\"]\n",
    "stemmed = [stemmer.stem(word) for word in words]\n",
    "stemmed\n",
    ")"
   ]
  },
  {
   "cell_type": "markdown",
   "id": "205a1064",
   "metadata": {},
   "source": [
    "## 4. Best Practices\n",
    "\n",
    "- **Imports Once**: Place all import statements on the first worksheet.\n",
    "- **Data Preparation**: Clean and tokenize text before stemming.\n",
    "- **Output Management**: Return lists of stemmed words for review in Excel.\n",
    "- **Performance**: For large datasets, sample or preprocess data to maintain responsiveness.\n",
    "\n",
    "By leveraging SnowballStemmer in Python in Excel, you can efficiently normalize and preprocess text data, enhancing the effectiveness of your NLP workflows within spreadsheets."
   ]
  }
 ],
 "metadata": {},
 "nbformat": 4,
 "nbformat_minor": 5
}
