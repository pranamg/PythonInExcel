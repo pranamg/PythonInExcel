{
 "cells": [
  {
   "cell_type": "markdown",
   "id": "7df23433",
   "metadata": {},
   "source": [
    "# Leveraging imbalanced-learn in Python in Excel\n",
    "\n",
    "The **imbalanced-learn** library (imported as `imblearn`) offers resampling techniques to address class imbalance in machine-learning tasks directly within Excel’s Python integration. By combining Excel’s familiar interface with `imbalanced-learn`’s sampling methods, analysts can build balanced datasets for improved model performance without leaving their spreadsheets.\n",
    "\n",
    "## 1. Setup and Imports\n",
    "\n",
    "To ensure smooth usage, reserve the first worksheet for importing required packages. Enter the following Python formula:"
   ]
  },
  {
   "cell_type": "code",
   "execution_count": null,
   "id": "036898b0",
   "metadata": {},
   "outputs": [],
   "source": [
    "=PY(\n",
    "import imblearn      # core library for resampling methods\n",
    "import pandas as pd  # for DataFrame manipulation\n",
    "from sklearn.model_selection import train_test_split\n",
    ")"
   ]
  },
  {
   "cell_type": "markdown",
   "id": "7fda6553",
   "metadata": {},
   "source": [
    "This import persists across the workbook, making `imblearn` and its functions available for all subsequent Python cells.\n",
    "\n",
    "## 2. Loading and Splitting Data\n",
    "\n",
    "Use Excel ranges or tables as pandas DataFrames, then split into training and test sets while preserving class proportions:"
   ]
  },
  {
   "cell_type": "code",
   "execution_count": null,
   "id": "9a75ebf6",
   "metadata": {},
   "outputs": [],
   "source": [
    "=PY(\n",
    "df = xl(\"DataTable[#All]\", headers=True)\n",
    "X = df.drop(columns=\"target\")\n",
    "y = df[\"target\"]\n",
    "X_train, X_test, y_train, y_test = train_test_split(\n",
    "    X, y, test_size=0.2, stratify=y, random_state=42\n",
    ")\n",
    ")"
   ]
  },
  {
   "cell_type": "markdown",
   "id": "bf1a7ac8",
   "metadata": {},
   "source": [
    "Here, `stratify=y` maintains the original class distribution in both subsets.\n",
    "\n",
    "## 3. Resampling Techniques\n",
    "\n",
    "`imbalanced-learn` offers three main categories of methods:\n",
    "\n",
    "### 3.1 Over-Sampling\n",
    "\n",
    "Create synthetic minority samples with SMOTE:"
   ]
  },
  {
   "cell_type": "code",
   "execution_count": null,
   "id": "a2239fbd",
   "metadata": {},
   "outputs": [],
   "source": [
    "=PY(\n",
    "from imblearn.over_sampling import SMOTE\n",
    "smote = SMOTE(random_state=42)\n",
    "X_res, y_res = smote.fit_resample(X_train, y_train)\n",
    "pd.DataFrame({\"Before\":[y_train.value_counts()[1], y_train.value_counts()[0]],\n",
    "              \"After\":[sum(y_res==1), sum(y_res==0)]})\n",
    ")"
   ]
  },
  {
   "cell_type": "markdown",
   "id": "8da6c7f4",
   "metadata": {},
   "source": [
    "### 3.2 Under-Sampling\n",
    "\n",
    "Randomly remove majority samples:"
   ]
  },
  {
   "cell_type": "code",
   "execution_count": null,
   "id": "719abfa0",
   "metadata": {},
   "outputs": [],
   "source": [
    "=PY(\n",
    "from imblearn.under_sampling import RandomUnderSampler\n",
    "rus = RandomUnderSampler(random_state=42)\n",
    "X_res, y_res = rus.fit_resample(X_train, y_train)\n",
    "pd.DataFrame({\"Before\":[y_train.value_counts()[1], y_train.value_counts()[0]],\n",
    "              \"After\":[sum(y_res==1), sum(y_res==0)]})\n",
    ")"
   ]
  },
  {
   "cell_type": "markdown",
   "id": "d9e15aca",
   "metadata": {},
   "source": [
    "### 3.3 Combined Methods\n",
    "\n",
    "Use both over- and under-sampling:"
   ]
  },
  {
   "cell_type": "code",
   "execution_count": null,
   "id": "a8398aaf",
   "metadata": {},
   "outputs": [],
   "source": [
    "=PY(\n",
    "from imblearn.combine import SMOTETomek\n",
    "smt = SMOTETomek(random_state=42)\n",
    "X_res, y_res = smt.fit_resample(X_train, y_train)\n",
    "pd.DataFrame({\"Before\":[y_train.value_counts()[1], y_train.value_counts()[0]],\n",
    "              \"After\":[sum(y_res==1), sum(y_res==0)]})\n",
    ")"
   ]
  },
  {
   "cell_type": "markdown",
   "id": "86e6b147",
   "metadata": {},
   "source": [
    "## 4. Best Practices\n",
    "\n",
    "- **Imports Once**: Place all import statements on the first worksheet to persist across the workbook.\n",
    "- **Data Preparation**: Clean and preprocess data with pandas before resampling.\n",
    "- **Stratified Splitting**: Always use `stratify=y` in `train_test_split` to maintain class proportions.\n",
    "- **Output Management**: Return summary DataFrames to Excel for easy inspection of class balance before and after resampling.\n",
    "\n",
    "By leveraging imbalanced-learn in Python in Excel, you can address class imbalance issues and improve the robustness of your machine learning models—all within the familiar spreadsheet environment."
   ]
  }
 ],
 "metadata": {},
 "nbformat": 4,
 "nbformat_minor": 5
}
