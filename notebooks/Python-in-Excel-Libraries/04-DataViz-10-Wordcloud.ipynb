{
 "cells": [
  {
   "cell_type": "markdown",
   "id": "5a32ebd5",
   "metadata": {},
   "source": [
    "# Leveraging Wordcloud in Python in Excel\n",
    "\n",
    "Wordcloud is a Python library for generating word clouds from text data, providing a visual summary of the most frequent words in a dataset. With Python in Excel, you can use Wordcloud to create compelling visualizations of text directly within your spreadsheets.\n",
    "\n",
    "## 1. Setup and Imports\n",
    "\n",
    "To use Wordcloud, reserve the first worksheet for import statements:"
   ]
  },
  {
   "cell_type": "code",
   "execution_count": null,
   "id": "e9a09a57",
   "metadata": {},
   "outputs": [],
   "source": [
    "=PY(\n",
    "from wordcloud import WordCloud\n",
    "import matplotlib.pyplot as plt\n",
    ")"
   ]
  },
  {
   "cell_type": "markdown",
   "id": "129cbd2c",
   "metadata": {},
   "source": [
    "This makes the WordCloud class and Matplotlib available for all subsequent Python cells.\n",
    "\n",
    "## 2. Generating a Word Cloud\n",
    "\n",
    "- **From a single text column:**"
   ]
  },
  {
   "cell_type": "code",
   "execution_count": null,
   "id": "14295a38",
   "metadata": {},
   "outputs": [],
   "source": [
    "=PY(\n",
    "text = ' '.join(xl(\"TextData[#All]\", headers=True))\n",
    "wc = WordCloud(width=800, height=400, background_color='white').generate(text)\n",
    "plt.imshow(wc, interpolation='bilinear')\n",
    "plt.axis('off')\n",
    "plt.show()\n",
    ")"
   ]
  },
  {
   "cell_type": "markdown",
   "id": "540d0992",
   "metadata": {},
   "source": [
    "- **From a DataFrame column:**"
   ]
  },
  {
   "cell_type": "code",
   "execution_count": null,
   "id": "a2615f04",
   "metadata": {},
   "outputs": [],
   "source": [
    "=PY(\n",
    "import pandas as pd\n",
    "df = xl(\"Comments[#All]\", headers=True)\n",
    "text = ' '.join(df['comment'])\n",
    "wc = WordCloud(width=600, height=300).generate(text)\n",
    "plt.imshow(wc, interpolation='bilinear')\n",
    "plt.axis('off')\n",
    "plt.show()\n",
    ")"
   ]
  },
  {
   "cell_type": "markdown",
   "id": "f97b5c90",
   "metadata": {},
   "source": [
    "## 3. Customization\n",
    "\n",
    "- **Change color map:**"
   ]
  },
  {
   "cell_type": "code",
   "execution_count": null,
   "id": "355fe8e3",
   "metadata": {},
   "outputs": [],
   "source": [
    "=PY(\n",
    "wc = WordCloud(colormap='viridis').generate(text)\n",
    "plt.imshow(wc)\n",
    "plt.axis('off')\n",
    "plt.show()\n",
    ")"
   ]
  },
  {
   "cell_type": "markdown",
   "id": "d5cda60c",
   "metadata": {},
   "source": [
    "- **Mask shapes and stopwords:**"
   ]
  },
  {
   "cell_type": "code",
   "execution_count": null,
   "id": "ad266423",
   "metadata": {},
   "outputs": [],
   "source": [
    "=PY(\n",
    "from wordcloud import STOPWORDS\n",
    "wc = WordCloud(stopwords=STOPWORDS, mask=my_mask).generate(text)\n",
    "plt.imshow(wc)\n",
    "plt.axis('off')\n",
    "plt.show()\n",
    ")"
   ]
  },
  {
   "cell_type": "markdown",
   "id": "c200551a",
   "metadata": {},
   "source": [
    "## 4. Best Practices\n",
    "\n",
    "- **Imports Once**: Place all import statements on the first worksheet.\n",
    "- **Data Preparation**: Clean and preprocess text before generating word clouds.\n",
    "- **Output Management**: Use `plt.show()` to display the word cloud in Excel.\n",
    "- **Performance**: For large datasets, sample or aggregate text to maintain responsiveness.\n",
    "\n",
    "By leveraging Wordcloud in Python in Excel, you can create visually engaging summaries of text data, making qualitative insights accessible and shareable within your spreadsheets."
   ]
  }
 ],
 "metadata": {},
 "nbformat": 4,
 "nbformat_minor": 5
}
