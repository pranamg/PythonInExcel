{
 "cells": [
  {
   "cell_type": "markdown",
   "id": "28cebf23",
   "metadata": {},
   "source": [
    "# Leveraging NumPy in Python in Excel\n",
    "\n",
    "NumPy (Numerical Python) is included by default in Python in Excel via the Anaconda distribution, enabling high-performance numerical computing directly within your worksheet. By importing NumPy as `np` and using arrays and vectorized operations, you can perform complex mathematical and statistical analyses more efficiently than with native Excel formulas alone.\n",
    "\n",
    "## 1. Setup and Import\n",
    "\n",
    "To use NumPy throughout your workbook, reserve the first worksheet for import statements. In a Python-enabled cell, enter:"
   ]
  },
  {
   "cell_type": "code",
   "execution_count": null,
   "id": "492b1fd2",
   "metadata": {},
   "outputs": [],
   "source": [
    "=PY(\n",
    "import numpy as np\n",
    ")"
   ]
  },
  {
   "cell_type": "markdown",
   "id": "483efc07",
   "metadata": {},
   "source": [
    "This import persists across all Python in Excel cells in that workbook, allowing you to reference `np` without repeating the import.\n",
    "\n",
    "## 2. Creating and Referencing Arrays\n",
    "\n",
    "NumPy’s core data structure is the N-dimensional array (`ndarray`), which you can create from Excel ranges or tables:\n",
    "\n",
    "- **From a range with headers**"
   ]
  },
  {
   "cell_type": "code",
   "execution_count": null,
   "id": "14a4da51",
   "metadata": {},
   "outputs": [],
   "source": [
    "arr = np.array(xl(\"A1:C10\", headers=True))"
   ]
  },
  {
   "cell_type": "markdown",
   "id": "bc5c5e0f",
   "metadata": {},
   "source": [
    "- **From a table column**"
   ]
  },
  {
   "cell_type": "code",
   "execution_count": null,
   "id": "67aea50b",
   "metadata": {},
   "outputs": [],
   "source": [
    "col = np.array(xl(\"Table1[Sales]\"))"
   ]
  },
  {
   "cell_type": "markdown",
   "id": "fe13cac8",
   "metadata": {},
   "source": [
    "- **Manual array creation**"
   ]
  },
  {
   "cell_type": "code",
   "execution_count": null,
   "id": "b0e615af",
   "metadata": {},
   "outputs": [],
   "source": [
    "arr = np.array([1, 2, 3, 4, 5])"
   ]
  },
  {
   "cell_type": "markdown",
   "id": "fb2343f7",
   "metadata": {},
   "source": [
    "These arrays support homogeneous data types and fixed dimensions, enabling consistent behavior across operations.\n",
    "\n",
    "## 3. Vectorized Operations\n",
    "\n",
    "One of NumPy’s most powerful features is vectorized computation, which applies operations element-wise without explicit loops:\n",
    "\n",
    "- **Arithmetic**"
   ]
  },
  {
   "cell_type": "code",
   "execution_count": null,
   "id": "f57df2f5",
   "metadata": {},
   "outputs": [],
   "source": [
    "sum_arr = arr + np.ones_like(arr)\n",
    "prod = arr * 2"
   ]
  },
  {
   "cell_type": "markdown",
   "id": "5b6a0266",
   "metadata": {},
   "source": [
    "- **Statistical reductions**"
   ]
  },
  {
   "cell_type": "code",
   "execution_count": null,
   "id": "33f6575a",
   "metadata": {},
   "outputs": [],
   "source": [
    "total = arr.sum()\n",
    "mean = arr.mean()\n",
    "std_dev = arr.std()"
   ]
  },
  {
   "cell_type": "markdown",
   "id": "14331f01",
   "metadata": {},
   "source": [
    "- **Axis-specific calculations**"
   ]
  },
  {
   "cell_type": "code",
   "execution_count": null,
   "id": "834203b2",
   "metadata": {},
   "outputs": [],
   "source": [
    "mat = np.array(xl(\"D1:F5\", headers=True))\n",
    "col_sums = mat.sum(axis=0)\n",
    "row_means = mat.mean(axis=1)"
   ]
  },
  {
   "cell_type": "markdown",
   "id": "6a2e7170",
   "metadata": {},
   "source": [
    "These operations execute in optimized C code, yielding significant performance gains over cell-by-cell Excel formulas.\n",
    "\n",
    "## 4. Array Manipulation\n",
    "\n",
    "NumPy provides a rich set of functions for reshaping and transforming data:\n",
    "\n",
    "| Operation | NumPy Function | Example |\n",
    "| :-- | :-- | :-- |\n",
    "| Reshape | `np.reshape` | `reshaped = arr.reshape((5,2))` |\n",
    "| Transpose | `.T` | `transposed = mat.T` |\n",
    "| Concatenate | `np.concatenate` | `combined = np.concatenate([arr1, arr2])` |\n",
    "| Stack | `np.vstack`, `np.hstack` | `vert = np.vstack([row1, row2])` |\n",
    "| Slicing/Subsets | Standard slicing | `sub = arr[2:7]`, `cols = mat[:,1]` |\n",
    "\n",
    "These tools enable you to prepare data for visualization, modeling, or further analysis without leaving the Python environment.\n",
    "\n",
    "## 5. Mathematical and Linear Algebra Functions\n",
    "\n",
    "NumPy includes a comprehensive library of mathematical functions and linear algebra routines:\n",
    "\n",
    "- **Universal functions** for element-wise math:"
   ]
  },
  {
   "cell_type": "code",
   "execution_count": null,
   "id": "a31d7dbf",
   "metadata": {},
   "outputs": [],
   "source": [
    "sqrt_arr = np.sqrt(arr)\n",
    "log_arr = np.log(arr)"
   ]
  },
  {
   "cell_type": "markdown",
   "id": "062a9c6c",
   "metadata": {},
   "source": [
    "- **Linear algebra**:"
   ]
  },
  {
   "cell_type": "code",
   "execution_count": null,
   "id": "a53af48f",
   "metadata": {},
   "outputs": [],
   "source": [
    "from numpy.linalg import inv, eig\n",
    "inv_mat = inv(mat)\n",
    "eigenvals, eigenvecs = eig(mat)"
   ]
  },
  {
   "cell_type": "markdown",
   "id": "5ec1e986",
   "metadata": {},
   "source": [
    "- **Random sampling** for simulations:"
   ]
  },
  {
   "cell_type": "code",
   "execution_count": null,
   "id": "2b1e27c6",
   "metadata": {},
   "outputs": [],
   "source": [
    "rand = np.random.normal(loc=0, scale=1, size=100)"
   ]
  },
  {
   "cell_type": "markdown",
   "id": "795cdff8",
   "metadata": {},
   "source": [
    "These capabilities allow you to perform advanced quantitative analyses—such as matrix operations, eigenvalue decompositions, and stochastic modeling—directly in Excel.\n",
    "\n",
    "## 6. Integration with Excel Workflows\n",
    "\n",
    "### 6.1 Returning Results to Cells\n",
    "\n",
    "By default, Python in Excel returns NumPy arrays as Python objects. To spill results into the grid:\n",
    "\n",
    "1. Right-click the Python cell containing your NumPy result.\n",
    "2. Choose **Output As → Excel Values**.\n",
    "3. Excel will populate adjacent cells with the array contents.\n",
    "\n",
    "### 6.2 Combining with Native Excel Features\n",
    "\n",
    "Once spilled, you can apply conditional formatting, create Excel charts, or reference the array results in standard formulas for hybrid workflows that blend Python’s computational power with Excel’s presentation and sharing features.\n",
    "\n",
    "## 7. Best Practices\n",
    "\n",
    "- **Import once** on the first worksheet to avoid redundancy.\n",
    "- **Use vectorized operations** instead of Python loops for performance.\n",
    "- **Manage dimensions** carefully when reshaping to prevent errors.\n",
    "- **Sample large datasets** or aggregate via NumPy before analysis to maintain responsiveness.\n",
    "- **Break complex tasks** into multiple Python cells, leveraging Excel’s row-major execution order for clarity and debugging.\n",
    "\n",
    "By incorporating NumPy into your Python in Excel workflows, you can accelerate numerical computations, streamline data transformations, and unlock advanced analytics within the familiar Excel environment."
   ]
  }
 ],
 "metadata": {},
 "nbformat": 4,
 "nbformat_minor": 5
}
