{
 "cells": [
  {
   "cell_type": "markdown",
   "id": "75bfbc90",
   "metadata": {},
   "source": [
    "# Leveraging Pandas in Python in Excel\n",
    "\n",
    "Pandas is the core data manipulation library available in Python in Excel, enabling advanced tabular data operations directly within your spreadsheets. By importing Pandas (alias `pd`) and using DataFrame objects, you can effortlessly clean, transform, analyze, and output data—all without leaving Excel’s familiar interface.\n",
    "\n",
    "---\n",
    "\n",
    "## 1. Getting Started\n",
    "\n",
    "To use Pandas in Excel, enter a Python formula with `=PY(` and import Pandas on your first worksheet so subsequent cells can reference it without re-importing:"
   ]
  },
  {
   "cell_type": "code",
   "execution_count": null,
   "id": "3f641934",
   "metadata": {},
   "outputs": [],
   "source": [
    "=PY(\n",
    "import pandas as pd\n",
    ")"
   ]
  },
  {
   "cell_type": "markdown",
   "id": "543d046b",
   "metadata": {},
   "source": [
    "This import persists across the workbook, making `pd` available for all Python formulas.\n",
    "\n",
    "---\n",
    "\n",
    "## 2. Creating DataFrames from Excel Ranges and Tables\n",
    "\n",
    "Pandas DataFrames map directly to two-dimensional Excel ranges or tables, enabling seamless data exchange:\n",
    "\n",
    "- **From a Range**:"
   ]
  },
  {
   "cell_type": "code",
   "execution_count": null,
   "id": "d8361942",
   "metadata": {},
   "outputs": [],
   "source": [
    "=PY(\n",
    "df = pd.DataFrame(xl(\"A1:C100\", headers=True))\n",
    ")"
   ]
  },
  {
   "cell_type": "markdown",
   "id": "11185cfc",
   "metadata": {},
   "source": [
    "- **From an Excel Table**:"
   ]
  },
  {
   "cell_type": "code",
   "execution_count": null,
   "id": "5ea39c9c",
   "metadata": {},
   "outputs": [],
   "source": [
    "=PY(\n",
    "df = xl(\"SalesTable[#All]\", headers=True)\n",
    ")"
   ]
  },
  {
   "cell_type": "markdown",
   "id": "8b61255d",
   "metadata": {},
   "source": [
    "By default, `xl()` returns a DataFrame when the output type remains Python objects, letting you work with the data in Pandas before optionally spilling results back to Excel cells.\n",
    "\n",
    "---\n",
    "\n",
    "## 3. Common Data Manipulations\n",
    "\n",
    "### 3.1 Inspecting Data\n",
    "\n",
    "- **View top rows**: `df.head()`\n",
    "- **Summary statistics**: `df.describe()`\n",
    "- **Data types**: `df.dtypes`\n",
    "These methods provide quick insights into dataset structure and distribution.\n",
    "\n",
    "### 3.2 Cleaning and Transforming\n",
    "\n",
    "- **Handle missing values**:"
   ]
  },
  {
   "cell_type": "code",
   "execution_count": null,
   "id": "4bb2e80a",
   "metadata": {},
   "outputs": [],
   "source": [
    "=PY(\n",
    "df_clean = df.dropna()           # remove rows with NaNs\n",
    "df_fill  = df.fillna(0)          # replace NaNs with zero\n",
    ")"
   ]
  },
  {
   "cell_type": "markdown",
   "id": "a6c216a1",
   "metadata": {},
   "source": [
    "- **Rename columns**:"
   ]
  },
  {
   "cell_type": "code",
   "execution_count": null,
   "id": "5dd633df",
   "metadata": {},
   "outputs": [],
   "source": [
    "=PY(\n",
    "df = df.rename(columns={'OldName':'NewName'})\n",
    ")"
   ]
  },
  {
   "cell_type": "markdown",
   "id": "31d20b87",
   "metadata": {},
   "source": [
    "- **Filter rows**:"
   ]
  },
  {
   "cell_type": "code",
   "execution_count": null,
   "id": "74cde883",
   "metadata": {},
   "outputs": [],
   "source": [
    "=PY(\n",
    "df_filtered = df[df['Value'] > 100]\n",
    ")"
   ]
  },
  {
   "cell_type": "markdown",
   "id": "97b3006a",
   "metadata": {},
   "source": [
    "### 3.3 Aggregation and Grouping\n",
    "\n",
    "Pivot-like operations are simplified with Pandas’ grouping and aggregation:"
   ]
  },
  {
   "cell_type": "code",
   "execution_count": null,
   "id": "aab5dc97",
   "metadata": {},
   "outputs": [],
   "source": [
    "=PY(\n",
    "grouped = df.groupby('Category').agg({\n",
    "    'Sales': 'sum',\n",
    "    'Quantity': 'mean'\n",
    "})\n",
    ")"
   ]
  },
  {
   "cell_type": "markdown",
   "id": "949e0217",
   "metadata": {},
   "source": [
    "This creates a new DataFrame with aggregated metrics per category, analogous to Excel PivotTables but fully code-driven.\n",
    "\n",
    "---\n",
    "\n",
    "## 4. Integrating with Excel Output\n",
    "\n",
    "### 4.1 Returning DataFrames as Spreadsheet Ranges\n",
    "\n",
    "Use the Python output menu or right-click on a Python cell to choose **Output As → Excel Values** to spill DataFrame contents back into cells:"
   ]
  },
  {
   "cell_type": "code",
   "execution_count": null,
   "id": "a4d0aa72",
   "metadata": {},
   "outputs": [],
   "source": [
    "=PY(\n",
    "df_clean.head(10)\n",
    ")"
   ]
  },
  {
   "cell_type": "markdown",
   "id": "b5ab4136",
   "metadata": {},
   "source": [
    "This returns the top 10 cleaned rows into the grid for further Excel-based analysis.\n",
    "\n",
    "### 4.2 Combining with Excel Features\n",
    "\n",
    "Once spilled, you can apply conditional formatting, build native charts, or reference the results with traditional Excel formulas.\n",
    "\n",
    "---\n",
    "\n",
    "## 5. Practical Examples\n",
    "\n",
    "| Task | Pandas Code Snippet |\n",
    "| :-- | :-- |\n",
    "| **Descriptive Statistics** | `=PY(df = xl(\"A1:D50\", headers=True); df.describe())` |\n",
    "| **Time-Series Indexing** | `=PY(df['Date'] = pd.to_datetime(df['Date']); df.set_index('Date').resample('M').sum())` |\n",
    "| **Merging Multiple Tables** | `=PY(df1 = xl(\"Table1[#All]\", True); df2 = xl(\"Table2[#All]\", True); pd.merge(df1, df2, on='ID'))` |\n",
    "| **Adding Calculated Columns** | `=PY(df['Profit'] = df['Revenue'] - df['Cost']; df)` |\n",
    "| **Exporting to New Worksheet** | `=PY(writer = pd.ExcelWriter('output.xlsx', engine='xlsxwriter'); df.to_excel(writer, sheet_name='Report'); writer.save())` |\n",
    "\n",
    "Each snippet can be adapted to your workbook’s tables or ranges, letting you script complex workflows that would be tedious with native Excel only.\n",
    "\n",
    "---\n",
    "\n",
    "## 6. Best Practices\n",
    "\n",
    "- **Imports on First Sheet**: Reserve the first worksheet for all `import pandas as pd` statements to load Pandas before any calculations.\n",
    "- **Manage Output Types**: Switch between Python Objects and Excel Values to control when you want to spill DataFrames or keep them as in-memory objects.\n",
    "- **Stepwise Development**: Break complex transformations into multiple Python cells, leveraging Excel’s row-major calculation order for clarity and debugging.\n",
    "- **Performance Considerations**: For very large ranges, filter or sample data within Pandas before processing to maintain responsiveness.\n",
    "\n",
    "---\n",
    "\n",
    "Leveraging Pandas in Python in Excel empowers analysts to combine Excel’s ease of use with Pandas’ robust data manipulation capabilities, streamlining workflows and unlocking advanced analyses without leaving the spreadsheet."
   ]
  }
 ],
 "metadata": {},
 "nbformat": 4,
 "nbformat_minor": 5
}
