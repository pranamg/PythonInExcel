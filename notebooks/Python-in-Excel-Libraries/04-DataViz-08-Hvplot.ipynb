{
 "cells": [
  {
   "cell_type": "markdown",
   "id": "f11f92ea",
   "metadata": {},
   "source": [
    "# Leveraging Hvplot in Python in Excel\n",
    "\n",
    "Hvplot is a high-level plotting API built on HoloViews and Bokeh that provides a concise, Pandas-like interface for creating interactive visualizations directly within Python in Excel cells. By replacing `.plot()` with `.hvplot()`, users can explore data with panning, zooming, hovering, faceting, and more—all inside the familiar Excel environment.\n",
    "\n",
    "## 1. Setup and Imports\n",
    "\n",
    "To begin, place import statements on the first worksheet so they’re loaded before any dependent formulas:"
   ]
  },
  {
   "cell_type": "code",
   "execution_count": null,
   "id": "c7e3ad34",
   "metadata": {},
   "outputs": [],
   "source": [
    "=PY(\n",
    "import hvplot.pandas    # registers .hvplot accessor on Pandas DataFrame/Series\n",
    "import hvplot.xarray    # (if using Xarray data)\n",
    "import hvplot.dask      # (if using Dask DataFrames)\n",
    ")"
   ]
  },
  {
   "cell_type": "markdown",
   "id": "c95b24b2",
   "metadata": {},
   "source": [
    "These imports ensure `.hvplot()` is available on your data objects throughout the workbook.\n",
    "\n",
    "## 2. Referencing Excel Data\n",
    "\n",
    "Use the custom `xl()` function to pull ranges or tables into Python:\n",
    "\n",
    "- Entire table with headers: `xl(\"Table1[#All]\", headers=True)`\n",
    "- Single column: `xl(\"Table1[ColumnName]\")`\n",
    "- Cell range: `xl(\"A1:C100\", headers=True)`\n",
    "\n",
    "Each call returns a Pandas DataFrame or Series compatible with `.hvplot()`.\n",
    "\n",
    "## 3. Basic Hvplot Commands\n",
    "\n",
    "Once data is loaded, replace standard plotting calls with `.hvplot`:\n",
    "\n",
    "- **Line Plot**"
   ]
  },
  {
   "cell_type": "code",
   "execution_count": null,
   "id": "d355de44",
   "metadata": {},
   "outputs": [],
   "source": [
    "=PY(\n",
    "df = xl(\"TimeSeries[#All]\", headers=True)\n",
    "df.hvplot.line(x='date', y='value', title='Time Series Trend')\n",
    ")"
   ]
  },
  {
   "cell_type": "markdown",
   "id": "d07c5146",
   "metadata": {},
   "source": [
    "- **Scatter Plot**"
   ]
  },
  {
   "cell_type": "code",
   "execution_count": null,
   "id": "2febe048",
   "metadata": {},
   "outputs": [],
   "source": [
    "=PY(\n",
    "df = xl(\"Table1[#All]\", headers=True)\n",
    "df.hvplot.scatter(x='sepal_length', y='sepal_width', by='species', size=50)\n",
    ")"
   ]
  },
  {
   "cell_type": "markdown",
   "id": "e270ccac",
   "metadata": {},
   "source": [
    "- **Bar Chart**"
   ]
  },
  {
   "cell_type": "code",
   "execution_count": null,
   "id": "1f048271",
   "metadata": {},
   "outputs": [],
   "source": [
    "=PY(\n",
    "df = xl(\"SalesData[#All]\", headers=True)\n",
    "df.hvplot.bar(x='Category', y='Sales', color='steelblue')\n",
    ")"
   ]
  },
  {
   "cell_type": "markdown",
   "id": "326a146c",
   "metadata": {},
   "source": [
    "- **Histogram**"
   ]
  },
  {
   "cell_type": "code",
   "execution_count": null,
   "id": "fa13b24d",
   "metadata": {},
   "outputs": [],
   "source": [
    "=PY(\n",
    "data = xl(\"A1:A100\")\n",
    "data.hvplot.hist(bins=20, alpha=0.7, color='orange')\n",
    ")"
   ]
  },
  {
   "cell_type": "markdown",
   "id": "8d187921",
   "metadata": {},
   "source": [
    "- **Heatmap**"
   ]
  },
  {
   "cell_type": "code",
   "execution_count": null,
   "id": "391ba1e5",
   "metadata": {},
   "outputs": [],
   "source": [
    "=PY(\n",
    "df = xl(\"Matrix[#All]\", headers=True)\n",
    "df.hvplot.heatmap(x='row', y='col', C='value', cmap='Viridis')\n",
    ")"
   ]
  },
  {
   "cell_type": "markdown",
   "id": "99ea805c",
   "metadata": {},
   "source": [
    "Each plot returns an interactive object rendered in Excel, allowing zoom and hover tools by default.\n",
    "\n",
    "## 4. Advanced Features\n",
    "\n",
    "### 4.1 Faceting and Grouping\n",
    "\n",
    "Create small multiples or group plots by a categorical column:"
   ]
  },
  {
   "cell_type": "code",
   "execution_count": null,
   "id": "6b9bd473",
   "metadata": {},
   "outputs": [],
   "source": [
    "=PY(\n",
    "df = xl(\"Survey[#All]\", headers=True)\n",
    "df.hvplot.hist(y='score', groupby='gender', subplots=True, layout=(1,2))\n",
    ")"
   ]
  },
  {
   "cell_type": "markdown",
   "id": "35f6eafa",
   "metadata": {},
   "source": [
    "### 4.2 Stacked and Area Charts\n",
    "\n",
    "Visualize cumulative values:"
   ]
  },
  {
   "cell_type": "code",
   "execution_count": null,
   "id": "71f47785",
   "metadata": {},
   "outputs": [],
   "source": [
    "=PY(\n",
    "df = xl(\"Sales[#All]\", headers=True)\n",
    "df.hvplot.area(x='month', y=['north','south','east','west'], stacked=True)\n",
    ")"
   ]
  },
  {
   "cell_type": "markdown",
   "id": "21036a9c",
   "metadata": {},
   "source": [
    "### 4.3 Geographic Plots\n",
    "\n",
    "Plot GeoPandas data:"
   ]
  },
  {
   "cell_type": "code",
   "execution_count": null,
   "id": "6eaae042",
   "metadata": {},
   "outputs": [],
   "source": [
    "=PY(\n",
    "import geopandas as gpd\n",
    "gdf = xl(\"GeoData[#All]\", headers=True)  # GeoDataFrame with geometry column\n",
    "gdf.hvplot.polygons(geo=True, color='population', hover_cols=['name'])\n",
    ")"
   ]
  },
  {
   "cell_type": "markdown",
   "id": "49af1bfd",
   "metadata": {},
   "source": [
    "Hvplot automatically handles geometry columns and adds interactive pan/zoom controls.\n",
    "\n",
    "## 5. Customization and Themes\n",
    "\n",
    "Hvplot supports keyword arguments for customization:\n",
    "\n",
    "- **Titles & Labels**: `title='...', xlabel='...', ylabel='...'`\n",
    "- **Color Maps**: `cmap='coolwarm'` or custom palettes\n",
    "- **Sizing**: `height=400, width=600`\n",
    "- **Alpha/Opacity**: `alpha=0.5`\n",
    "\n",
    "Switch backends between Bokeh, Matplotlib, or Plotly:"
   ]
  },
  {
   "cell_type": "code",
   "execution_count": null,
   "id": "75172fc4",
   "metadata": {},
   "outputs": [],
   "source": [
    "=PY(\n",
    "import hvplot.pandas\n",
    "hvplot.extension('matplotlib')      # static Matplotlib backend\n",
    "hvplot.extension('plotly')          # Plotly backend for interactivity\n",
    ")"
   ]
  },
  {
   "cell_type": "markdown",
   "id": "8af8d642",
   "metadata": {},
   "source": [
    "After switching, `.hvplot()` uses the specified rendering engine.\n",
    "\n",
    "## 6. Best Practices\n",
    "\n",
    "- **Imports Once**: Consolidate all `import hvplot.*` calls on the first sheet to persist across cells.\n",
    "- **Row-Major Order**: Ensure prerequisite Python cells precede dependent plot formulas.\n",
    "- **Data Preparation**: Clean and transform data with Pandas prior to plotting for performance.\n",
    "- **Performance**: For large datasets, sample or aggregate before calling `.hvplot()` to maintain responsiveness.\n",
    "\n",
    "By integrating Hvplot within Python in Excel, analysts gain a powerful, interactive visualization toolkit that leverages HoloViews and Bokeh, all accessible through a simple `.hvplot()` API in their familiar spreadsheet workflows."
   ]
  }
 ],
 "metadata": {},
 "nbformat": 4,
 "nbformat_minor": 5
}
