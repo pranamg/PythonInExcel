{
 "cells": [
  {
   "cell_type": "markdown",
   "id": "9fe3fd91",
   "metadata": {},
   "source": [
    "# Leveraging HoloViews in Python in Excel\n",
    "\n",
    "HoloViews, part of the HoloViz ecosystem, provides a high-level, declarative API for building interactive visualizations that can be seamlessly embedded in Python in Excel via the PyXLL add-in and its Holoviz extension. The following guide explains how to set up HoloViews, reference Excel data, create common plot types, and integrate interactivity—all within the familiar Excel grid.\n",
    "\n",
    "## 1. Prerequisites and Setup\n",
    "\n",
    "Before using HoloViews in Excel:\n",
    "\n",
    "- **Install PyXLL and the Holoviz extension**\n",
    "Ensure PyXLL (>= 5.9.0) is installed as your Excel add-in and then install `pyxll-holoviz` in the same Python environment:"
   ]
  },
  {
   "cell_type": "markdown",
   "id": "055b1838",
   "metadata": {},
   "source": [
    "```bash\n",
    "pip install pyxll pyxll-holoviz\n",
    "```"
   ]
  },
  {
   "cell_type": "markdown",
   "id": "64123645",
   "metadata": {},
   "source": [
    "This adds support for HoloViews, hvPlot, and Panel objects in Excel via the `pyxll.plot` function.\n",
    "- **Reserve a Worksheet for Imports**\n",
    "On the first sheet, insert a Python cell with import statements so they load before any visualization formulas:"
   ]
  },
  {
   "cell_type": "code",
   "execution_count": null,
   "id": "c7008b2b",
   "metadata": {},
   "outputs": [],
   "source": [
    "=PY(\n",
    "import holoviews as hv\n",
    "from holoviews import opts\n",
    "hv.extension('bokeh', 'matplotlib')\n",
    ")"
   ]
  },
  {
   "cell_type": "markdown",
   "id": "c681909e",
   "metadata": {},
   "source": [
    "This initializes HoloViews with both Bokeh and Matplotlib backends.\n",
    "\n",
    "## 2. Referencing Excel Data\n",
    "\n",
    "Use the built-in `xl()` function to pull cell ranges or tables into Python as pandas DataFrames:\n",
    "\n",
    "- **Entire table with headers**:"
   ]
  },
  {
   "cell_type": "code",
   "execution_count": null,
   "id": "f864122a",
   "metadata": {},
   "outputs": [],
   "source": [
    "data = xl(\"Table1[#All]\", headers=True)"
   ]
  },
  {
   "cell_type": "markdown",
   "id": "63369f9d",
   "metadata": {},
   "source": [
    "- **Single column**:"
   ]
  },
  {
   "cell_type": "code",
   "execution_count": null,
   "id": "15d64373",
   "metadata": {},
   "outputs": [],
   "source": [
    "series = xl(\"SalesData[Revenue]\")"
   ]
  },
  {
   "cell_type": "markdown",
   "id": "cf1abfc8",
   "metadata": {},
   "source": [
    "- **Cell range**:"
   ]
  },
  {
   "cell_type": "code",
   "execution_count": null,
   "id": "51250947",
   "metadata": {},
   "outputs": [],
   "source": [
    "df = xl(\"A1:C100\", headers=True)"
   ]
  },
  {
   "cell_type": "markdown",
   "id": "78056903",
   "metadata": {},
   "source": [
    "Each call returns a pandas DataFrame or Series compatible with HoloViews’ `Dataset` interface.\n",
    "\n",
    "## 3. Creating Core HoloViews Plots\n",
    "\n",
    "### 3.1 Scatter Plot"
   ]
  },
  {
   "cell_type": "code",
   "execution_count": null,
   "id": "ec724983",
   "metadata": {},
   "outputs": [],
   "source": [
    "=PY(\n",
    "table = hv.Dataset(xl(\"DataTable[#All]\", headers=True))\n",
    "scatter = table.to(hv.Points, kdims=['x','y'])\n",
    "scatter.opts(title=\"X vs Y\", size=5, color='blue')\n",
    "pyxll.plot(scatter)\n",
    ")"
   ]
  },
  {
   "cell_type": "markdown",
   "id": "bea864c1",
   "metadata": {},
   "source": [
    "### 3.2 Line Plot"
   ]
  },
  {
   "cell_type": "code",
   "execution_count": null,
   "id": "a6ab5b9e",
   "metadata": {},
   "outputs": [],
   "source": [
    "=PY(\n",
    "df = xl(\"TimeSeries[#All]\", headers=True)\n",
    "line = hv.Curve((df['date'], df['value']), 'Date', 'Value')\n",
    "line.opts(color='red', line_width=2, title=\"Time Series\")\n",
    "pyxll.plot(line)\n",
    ")"
   ]
  },
  {
   "cell_type": "markdown",
   "id": "e1dd7a13",
   "metadata": {},
   "source": [
    "### 3.3 Bar Chart"
   ]
  },
  {
   "cell_type": "code",
   "execution_count": null,
   "id": "eabe9faa",
   "metadata": {},
   "outputs": [],
   "source": [
    "=PY(\n",
    "df = xl(\"SalesData[#All]\", headers=True)\n",
    "bars = hv.Bars(df, kdims='region', vdims='sales')\n",
    "bars.opts(opts.Bars(color='region', xlabel='Region', ylabel='Sales'))\n",
    "pyxll.plot(bars)\n",
    ")"
   ]
  },
  {
   "cell_type": "markdown",
   "id": "18096074",
   "metadata": {},
   "source": [
    "## 4. Advanced Techniques\n",
    "\n",
    "### 4.1 Layered Plots\n",
    "\n",
    "Combine multiple elements into one visualization:"
   ]
  },
  {
   "cell_type": "code",
   "execution_count": null,
   "id": "cbf495d3",
   "metadata": {},
   "outputs": [],
   "source": [
    "=PY(\n",
    "df = xl(\"Data[#All]\", headers=True)\n",
    "points = hv.Points(df, ['x','y']).opts(color='green')\n",
    "hist   = hv.operation.histogram(points, 'x', bins=20)\n",
    "overlay = points * hist\n",
    "pyxll.plot(overlay.opts(show_legend=True))\n",
    ")"
   ]
  },
  {
   "cell_type": "markdown",
   "id": "dda96822",
   "metadata": {},
   "source": [
    "### 4.2 Faceting\n",
    "\n",
    "Break data into subplots by category:"
   ]
  },
  {
   "cell_type": "code",
   "execution_count": null,
   "id": "5fb972df",
   "metadata": {},
   "outputs": [],
   "source": [
    "=PY(\n",
    "df = xl(\"Survey[#All]\", headers=True)\n",
    "table = hv.Dataset(df)\n",
    "layout = table.to(hv.Points, ['score','value']).layout('group')\n",
    "pyxll.plot(layout.cols(3))\n",
    ")"
   ]
  },
  {
   "cell_type": "markdown",
   "id": "f1171b3e",
   "metadata": {},
   "source": [
    "## 5. Interactivity\n",
    "\n",
    "HoloViews supports interactive widgets and dynamic updates in Excel via Panel:"
   ]
  },
  {
   "cell_type": "code",
   "execution_count": null,
   "id": "54bd9f1e",
   "metadata": {},
   "outputs": [],
   "source": [
    "=PY(\n",
    "import panel as pn\n",
    "df = xl(\"InteractiveData[#All]\", headers=True)\n",
    "points = df.hvplot.scatter('x','y', by='category', responsive=True)\n",
    "panel = pn.panel(points)\n",
    "pyxll.plot(panel)\n",
    ")"
   ]
  },
  {
   "cell_type": "markdown",
   "id": "07b28d6b",
   "metadata": {},
   "source": [
    "## 6. Best Practices\n",
    "\n",
    "- **Imports on First Sheet**: Guarantee persistent availability of HoloViews and Panel.\n",
    "- **Data Preparation**: Clean and structure data via pandas before plotting.\n",
    "- **Responsive Layouts**: Use `responsive=True` for auto-scaling when resized in Excel.\n",
    "- **Performance**: For large datasets, sample or aggregate prior to visualization to maintain responsiveness.\n",
    "\n",
    "By following these steps, you can harness HoloViews’ declarative grammar of graphics directly in Excel, unlocking interactive, publication-quality visualizations without leaving the spreadsheet environment."
   ]
  }
 ],
 "metadata": {},
 "nbformat": 4,
 "nbformat_minor": 5
}
