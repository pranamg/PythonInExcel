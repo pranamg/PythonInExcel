{
 "cells": [
  {
   "cell_type": "markdown",
   "id": "c7cb182a",
   "metadata": {},
   "source": [
    "# Leveraging the Pillow Library in Python in Excel\n",
    "\n",
    "Python in Excel includes the Pillow library (imported as `PIL`) by default, providing support for opening, manipulating, and saving various image file formats within spreadsheet cells[^36_1]. By combining Excel’s `=PY()` formula with Pillow’s rich API, you can automate image workflows—such as resizing product photos, annotating graphics, or generating custom charts—directly in your workbook.\n",
    "\n",
    "## 1. Availability and Import\n",
    "\n",
    "To ensure Pillow is ready before any formulas run, enter your import statements on the first worksheet in a Python cell. For example:"
   ]
  },
  {
   "cell_type": "code",
   "execution_count": null,
   "id": "27d0a5ba",
   "metadata": {},
   "outputs": [],
   "source": [
    "=PY(\n",
    "import PIL\n",
    "from PIL import Image, ImageDraw, ImageFont\n",
    ")"
   ]
  },
  {
   "cell_type": "markdown",
   "id": "19f348cf",
   "metadata": {},
   "source": [
    "This import persists across all Python in Excel formulas in that workbook[^36_2].\n",
    "\n",
    "## 2. Referencing and Loading Images\n",
    "\n",
    "Pillow can load images from local file paths or in-memory byte streams. To open an image stored alongside your workbook:"
   ]
  },
  {
   "cell_type": "code",
   "execution_count": null,
   "id": "ba0ab9f2",
   "metadata": {},
   "outputs": [],
   "source": [
    "=PY(\n",
    "img = Image.open(\"logo.png\")\n",
    "img\n",
    ")"
   ]
  },
  {
   "cell_type": "markdown",
   "id": "34cc9030",
   "metadata": {},
   "source": [
    "Excel returns an image object that you can display or extract over cells[^36_2]. You can also load images from a byte array (e.g., from an external data source piped into Python) using:"
   ]
  },
  {
   "cell_type": "code",
   "execution_count": null,
   "id": "9df1ca1f",
   "metadata": {},
   "outputs": [],
   "source": [
    "=PY(\n",
    "from io import BytesIO\n",
    "data = xl(\"ImageData[Bytes]\")            # Returns binary blob\n",
    "img = Image.open(BytesIO(data))\n",
    "img\n",
    ")"
   ]
  },
  {
   "cell_type": "markdown",
   "id": "6e8a9cfe",
   "metadata": {},
   "source": [
    "This approach lets you integrate raw image data held in Excel tables into Pillow workflows.\n",
    "\n",
    "## 3. Basic Image Operations\n",
    "\n",
    "### 3.1 Resizing\n",
    "\n",
    "Scale images to fit dashboards or thumbnails:"
   ]
  },
  {
   "cell_type": "code",
   "execution_count": null,
   "id": "64dfc2d2",
   "metadata": {},
   "outputs": [],
   "source": [
    "=PY(\n",
    "img = Image.open(\"photo.jpg\")\n",
    "resized = img.resize((200, 200), Image.ANTIALIAS)\n",
    "resized\n",
    ")"
   ]
  },
  {
   "cell_type": "markdown",
   "id": "68ae39ad",
   "metadata": {},
   "source": [
    "This creates a 200×200 px thumbnail with high-quality downsampling[^36_3].\n",
    "\n",
    "### 3.2 Cropping\n",
    "\n",
    "Extract regions of interest before analysis:"
   ]
  },
  {
   "cell_type": "code",
   "execution_count": null,
   "id": "160f8517",
   "metadata": {},
   "outputs": [],
   "source": [
    "=PY(\n",
    "img = Image.open(\"photo.jpg\")\n",
    "crop_box = (50, 50, 250, 200)            # (left, top, right, bottom)\n",
    "cropped = img.crop(crop_box)\n",
    "cropped\n",
    ")"
   ]
  },
  {
   "cell_type": "markdown",
   "id": "b9fa8754",
   "metadata": {},
   "source": [
    "Cropping lets you focus on specific elements in an image for reporting inside Excel[^36_3].\n",
    "\n",
    "### 3.3 Rotation and Flipping\n",
    "\n",
    "Orient images for consistent presentation:"
   ]
  },
  {
   "cell_type": "code",
   "execution_count": null,
   "id": "42dabb5c",
   "metadata": {},
   "outputs": [],
   "source": [
    "=PY(\n",
    "img = Image.open(\"diagram.png\")\n",
    "rotated = img.rotate(90, expand=True)\n",
    "rotated\n",
    ")"
   ]
  },
  {
   "cell_type": "markdown",
   "id": "658e521e",
   "metadata": {},
   "source": [
    "The `expand=True` parameter adjusts the canvas to accommodate the rotated image without clipping[^36_3].\n",
    "\n",
    "### 3.4 Color Conversion\n",
    "\n",
    "Convert images to grayscale or other modes for analysis:"
   ]
  },
  {
   "cell_type": "code",
   "execution_count": null,
   "id": "7aace734",
   "metadata": {},
   "outputs": [],
   "source": [
    "=PY(\n",
    "img = Image.open(\"color_chart.png\")\n",
    "gray = img.convert(\"L\")\n",
    "gray\n",
    ")"
   ]
  },
  {
   "cell_type": "markdown",
   "id": "e710961b",
   "metadata": {},
   "source": [
    "Grayscale conversion can simplify tasks like thresholding or histogram analysis.\n",
    "\n",
    "## 4. Integrating Results with Excel\n",
    "\n",
    "After executing a Pillow operation in a Python cell, Excel displays a small chart icon. To embed the resulting image in the worksheet grid, right-click the icon and select **Display Plot over Cells** (or use `Ctrl+Alt+Shift+C`), allowing you to resize and position the image like a native chart[^36_2]. You can also spill image metadata (e.g., size, mode) into cells for further Excel calculations:"
   ]
  },
  {
   "cell_type": "code",
   "execution_count": null,
   "id": "b2e41722",
   "metadata": {},
   "outputs": [],
   "source": [
    "=PY(\n",
    "img = Image.open(\"photo.jpg\")\n",
    "{\"Size\": img.size, \"Mode\": img.mode}\n",
    ")"
   ]
  },
  {
   "cell_type": "markdown",
   "id": "6a1e9dde",
   "metadata": {},
   "source": [
    "This spills a dictionary of properties into adjacent cells for reference.\n",
    "\n",
    "## 5. Advanced Use Cases\n",
    "\n",
    "- **Watermarking**: Overlay translucent text or logos on images for brand compliance:"
   ]
  },
  {
   "cell_type": "code",
   "execution_count": null,
   "id": "8dc53dca",
   "metadata": {},
   "outputs": [],
   "source": [
    "=PY(\n",
    "img = Image.open(\"report_chart.png\")\n",
    "draw = ImageDraw.Draw(img)\n",
    "font = ImageFont.load_default()\n",
    "draw.text((10, 10), \"CONFIDENTIAL\", fill=(255,0,0,128), font=font)\n",
    "img\n",
    ")"
   ]
  },
  {
   "cell_type": "markdown",
   "id": "0d51f285",
   "metadata": {},
   "source": [
    "- **Collage Generation**: Combine multiple images into a single canvas for dashboards:"
   ]
  },
  {
   "cell_type": "code",
   "execution_count": null,
   "id": "1c99a23f",
   "metadata": {},
   "outputs": [],
   "source": [
    "=PY(\n",
    "images = [Image.open(f\"image{i}.png\") for i in range(1,5)]\n",
    "w, h = images[0].size\n",
    "collage = Image.new(\"RGB\", (w*2, h*2))\n",
    "positions = [(0,0),(w,0),(0,h),(w,h)]\n",
    "for img, pos in zip(images, positions):\n",
    "    collage.paste(img, pos)\n",
    "collage\n",
    ")"
   ]
  },
  {
   "cell_type": "markdown",
   "id": "21346cf1",
   "metadata": {},
   "source": [
    "- **Chart Annotation**: Draw shapes or arrows on exported plots to highlight trends before embedding back into Excel.\n",
    "\n",
    "\n",
    "## 6. Best Practices\n",
    "\n",
    "- **Import Once**: Reserve a dedicated worksheet for all `import PIL` and configuration statements to ensure consistent availability.\n",
    "- **Relative Paths**: Use workbook–relative paths or named ranges for image file locations to maintain portability across users.\n",
    "- **Performance**: Preload images and limit canvas sizes in Python cells to keep workbook performance responsive.\n",
    "- **Automation**: Combine Pillow operations with `xl()` references to network–driven data tables, enabling dynamic image generation whenever underlying Excel data changes.\n",
    "\n",
    "By harnessing the Pillow library within Python in Excel, you can enrich your spreadsheets with automated image processing—transforming raw graphics into actionable visual assets without leaving the familiar Excel environment.\n",
    "\n",
    "<div style=\"text-align: center\">⁂</div>\n",
    "\n",
    "[^36_1]: https://support.microsoft.com/en-us/office/open-source-libraries-and-python-in-excel-c817c897-41db-40a1-b9f3-d5ffe6d1bf3e\n",
    "[^36_2]: https://python.plainenglish.io/unlocking-excels-power-leverage-python-for-streamlined-data-analysis-and-automation-e5a456154fbf?gi=3d8df1812986\n",
    "[^36_3]: https://automatetheboringstuff.com/2e/chapter13/\n",
    "[^36_4]: https://dev.to/mhamzap10/7-python-excel-libraries-in-depth-review-for-developers-4hf4\n",
    "[^36_5]: https://www.youtube.com/watch?v=MdXH3ukABqQ\n",
    "[^36_6]: https://stackoverflow.com/questions/68070006/how-to-add-pil-images-to-excel-sheet-using-pandas\n",
    "[^36_7]: https://www.pyxll.com/docs/introduction.html\n",
    "[^36_8]: https://python.plainenglish.io/unlocking-excels-power-leverage-python-for-streamlined-data-analysis-and-automation-e5a456154fbf?gi=6667c9a41805\n",
    "[^36_9]: https://www.pyxll.com/blog/tools-for-working-with-excel-and-python/\n",
    "[^36_10]: https://pypi.org/project/openpyxl/\n",
    "[^36_11]: https://realpython.com/openpyxl-excel-spreadsheets-python/\n",
    "[^36_12]: https://support.microsoft.com/en-us/office/get-started-with-python-in-excel-a33fbcbe-065b-41d3-82cf-23d05397f53d\n",
    "[^36_13]: https://www.youtube.com/watch?v=GMF1E0dmjWs\n",
    "[^36_14]: https://www.reddit.com/r/learnpython/comments/ijsw0y/how_do_you_expose_a_buffer_interface_from_pillow/\n",
    "[^36_15]: https://python.plainenglish.io/a-guide-to-excel-spreadsheets-in-python-with-openpyxl-2cea39179eeb?gi=ed5b070cd7ec\n",
    "[^36_16]: https://realpython.com/image-processing-with-the-python-pillow-library/\n",
    "[^36_17]: https://github.com/pythonexcels/examples\n",
    "[^36_18]: https://wp.stolaf.edu/it/installing-pil-pillow-cimage-on-windows-and-mac/\n",
    "[^36_19]: https://www.tutorialspoint.com/python_pillow/python_pillow_quick_guide.htm"
   ]
  }
 ],
 "metadata": {},
 "nbformat": 4,
 "nbformat_minor": 5
}
