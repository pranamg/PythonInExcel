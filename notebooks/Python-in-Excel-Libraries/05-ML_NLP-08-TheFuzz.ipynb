{
 "cells": [
  {
   "cell_type": "markdown",
   "id": "9f7e01ad",
   "metadata": {},
   "source": [
    "# Leveraging TheFuzz in Python in Excel\n",
    "\n",
    "TheFuzz (formerly known as FuzzyWuzzy) is a Python library for fuzzy string matching, enabling you to compare, score, and match text data even when there are typos or variations. With Python in Excel, you can use TheFuzz to perform approximate string matching and deduplication directly within your spreadsheets.\n",
    "\n",
    "## 1. Setup and Imports\n",
    "\n",
    "To use TheFuzz, reserve the first worksheet for import statements:"
   ]
  },
  {
   "cell_type": "code",
   "execution_count": null,
   "id": "160790e8",
   "metadata": {},
   "outputs": [],
   "source": [
    "=PY(\n",
    "from thefuzz import fuzz, process\n",
    ")"
   ]
  },
  {
   "cell_type": "markdown",
   "id": "c4b5c779",
   "metadata": {},
   "source": [
    "This makes the main TheFuzz functions available for all subsequent Python cells.\n",
    "\n",
    "## 2. Fuzzy String Matching\n",
    "\n",
    "- **Simple ratio comparison:**"
   ]
  },
  {
   "cell_type": "code",
   "execution_count": null,
   "id": "b00d606e",
   "metadata": {},
   "outputs": [],
   "source": [
    "=PY(\n",
    "score = fuzz.ratio('apple', 'appl')\n",
    "score\n",
    ")"
   ]
  },
  {
   "cell_type": "markdown",
   "id": "159b503e",
   "metadata": {},
   "source": [
    "- **Partial ratio:**"
   ]
  },
  {
   "cell_type": "code",
   "execution_count": null,
   "id": "e966ef2f",
   "metadata": {},
   "outputs": [],
   "source": [
    "=PY(\n",
    "score = fuzz.partial_ratio('apple pie', 'pie')\n",
    "score\n",
    ")"
   ]
  },
  {
   "cell_type": "markdown",
   "id": "d2001b37",
   "metadata": {},
   "source": [
    "- **Token sort ratio:**"
   ]
  },
  {
   "cell_type": "code",
   "execution_count": null,
   "id": "bd5f82d7",
   "metadata": {},
   "outputs": [],
   "source": [
    "=PY(\n",
    "score = fuzz.token_sort_ratio('new york', 'york new')\n",
    "score\n",
    ")"
   ]
  },
  {
   "cell_type": "markdown",
   "id": "affafcf5",
   "metadata": {},
   "source": [
    "## 3. Extracting Best Matches\n",
    "\n",
    "- **Find best match from a list:**"
   ]
  },
  {
   "cell_type": "code",
   "execution_count": null,
   "id": "b931cc19",
   "metadata": {},
   "outputs": [],
   "source": [
    "=PY(\n",
    "choices = xl(\"A1:A10\")\n",
    "match, score = process.extractOne('appl', choices)\n",
    "(match, score)\n",
    ")"
   ]
  },
  {
   "cell_type": "markdown",
   "id": "2a0cf7bc",
   "metadata": {},
   "source": [
    "- **Find top N matches:**"
   ]
  },
  {
   "cell_type": "code",
   "execution_count": null,
   "id": "453da8e8",
   "metadata": {},
   "outputs": [],
   "source": [
    "=PY(\n",
    "results = process.extract('appl', choices, limit=3)\n",
    "results\n",
    ")"
   ]
  },
  {
   "cell_type": "markdown",
   "id": "1f1364ab",
   "metadata": {},
   "source": [
    "## 4. Best Practices\n",
    "\n",
    "- **Imports Once**: Place all import statements on the first worksheet.\n",
    "- **Data Preparation**: Clean and standardize text before matching.\n",
    "- **Output Management**: Return scores or tuples for review in Excel.\n",
    "- **Performance**: For large lists, sample or preprocess data to maintain responsiveness.\n",
    "\n",
    "By leveraging TheFuzz in Python in Excel, you can perform robust fuzzy matching and text deduplication, making data cleaning and comparison tasks easier within your spreadsheets."
   ]
  }
 ],
 "metadata": {},
 "nbformat": 4,
 "nbformat_minor": 5
}
