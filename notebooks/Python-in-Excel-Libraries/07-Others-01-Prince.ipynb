{
 "cells": [
  {
   "cell_type": "markdown",
   "id": "4964e25b",
   "metadata": {},
   "source": [
    "# Leveraging Prince in Python in Excel\n",
    "\n",
    "Prince is a Python library for multivariate exploratory data analysis, offering methods such as Principal Component Analysis (PCA), Correspondence Analysis (CA), Multiple Correspondence Analysis (MCA), Factor Analysis of Mixed Data (FAMD), and more with a scikit-learn–style API [^35_1][^35_2]. By integrating Prince into Python in Excel, you can perform dimensionality reduction and factor analysis directly in spreadsheet cells without leaving the familiar Excel interface.\n",
    "\n",
    "## 1. Setup and Installation\n",
    "\n",
    "To use Prince in Python in Excel, ensure your environment has Prince installed. In a Python cell on the first worksheet, run:"
   ]
  },
  {
   "cell_type": "code",
   "execution_count": null,
   "id": "3155697e",
   "metadata": {},
   "outputs": [],
   "source": [
    "=PY(\n",
    "!pip install prince\n",
    ")"
   ]
  },
  {
   "cell_type": "markdown",
   "id": "858db4b6",
   "metadata": {},
   "source": [
    "This makes Prince available for all subsequent cells [^35_3].\n",
    "\n",
    "## 2. Importing Prince\n",
    "\n",
    "Place import statements on the first worksheet so they load before other formulas:"
   ]
  },
  {
   "cell_type": "code",
   "execution_count": null,
   "id": "1d27abb6",
   "metadata": {},
   "outputs": [],
   "source": [
    "=PY(\n",
    "import prince\n",
    ")"
   ]
  },
  {
   "cell_type": "markdown",
   "id": "94177992",
   "metadata": {},
   "source": [
    "This import persists across the workbook, allowing you to reference `prince` in any cell [^35_1].\n",
    "\n",
    "## 3. Referencing Excel Data\n",
    "\n",
    "Use the `xl()` helper to pull data into Python as a pandas DataFrame or Series:\n",
    "\n",
    "- **Entire Table**: `xl(\"MyTable[#All]\", headers=True)`\n",
    "- **Single Range**: `xl(\"A1:D100\", headers=True)`\n",
    "- **Specific Columns**: `xl(\"MyTable[ColumnName]\")`\n",
    "\n",
    "These calls return pandas objects ready for Prince estimators [^35_2].\n",
    "\n",
    "## 4. Core Prince Workflows\n",
    "\n",
    "### 4.1 Principal Component Analysis (PCA)\n",
    "\n",
    "Reduce continuous variables into principal components:"
   ]
  },
  {
   "cell_type": "code",
   "execution_count": null,
   "id": "c41c7124",
   "metadata": {},
   "outputs": [],
   "source": [
    "=PY(\n",
    "df = xl(\"Data[#All]\", headers=True)\n",
    "pca = prince.PCA(n_components=3, random_state=42)\n",
    "pca = pca.fit(df)\n",
    "coords = pca.transform(df)\n",
    "coords\n",
    ")"
   ]
  },
  {
   "cell_type": "markdown",
   "id": "0d67f9f4",
   "metadata": {},
   "source": [
    "This fits a 3-component PCA and spills transformed coordinates into Excel [^35_2].\n",
    "\n",
    "### 4.2 Multiple Correspondence Analysis (MCA)\n",
    "\n",
    "Analyze categorical datasets by extracting principal dimensions:"
   ]
  },
  {
   "cell_type": "code",
   "execution_count": null,
   "id": "61a2ba37",
   "metadata": {},
   "outputs": [],
   "source": [
    "=PY(\n",
    "cat = xl(\"CatTable[#All]\", headers=True)\n",
    "mca = prince.MCA(n_components=2, random_state=0)\n",
    "mca = mca.fit(cat)\n",
    "row_coords = mca.transform(cat)\n",
    "row_coords\n",
    ")"
   ]
  },
  {
   "cell_type": "markdown",
   "id": "1af4b0f9",
   "metadata": {},
   "source": [
    "This computes two MCA dimensions and displays row coordinates [^35_3].\n",
    "\n",
    "### 4.3 Factor Analysis of Mixed Data (FAMD)\n",
    "\n",
    "Handle both numerical and categorical columns:"
   ]
  },
  {
   "cell_type": "code",
   "execution_count": null,
   "id": "520aa194",
   "metadata": {},
   "outputs": [],
   "source": [
    "=PY(\n",
    "df = xl(\"MixedTable[#All]\", headers=True)\n",
    "famd = prince.FAMD(n_components=4, random_state=0)\n",
    "famd = famd.fit(df)\n",
    "coords = famd.transform(df)\n",
    "coords\n",
    ")"
   ]
  },
  {
   "cell_type": "markdown",
   "id": "5d05bd6a",
   "metadata": {},
   "source": [
    "FAMD extracts factors that jointly explain mixed-type data patterns [^35_4].\n",
    "\n",
    "## 5. Visualizing Results\n",
    "\n",
    "Prince supports Altair for plotting. For example, to chart PCA results:"
   ]
  },
  {
   "cell_type": "code",
   "execution_count": null,
   "id": "5d32bf37",
   "metadata": {},
   "outputs": [],
   "source": [
    "=PY(\n",
    "chart = pca.plot(df,\n",
    "    show_row_labels=True,\n",
    "    color_rows_by='Group'\n",
    ")\n",
    "chart\n",
    ")"
   ]
  },
  {
   "cell_type": "markdown",
   "id": "9164ae62",
   "metadata": {},
   "source": [
    "This uses Altair to render an interactive scatter plot of principal components [^35_1].\n",
    "\n",
    "## 6. Integrating with Excel\n",
    "\n",
    "- **Spilling Results**: Right-click the Python cell and choose **Output As → Excel Values** to spill DataFrame outputs into worksheet cells for further native analysis.\n",
    "- **Chart Extraction**: After plotting, right-click the plot icon and select **Display Plot over Cells** to position charts within your spreadsheet grid.\n",
    "- **Formula References**: Combine the transformed coordinates with Excel formulas or PivotTables to build dashboards and reports.\n",
    "\n",
    "\n",
    "## 7. Best Practices\n",
    "\n",
    "- **Imports on First Sheet**: Reserve the first worksheet for all imports (`import prince`) to ensure dependencies are loaded before usage.\n",
    "- **Row-Major Order**: Place Python cells in logical order (imports → data load → model fit → transform → visualize) to follow Excel’s execution flow.\n",
    "- **Reproducibility**: Set `random_state` in estimators to ensure consistent results across recalculations.\n",
    "- **Performance**: For large datasets, reduce dimensionality incrementally or sample data before fitting to maintain responsiveness.\n",
    "\n",
    "By embedding Prince’s multivariate analysis directly within Python in Excel, analysts can perform sophisticated factor analyses, visualize latent structures, and integrate results seamlessly with Excel’s native capabilities—all without leaving their spreadsheets.\n",
    "\n",
    "---\n",
    "\n",
    "References\n",
    "[^35_1] Max Halford, “Prince - Max Halford,” GitHub, Jan. 2022.\n",
    "[^35_2] “pip install prince==0.6.2,” PyPI, Mar. 2019.\n",
    "[^35_3] “prince·PyPI,” PyPI, Mar. 2019.\n",
    "[^35_4] Max Halford, “MaxHalford/prince - GitHub,” GitHub, Oct. 2016.\n",
    "\n",
    "<div style=\"text-align: center\">⁂</div>\n",
    "\n",
    "[^35_1]: https://maxhalford.github.io/prince/\n",
    "[^35_2]: https://github.com/MaxHalford/prince\n",
    "[^35_3]: https://pypi.org/project/prince/0.6.2/\n",
    "[^35_4]: https://pypi.org/project/prince/\n",
    "[^35_5]: https://github.com/sufio/python-pyprince\n",
    "[^35_6]: https://stackoverflow.com/questions/65946029/python-prince-mca-transformation-error-on-new-data\n",
    "[^35_7]: https://pypi.org/project/prince/0.4.8/\n",
    "[^35_8]: https://github.com/kormilitzin/Prince\n",
    "[^35_9]: https://stackoverflow.com/questions/67391441/obtaining-multiple-correspondence-analysis-mca-plot-in-python-using-prince-pac\n",
    "[^35_10]: https://maxhalford.github.io/prince/pca/"
   ]
  }
 ],
 "metadata": {},
 "nbformat": 4,
 "nbformat_minor": 5
}
