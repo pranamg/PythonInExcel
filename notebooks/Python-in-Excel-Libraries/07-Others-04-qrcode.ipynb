{
 "cells": [
  {
   "cell_type": "markdown",
   "id": "e90a3f30",
   "metadata": {},
   "source": [
    "# Leveraging the qrcode Library in Python in Excel\n",
    "\n",
    "Python in Excel enables you to integrate the pure-Python `qrcode` library’s QR-code generation directly into your spreadsheets. By using the `=PY()` formula and Excel’s `xl()` data-reference helper, you can automate and customize QR-code creation without leaving Excel’s familiar interface.\n",
    "\n",
    "## 1. Setup and Imports\n",
    "\n",
    "On the first worksheet, import the `qrcode` module (with Pillow support) so it’s available workbook-wide:"
   ]
  },
  {
   "cell_type": "code",
   "execution_count": null,
   "id": "4ed51f33",
   "metadata": {},
   "outputs": [],
   "source": [
    "=PY(\n",
    "import qrcode"
   ]
  },
  {
   "cell_type": "markdown",
   "id": "ead139b8",
   "metadata": {},
   "source": [
    "Install with:"
   ]
  },
  {
   "cell_type": "markdown",
   "id": "410471f3",
   "metadata": {},
   "source": [
    "```bash\n",
    "pip install \"qrcode[pil]\"\n",
    "```"
   ]
  },
  {
   "cell_type": "markdown",
   "id": "e573925c",
   "metadata": {},
   "source": [
    "This ensures both the `qrcode` core and the PIL-based image factory are available for generating and saving QR-code images within Excel cells[^32_1].\n",
    "\n",
    "## 2. Referencing Excel Data\n",
    "\n",
    "Use the `xl()` function to pull text or URLs from cells or tables:\n",
    "\n",
    "- Single cell: `xl(\"A2\")`\n",
    "- Column of values: `xl(\"Table1[URL]\")`\n",
    "- Range of text: `xl(\"B2:B50\", headers=True)`\n",
    "\n",
    "These calls return Python strings, lists, or pandas Series suitable for encoding into QR codes[^32_1].\n",
    "\n",
    "## 3. Generating Basic QR Codes\n",
    "\n",
    "### 3.1 Using the Shortcut `make` Function\n",
    "\n",
    "For quick generation, call `qrcode.make()`:"
   ]
  },
  {
   "cell_type": "code",
   "execution_count": null,
   "id": "16ce3015",
   "metadata": {},
   "outputs": [],
   "source": [
    "=PY(\n",
    "img = qrcode.make(xl(\"A2\"))\n",
    "img.save(\"qr_code.png\")\n",
    "img\n",
    ")"
   ]
  },
  {
   "cell_type": "markdown",
   "id": "92c035dc",
   "metadata": {},
   "source": [
    "- `img` is a PIL `Image` object displayed in the cell.\n",
    "- The PNG file is saved to the workbook’s cloud storage, accessible via Excel Online[^32_1].\n",
    "\n",
    "\n",
    "### 3.2 Advanced Control with `QRCode` Class\n",
    "\n",
    "For customization, instantiate `QRCode`:"
   ]
  },
  {
   "cell_type": "code",
   "execution_count": null,
   "id": "4d78b840",
   "metadata": {},
   "outputs": [],
   "source": [
    "=PY(\n",
    "qr = qrcode.QRCode(\n",
    "  version=None,\n",
    "  error_correction=qrcode.constants.ERROR_CORRECT_Q,\n",
    "  box_size=8,\n",
    "  border=2\n",
    ")\n",
    "qr.add_data(xl(\"Table1[Info]\"))\n",
    "qr.make(fit=True)\n",
    "img = qr.make_image(fill_color=\"navy\", back_color=\"white\")\n",
    "img\n",
    ")"
   ]
  },
  {
   "cell_type": "markdown",
   "id": "e1e5a460",
   "metadata": {},
   "source": [
    "- `version=None` + `fit=True` auto-sizes the code.\n",
    "- `error_correction` levels: `L`, `M`, `Q`, `H` (7–30% resilience).\n",
    "- `box_size` and `border` control module pixel dimensions and quiet zone thickness[^32_1].\n",
    "\n",
    "\n",
    "## 4. Customization Options\n",
    "\n",
    "| Feature | Parameter or Method |\n",
    "| :-- | :-- |\n",
    "| Fill and background | `make_image(fill_color, back_color)` |\n",
    "| Color mapping | RGB tuples, e.g., `(255,0,0)` for red modules |\n",
    "| Box size | `box_size=<int>` |\n",
    "| Border width | `border=<int>` |\n",
    "| Error correction | `error_correction=ERROR_CORRECT_[L/M/Q/H]` |\n",
    "\n",
    "For example, a red-on-yellow QR code:"
   ]
  },
  {
   "cell_type": "code",
   "execution_count": null,
   "id": "95a4c0f3",
   "metadata": {},
   "outputs": [],
   "source": [
    "=PY(\n",
    "img = qrcode.make(\"Data\", image_factory=None, box_size=10, border=4)\n",
    "img = img.convert(\"RGB\")\n",
    "pixels = img.load()\n",
    "for y in range(img.size[1]):\n",
    "    for x in range(img.size[0]):\n",
    "        if pixels[x,y] == (0,0,0):\n",
    "            pixels[x,y] = (255,0,0)\n",
    "        else:\n",
    "            pixels[x,y] = (255,255,0)\n",
    "img\n",
    ")"
   ]
  },
  {
   "cell_type": "markdown",
   "id": "7f8987e2",
   "metadata": {},
   "source": [
    "This replaces black modules with red and white background with yellow[^32_1].\n",
    "\n",
    "## 5. Automating QR-Code Workflows\n",
    "\n",
    "- **Batch Generation**: Loop through a column of URLs and save each QR image to a file named after row index.\n",
    "- **Dynamic Updates**: Bind QR formulas to named Excel ranges so codes refresh when input data changes.\n",
    "- **Dashboard Integration**: Display QR images over cells next to product listings or URLs for immediate scanning within reports.\n",
    "\n",
    "\n",
    "## 6. Best Practices\n",
    "\n",
    "- **Import Once**: Place `import qrcode` on the first worksheet to avoid redundant imports and ensure performance.\n",
    "- **Error Handling**: Wrap generation in try/except blocks to handle invalid input strings gracefully.\n",
    "- **File Management**: Use unique filenames or timestamped names when saving images to avoid collisions in cloud storage.\n",
    "- **Output Mode**: Use Excel’s “Display Plot over Cells” to adjust size and alignment of QR images within the grid.\n",
    "\n",
    "By embedding the `qrcode` library into Python in Excel, you streamline QR-code creation, customization, and automation—all within your familiar spreadsheet environment.\n",
    "\n",
    "<div style=\"text-align: center\">⁂</div>\n",
    "\n",
    "[^32_1]: https://pypi.org/project/qrcode/\n",
    "[^32_2]: https://segno.readthedocs.io/en/stable/comparison-qrcode-libs.html\n",
    "[^32_3]: https://realpython.com/python-generate-qr-code/\n",
    "[^32_4]: https://www.codedex.io/projects/generate-a-qr-code-with-python\n",
    "[^32_5]: https://pypi.org/project/PyQRCode/\n",
    "[^32_6]: https://www.twilio.com/en-us/blog/generate-qr-code-with-python\n",
    "[^32_7]: https://medium.datadriveninvestor.com/unlocking-secrets-with-python-the-qr-code-adventure-4bcb4fc493d8?gi=80f4124030ab\n",
    "[^32_8]: https://codeforgeek.com/creating-qr-codes-using-qrcode/\n",
    "[^32_9]: https://realpython.com/lessons/generating-qr-codes/\n",
    "[^32_10]: https://www.youtube.com/watch?v=i3yvPzp1vHE"
   ]
  }
 ],
 "metadata": {},
 "nbformat": 4,
 "nbformat_minor": 5
}
