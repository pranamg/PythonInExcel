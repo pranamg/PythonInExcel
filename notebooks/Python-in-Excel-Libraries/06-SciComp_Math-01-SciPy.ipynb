{
 "cells": [
  {
   "cell_type": "markdown",
   "id": "d6e27ba6",
   "metadata": {},
   "source": [
    "# Leveraging SciPy in Python in Excel\n",
    "\n",
    "SciPy is a comprehensive library for scientific and technical computing, providing advanced mathematical, statistical, and optimization routines. With Python in Excel, you can use SciPy for tasks such as numerical integration, optimization, interpolation, and advanced statistics directly within your spreadsheets.\n",
    "\n",
    "## 1. Setup and Imports\n",
    "\n",
    "To use SciPy, reserve the first worksheet for import statements:"
   ]
  },
  {
   "cell_type": "code",
   "execution_count": null,
   "id": "97838dcf",
   "metadata": {},
   "outputs": [],
   "source": [
    "=PY(\n",
    "import scipy\n",
    "from scipy import stats, optimize, integrate, interpolate\n",
    ")"
   ]
  },
  {
   "cell_type": "markdown",
   "id": "7afb7759",
   "metadata": {},
   "source": [
    "This makes the main SciPy modules available for all subsequent Python cells.\n",
    "\n",
    "## 2. Statistical Analysis\n",
    "\n",
    "- **t-Test:**"
   ]
  },
  {
   "cell_type": "code",
   "execution_count": null,
   "id": "5bb3417e",
   "metadata": {},
   "outputs": [],
   "source": [
    "=PY(\n",
    "x1 = xl(\"Group1[Value]\")\n",
    "x2 = xl(\"Group2[Value]\")\n",
    "t_stat, p_val = stats.ttest_ind(x1, x2)\n",
    "(t_stat, p_val)\n",
    ")"
   ]
  },
  {
   "cell_type": "markdown",
   "id": "6037468c",
   "metadata": {},
   "source": [
    "- **ANOVA:**"
   ]
  },
  {
   "cell_type": "code",
   "execution_count": null,
   "id": "c8a9bf5c",
   "metadata": {},
   "outputs": [],
   "source": [
    "=PY(\n",
    "x1 = xl(\"Group1[Value]\")\n",
    "x2 = xl(\"Group2[Value]\")\n",
    "x3 = xl(\"Group3[Value]\")\n",
    "f_stat, p_val = stats.f_oneway(x1, x2, x3)\n",
    "(f_stat, p_val)\n",
    ")"
   ]
  },
  {
   "cell_type": "markdown",
   "id": "9cd69704",
   "metadata": {},
   "source": [
    "## 3. Optimization\n",
    "\n",
    "- **Minimize a function:**"
   ]
  },
  {
   "cell_type": "code",
   "execution_count": null,
   "id": "7a83f2b5",
   "metadata": {},
   "outputs": [],
   "source": [
    "=PY(\n",
    "result = optimize.minimize(lambda x: x**2 + 3*x + 2, x0=0)\n",
    "result.x\n",
    ")"
   ]
  },
  {
   "cell_type": "markdown",
   "id": "5ec35e6f",
   "metadata": {},
   "source": [
    "## 4. Numerical Integration\n",
    "\n",
    "- **Integrate a function:**"
   ]
  },
  {
   "cell_type": "code",
   "execution_count": null,
   "id": "6bfc2806",
   "metadata": {},
   "outputs": [],
   "source": [
    "=PY(\n",
    "area, err = integrate.quad(lambda x: x**2, 0, 1)\n",
    "area\n",
    ")"
   ]
  },
  {
   "cell_type": "markdown",
   "id": "8c4e1ef7",
   "metadata": {},
   "source": [
    "## 5. Interpolation\n",
    "\n",
    "- **1D Interpolation:**"
   ]
  },
  {
   "cell_type": "code",
   "execution_count": null,
   "id": "803a9e11",
   "metadata": {},
   "outputs": [],
   "source": [
    "=PY(\n",
    "import numpy as np\n",
    "x = np.array([0, 1, 2, 3, 4])\n",
    "y = np.array([0, 1, 4, 9, 16])\n",
    "interp = interpolate.interp1d(x, y)\n",
    "interp(2.5)\n",
    ")"
   ]
  },
  {
   "cell_type": "markdown",
   "id": "2e624ea5",
   "metadata": {},
   "source": [
    "## 6. Best Practices\n",
    "\n",
    "- **Imports Once**: Place all import statements on the first worksheet.\n",
    "- **Data Preparation**: Clean and structure data before analysis.\n",
    "- **Output Management**: Return scalar values, arrays, or DataFrames for review in Excel.\n",
    "- **Performance**: For large computations, sample or preprocess data to maintain responsiveness.\n",
    "\n",
    "By leveraging SciPy in Python in Excel, you can perform advanced scientific and statistical computations directly in your spreadsheets, making powerful analytics accessible to all Excel users."
   ]
  }
 ],
 "metadata": {},
 "nbformat": 4,
 "nbformat_minor": 5
}
