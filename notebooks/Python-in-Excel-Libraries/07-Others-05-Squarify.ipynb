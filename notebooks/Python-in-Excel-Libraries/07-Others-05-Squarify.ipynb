{
 "cells": [
  {
   "cell_type": "markdown",
   "id": "8bf44b65",
   "metadata": {},
   "source": [
    "# Leveraging Squarify in Python in Excel\n",
    "\n",
    "Squarify is a Python library for creating treemap visualizations, which display hierarchical data as nested rectangles. With Python in Excel, you can use Squarify to generate treemaps for visualizing proportions and part-to-whole relationships directly within your spreadsheets.\n",
    "\n",
    "## 1. Setup and Imports\n",
    "\n",
    "To use Squarify, reserve the first worksheet for import statements:"
   ]
  },
  {
   "cell_type": "code",
   "execution_count": null,
   "id": "4c0936a8",
   "metadata": {},
   "outputs": [],
   "source": [
    "=PY(\n",
    "import squarify\n",
    "import matplotlib.pyplot as plt\n",
    ")"
   ]
  },
  {
   "cell_type": "markdown",
   "id": "d167229a",
   "metadata": {},
   "source": [
    "This makes the Squarify and Matplotlib libraries available for all subsequent Python cells.\n",
    "\n",
    "## 2. Creating a Treemap\n",
    "\n",
    "- **Basic treemap:**"
   ]
  },
  {
   "cell_type": "code",
   "execution_count": null,
   "id": "3ca2cfae",
   "metadata": {},
   "outputs": [],
   "source": [
    "=PY(\n",
    "values = [500, 300, 200, 100]\n",
    "labels = [\"A\", \"B\", \"C\", \"D\"]\n",
    "colors = [\"#ffe600\", \"#188ce5\", \"#2db757\", \"#ff4136\"]\n",
    "plt.figure(figsize=(6, 4))\n",
    "squarify.plot(sizes=values, label=labels, color=colors, alpha=0.8)\n",
    "plt.axis('off')\n",
    "plt.show()\n",
    ")"
   ]
  },
  {
   "cell_type": "markdown",
   "id": "e9d20226",
   "metadata": {},
   "source": [
    "- **Treemap from Excel data:**"
   ]
  },
  {
   "cell_type": "code",
   "execution_count": null,
   "id": "86d58b5a",
   "metadata": {},
   "outputs": [],
   "source": [
    "=PY(\n",
    "import pandas as pd\n",
    "df = xl(\"SalesData[#All]\", headers=True)\n",
    "plt.figure(figsize=(8, 5))\n",
    "squarify.plot(sizes=df['Sales'], label=df['Category'], alpha=0.7)\n",
    "plt.axis('off')\n",
    "plt.show()\n",
    ")"
   ]
  },
  {
   "cell_type": "markdown",
   "id": "f6285260",
   "metadata": {},
   "source": [
    "## 3. Customization\n",
    "\n",
    "- **Change color palette:**"
   ]
  },
  {
   "cell_type": "code",
   "execution_count": null,
   "id": "f2cb6392",
   "metadata": {},
   "outputs": [],
   "source": [
    "=PY(\n",
    "colors = plt.cm.viridis([0.2, 0.4, 0.6, 0.8])\n",
    "squarify.plot(sizes=values, color=colors)\n",
    "plt.show()\n",
    ")"
   ]
  },
  {
   "cell_type": "markdown",
   "id": "9cf6aad3",
   "metadata": {},
   "source": [
    "## 4. Best Practices\n",
    "\n",
    "- **Imports Once**: Place all import statements on the first worksheet.\n",
    "- **Data Preparation**: Clean and structure data before plotting.\n",
    "- **Output Management**: Use `plt.show()` to display the treemap in Excel.\n",
    "- **Performance**: For large datasets, sample or aggregate data to maintain responsiveness.\n",
    "\n",
    "By leveraging Squarify in Python in Excel, you can create clear, informative treemaps for visualizing hierarchical and proportional data within your spreadsheets."
   ]
  }
 ],
 "metadata": {},
 "nbformat": 4,
 "nbformat_minor": 5
}
