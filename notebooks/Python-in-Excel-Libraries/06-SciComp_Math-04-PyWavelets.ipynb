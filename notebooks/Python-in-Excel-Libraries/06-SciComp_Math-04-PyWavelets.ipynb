{
 "cells": [
  {
   "cell_type": "markdown",
   "id": "927e3646",
   "metadata": {},
   "source": [
    "# Leveraging PyWavelets in Python in Excel\n",
    "\n",
    "PyWavelets is an open-source library for wavelet transforms in Python, seamlessly accessible within Excel’s **Python in Excel** feature via the `=PY()` formula and the `xl()` data–reference function. Using PyWavelets, analysts can perform time-frequency analysis, denoise signals, and extract features directly in spreadsheet cells without external tools [^33_1].\n",
    "\n",
    "## 1. Setup and Imports\n",
    "\n",
    "On the first worksheet, import PyWavelets and supporting libraries so these are available workbook-wide:"
   ]
  },
  {
   "cell_type": "code",
   "execution_count": null,
   "id": "8024c40a",
   "metadata": {},
   "outputs": [],
   "source": [
    "=PY(\n",
    "import pywt\n",
    "import numpy as np\n",
    ")"
   ]
  },
  {
   "cell_type": "markdown",
   "id": "a2d99e2d",
   "metadata": {},
   "source": [
    "This ensures `pywt` and `np` are loaded before any dependent formulas [^33_1].\n",
    "\n",
    "## 2. Referencing Excel Data\n",
    "\n",
    "Use `xl()` to bring ranges or table columns into Python structures suitable for wavelet analysis:\n",
    "\n",
    "- Single range with headers: `xl(\"A1:A256\", headers=True)`\n",
    "- Table column: `xl(\"SignalTable[Value]\")`\n",
    "- Multi-dimensional array: `xl(\"ImageData[#All]\", headers=True).to_numpy()`\n",
    "\n",
    "These calls return NumPy arrays or pandas objects compatible with PyWavelets [^33_1].\n",
    "\n",
    "## 3. Discrete Wavelet Transform (DWT)\n",
    "\n",
    "### 3.1 Single-Level DWT\n",
    "\n",
    "Compute approximation (`cA`) and detail (`cD`) coefficients in one step:"
   ]
  },
  {
   "cell_type": "code",
   "execution_count": null,
   "id": "e74733b7",
   "metadata": {},
   "outputs": [],
   "source": [
    "=PY(\n",
    "signal = xl(\"Signal[Value]\")\n",
    "cA, cD = pywt.dwt(signal, 'db4')\n",
    "pd.DataFrame({'Approx':cA, 'Detail':cD})\n",
    ")"
   ]
  },
  {
   "cell_type": "markdown",
   "id": "c96c4576",
   "metadata": {},
   "source": [
    "This decomposes the signal using Daubechies-4 wavelet, spilling coefficients into Excel [^33_1].\n",
    "\n",
    "### 3.2 Inverse DWT\n",
    "\n",
    "Reconstruct the original signal from coefficients:"
   ]
  },
  {
   "cell_type": "code",
   "execution_count": null,
   "id": "0fcb15fd",
   "metadata": {},
   "outputs": [],
   "source": [
    "=PY(\n",
    "recon = pywt.idwt(cA, cD, 'db4')\n",
    "recon\n",
    ")"
   ]
  },
  {
   "cell_type": "markdown",
   "id": "7b5145b5",
   "metadata": {},
   "source": [
    "This returns the reconstructed array, allowing error checks or denoised output insertion [^33_1].\n",
    "\n",
    "## 4. Multilevel Decomposition\n",
    "\n",
    "### 4.1 `wavedec` and `waverec`\n",
    "\n",
    "Perform multi-level DWT and reconstruction:"
   ]
  },
  {
   "cell_type": "code",
   "execution_count": null,
   "id": "5411e0ba",
   "metadata": {},
   "outputs": [],
   "source": [
    "=PY(\n",
    "coeffs = pywt.wavedec(signal, 'sym5', level=3)\n",
    "reconstructed = pywt.waverec(coeffs, 'sym5')\n",
    ")"
   ]
  },
  {
   "cell_type": "markdown",
   "id": "a749a249",
   "metadata": {},
   "source": [
    "Here, `wavedec` returns a list of detail coefficients plus final approximation; `waverec` rebuilds the signal [^33_2].\n",
    "\n",
    "### 4.2 Table of Coefficients\n",
    "\n",
    "Visualize all levels in a table:"
   ]
  },
  {
   "cell_type": "code",
   "execution_count": null,
   "id": "e0cdb4cd",
   "metadata": {},
   "outputs": [],
   "source": [
    "=PY(\n",
    "levels = {f'cD{i}': coeffs[i] for i in range(1,4)}\n",
    "levels['cA3'] = coeffs[0]\n",
    "pd.DataFrame(levels)\n",
    ")"
   ]
  },
  {
   "cell_type": "markdown",
   "id": "bcfd95a9",
   "metadata": {},
   "source": [
    "This spills each coefficient array into adjacent columns for inspection [^33_2].\n",
    "\n",
    "## 5. Stationary Wavelet Transform (SWT)\n",
    "\n",
    "Compute an undecimated transform that preserves length:"
   ]
  },
  {
   "cell_type": "code",
   "execution_count": null,
   "id": "69c78892",
   "metadata": {},
   "outputs": [],
   "source": [
    "=PY(\n",
    "swc = pywt.swt(signal, 'haar', level=2)\n",
    ")"
   ]
  },
  {
   "cell_type": "markdown",
   "id": "a5a6e5c4",
   "metadata": {},
   "source": [
    "`swc` is a list of `(cA, cD)` pairs for each level, useful for shift-invariant analysis [^33_1].\n",
    "\n",
    "## 6. Continuous Wavelet Transform (CWT)\n",
    "\n",
    "Generate scaleograms to inspect time-frequency content:"
   ]
  },
  {
   "cell_type": "code",
   "execution_count": null,
   "id": "189faf2f",
   "metadata": {},
   "outputs": [],
   "source": [
    "=PY(\n",
    "widths = np.arange(1, 64)\n",
    "cwtmatr, freqs = pywt.cwt(signal, widths, 'morl', sampling_period=1.0)\n",
    "pd.DataFrame(cwtmatr)\n",
    ")"
   ]
  },
  {
   "cell_type": "markdown",
   "id": "ad06e182",
   "metadata": {},
   "source": [
    "This returns a 2D array of CWT coefficients (scales × time) for visualization via Excel charts [^33_2].\n",
    "\n",
    "## 7. Practical Use Cases in Excel\n",
    "\n",
    "- **Signal Denoising**: Threshold detail coefficients from `wavedec`, reconstruct clean signal with `waverec` [^33_1].\n",
    "- **Feature Extraction**: Use multi-level DWT coefficients as inputs to machine learning models in Excel [^33_1].\n",
    "- **Anomaly Detection**: Monitor high-frequency detail coefficients (`cD1`) for spikes indicative of transient events [^33_1].\n",
    "- **Image Processing**: Apply 2D DWT (`dwt2`/`wavedec2`) on image ranges loaded via `xl()` for compression or feature maps [^33_1].\n",
    "\n",
    "\n",
    "## 8. Best Practices\n",
    "\n",
    "- **Imports on First Sheet**: Consolidate all `import pywt` statements to ensure persistence.\n",
    "- **Data Conversion**: Convert DataFrame outputs to NumPy arrays via `.to_numpy()` if needed.\n",
    "- **Output Modes**: Use **Excel Values** output to spill coefficient arrays; keep Python Objects for in-memory processing.\n",
    "- **Wavelet Selection**: Choose wavelets (`'db'`, `'sym'`, `'coif'`, `'bior'`) based on signal characteristics for optimal performance [^33_1].\n",
    "\n",
    "By following these steps, you can harness PyWavelets’ extensive wavelet-analysis capabilities directly in Python in Excel—streamlining signal processing, feature engineering, and advanced analytics within your familiar spreadsheet environment.\n",
    "\n",
    "<div style=\"text-align: center\">⁂</div>\n",
    "\n",
    "[^33_1]: https://pywavelets.readthedocs.io\n",
    "[^33_2]: https://pywavelets.readthedocs.io/en/latest/ref/cwt.html\n",
    "[^33_3]: https://pypi.org/project/PyWavelets/\n",
    "[^33_4]: https://github.com/PyWavelets/pywt\n",
    "[^33_5]: https://pypi.org/project/PyWavelets/0.2.2/\n",
    "[^33_6]: https://gitee.com/mirrors_holgern/pywt?skip_mobile=true\n",
    "[^33_7]: https://pywavelets.readthedocs.io/en/latest/ref/wavelets.html\n",
    "[^33_8]: https://www.programcreek.com/python/example/127934/pywt.dwt\n",
    "[^33_9]: https://wenku.csdn.net/answer/0b5e2154677642ebb6392a184a6988c6\n",
    "[^33_10]: https://github.com/PyWavelets"
   ]
  }
 ],
 "metadata": {},
 "nbformat": 4,
 "nbformat_minor": 5
}
